{
 "cells": [
  {
   "cell_type": "markdown",
   "metadata": {},
   "source": [
    "# PCA with Supervised Algorithms"
   ]
  },
  {
   "cell_type": "markdown",
   "metadata": {},
   "source": [
    "## Imports"
   ]
  },
  {
   "cell_type": "code",
   "execution_count": 2,
   "metadata": {},
   "outputs": [],
   "source": [
    "import numpy as np\n",
    "import matplotlib.pyplot as plt\n",
    "import pandas as pd\n",
    "import warnings\n",
    "warnings.filterwarnings(\"ignore\")\n",
    "from sklearn.preprocessing import StandardScaler\n",
    "from sklearn.decomposition import PCA\n",
    "import seaborn as sns\n",
    "from matplotlib.pyplot import matplotlib\n",
    "plt.rcParams[\"figure.figsize\"] = (10,6)"
   ]
  },
  {
   "cell_type": "code",
   "execution_count": 3,
   "metadata": {},
   "outputs": [],
   "source": [
    "df = pd.read_csv(\"Wine.csv\")"
   ]
  },
  {
   "cell_type": "code",
   "execution_count": 24,
   "metadata": {},
   "outputs": [
    {
     "data": {
      "text/html": [
       "<div>\n",
       "<style scoped>\n",
       "    .dataframe tbody tr th:only-of-type {\n",
       "        vertical-align: middle;\n",
       "    }\n",
       "\n",
       "    .dataframe tbody tr th {\n",
       "        vertical-align: top;\n",
       "    }\n",
       "\n",
       "    .dataframe thead th {\n",
       "        text-align: right;\n",
       "    }\n",
       "</style>\n",
       "<table border=\"1\" class=\"dataframe\">\n",
       "  <thead>\n",
       "    <tr style=\"text-align: right;\">\n",
       "      <th></th>\n",
       "      <th>Alcohol</th>\n",
       "      <th>Malic_Acid</th>\n",
       "      <th>Ash</th>\n",
       "      <th>Ash_Alcanity</th>\n",
       "      <th>Magnesium</th>\n",
       "      <th>Total_Phenols</th>\n",
       "      <th>Flavanoids</th>\n",
       "      <th>Nonflavanoid_Phenols</th>\n",
       "      <th>Proanthocyanins</th>\n",
       "      <th>Color_Intensity</th>\n",
       "      <th>Hue</th>\n",
       "      <th>OD280</th>\n",
       "      <th>Proline</th>\n",
       "      <th>Customer_Segment</th>\n",
       "    </tr>\n",
       "  </thead>\n",
       "  <tbody>\n",
       "    <tr>\n",
       "      <th>0</th>\n",
       "      <td>14.23</td>\n",
       "      <td>1.71</td>\n",
       "      <td>2.43</td>\n",
       "      <td>15.6</td>\n",
       "      <td>127</td>\n",
       "      <td>2.80</td>\n",
       "      <td>3.06</td>\n",
       "      <td>0.28</td>\n",
       "      <td>2.29</td>\n",
       "      <td>5.64</td>\n",
       "      <td>1.04</td>\n",
       "      <td>3.92</td>\n",
       "      <td>1065</td>\n",
       "      <td>1</td>\n",
       "    </tr>\n",
       "    <tr>\n",
       "      <th>1</th>\n",
       "      <td>13.20</td>\n",
       "      <td>1.78</td>\n",
       "      <td>2.14</td>\n",
       "      <td>11.2</td>\n",
       "      <td>100</td>\n",
       "      <td>2.65</td>\n",
       "      <td>2.76</td>\n",
       "      <td>0.26</td>\n",
       "      <td>1.28</td>\n",
       "      <td>4.38</td>\n",
       "      <td>1.05</td>\n",
       "      <td>3.40</td>\n",
       "      <td>1050</td>\n",
       "      <td>1</td>\n",
       "    </tr>\n",
       "    <tr>\n",
       "      <th>2</th>\n",
       "      <td>13.16</td>\n",
       "      <td>2.36</td>\n",
       "      <td>2.67</td>\n",
       "      <td>18.6</td>\n",
       "      <td>101</td>\n",
       "      <td>2.80</td>\n",
       "      <td>3.24</td>\n",
       "      <td>0.30</td>\n",
       "      <td>2.81</td>\n",
       "      <td>5.68</td>\n",
       "      <td>1.03</td>\n",
       "      <td>3.17</td>\n",
       "      <td>1185</td>\n",
       "      <td>1</td>\n",
       "    </tr>\n",
       "    <tr>\n",
       "      <th>3</th>\n",
       "      <td>14.37</td>\n",
       "      <td>1.95</td>\n",
       "      <td>2.50</td>\n",
       "      <td>16.8</td>\n",
       "      <td>113</td>\n",
       "      <td>3.85</td>\n",
       "      <td>3.49</td>\n",
       "      <td>0.24</td>\n",
       "      <td>2.18</td>\n",
       "      <td>7.80</td>\n",
       "      <td>0.86</td>\n",
       "      <td>3.45</td>\n",
       "      <td>1480</td>\n",
       "      <td>1</td>\n",
       "    </tr>\n",
       "    <tr>\n",
       "      <th>4</th>\n",
       "      <td>13.24</td>\n",
       "      <td>2.59</td>\n",
       "      <td>2.87</td>\n",
       "      <td>21.0</td>\n",
       "      <td>118</td>\n",
       "      <td>2.80</td>\n",
       "      <td>2.69</td>\n",
       "      <td>0.39</td>\n",
       "      <td>1.82</td>\n",
       "      <td>4.32</td>\n",
       "      <td>1.04</td>\n",
       "      <td>2.93</td>\n",
       "      <td>735</td>\n",
       "      <td>1</td>\n",
       "    </tr>\n",
       "  </tbody>\n",
       "</table>\n",
       "</div>"
      ],
      "text/plain": [
       "   Alcohol  Malic_Acid   Ash  Ash_Alcanity  Magnesium  Total_Phenols  \\\n",
       "0    14.23        1.71  2.43          15.6        127           2.80   \n",
       "1    13.20        1.78  2.14          11.2        100           2.65   \n",
       "2    13.16        2.36  2.67          18.6        101           2.80   \n",
       "3    14.37        1.95  2.50          16.8        113           3.85   \n",
       "4    13.24        2.59  2.87          21.0        118           2.80   \n",
       "\n",
       "   Flavanoids  Nonflavanoid_Phenols  Proanthocyanins  Color_Intensity   Hue  \\\n",
       "0        3.06                  0.28             2.29             5.64  1.04   \n",
       "1        2.76                  0.26             1.28             4.38  1.05   \n",
       "2        3.24                  0.30             2.81             5.68  1.03   \n",
       "3        3.49                  0.24             2.18             7.80  0.86   \n",
       "4        2.69                  0.39             1.82             4.32  1.04   \n",
       "\n",
       "   OD280  Proline  Customer_Segment  \n",
       "0   3.92     1065                 1  \n",
       "1   3.40     1050                 1  \n",
       "2   3.17     1185                 1  \n",
       "3   3.45     1480                 1  \n",
       "4   2.93      735                 1  "
      ]
     },
     "execution_count": 24,
     "metadata": {},
     "output_type": "execute_result"
    }
   ],
   "source": [
    "df.head()"
   ]
  },
  {
   "cell_type": "code",
   "execution_count": null,
   "metadata": {},
   "outputs": [],
   "source": [
    "#müsteri kaliteli, kalitesiz ve orta kalite diye ayirmis"
   ]
  },
  {
   "cell_type": "code",
   "execution_count": 4,
   "metadata": {},
   "outputs": [
    {
     "data": {
      "text/plain": [
       "(178, 14)"
      ]
     },
     "execution_count": 4,
     "metadata": {},
     "output_type": "execute_result"
    }
   ],
   "source": [
    "df.shape"
   ]
  },
  {
   "cell_type": "code",
   "execution_count": 5,
   "metadata": {},
   "outputs": [
    {
     "data": {
      "text/plain": [
       "array([1, 2, 3], dtype=int64)"
      ]
     },
     "execution_count": 5,
     "metadata": {},
     "output_type": "execute_result"
    }
   ],
   "source": [
    "df.Customer_Segment.unique()"
   ]
  },
  {
   "cell_type": "code",
   "execution_count": 6,
   "metadata": {},
   "outputs": [
    {
     "data": {
      "text/plain": [
       "2    71\n",
       "1    59\n",
       "3    48\n",
       "Name: Customer_Segment, dtype: int64"
      ]
     },
     "execution_count": 6,
     "metadata": {},
     "output_type": "execute_result"
    }
   ],
   "source": [
    "df.Customer_Segment.value_counts()  #1 kaliteli, 3 kalitesiz dedik"
   ]
  },
  {
   "cell_type": "code",
   "execution_count": 7,
   "metadata": {},
   "outputs": [],
   "source": [
    "df[\"Customer_Segment\"] = df.Customer_Segment.map({3:1, 2:2, 1:3})"
   ]
  },
  {
   "cell_type": "code",
   "execution_count": 8,
   "metadata": {},
   "outputs": [
    {
     "data": {
      "text/plain": [
       "2    71\n",
       "3    59\n",
       "1    48\n",
       "Name: Customer_Segment, dtype: int64"
      ]
     },
     "execution_count": 8,
     "metadata": {},
     "output_type": "execute_result"
    }
   ],
   "source": [
    "df.Customer_Segment.value_counts()"
   ]
  },
  {
   "cell_type": "code",
   "execution_count": 9,
   "metadata": {},
   "outputs": [
    {
     "data": {
      "image/png": "[encoded data removed]",
      "text/plain": [
       "<Figure size 720x432 with 1 Axes>"
      ]
     },
     "metadata": {
      "needs_background": "light"
     },
     "output_type": "display_data"
    }
   ],
   "source": [
    "ax = df.Customer_Segment.value_counts().plot.bar()\n",
    "ax.bar_label(ax.containers[0]);"
   ]
  },
  {
   "cell_type": "code",
   "execution_count": 10,
   "metadata": {},
   "outputs": [
    {
     "data": {
      "text/html": [
       "<div>\n",
       "<style scoped>\n",
       "    .dataframe tbody tr th:only-of-type {\n",
       "        vertical-align: middle;\n",
       "    }\n",
       "\n",
       "    .dataframe tbody tr th {\n",
       "        vertical-align: top;\n",
       "    }\n",
       "\n",
       "    .dataframe thead th {\n",
       "        text-align: right;\n",
       "    }\n",
       "</style>\n",
       "<table border=\"1\" class=\"dataframe\">\n",
       "  <thead>\n",
       "    <tr style=\"text-align: right;\">\n",
       "      <th></th>\n",
       "      <th>Alcohol</th>\n",
       "      <th>Malic_Acid</th>\n",
       "      <th>Ash</th>\n",
       "      <th>Ash_Alcanity</th>\n",
       "      <th>Magnesium</th>\n",
       "      <th>Total_Phenols</th>\n",
       "      <th>Flavanoids</th>\n",
       "      <th>Nonflavanoid_Phenols</th>\n",
       "      <th>Proanthocyanins</th>\n",
       "      <th>Color_Intensity</th>\n",
       "      <th>Hue</th>\n",
       "      <th>OD280</th>\n",
       "      <th>Proline</th>\n",
       "      <th>Customer_Segment</th>\n",
       "    </tr>\n",
       "  </thead>\n",
       "  <tbody>\n",
       "    <tr>\n",
       "      <th>count</th>\n",
       "      <td>178.000000</td>\n",
       "      <td>178.000000</td>\n",
       "      <td>178.000000</td>\n",
       "      <td>178.000000</td>\n",
       "      <td>178.000000</td>\n",
       "      <td>178.000000</td>\n",
       "      <td>178.000000</td>\n",
       "      <td>178.000000</td>\n",
       "      <td>178.000000</td>\n",
       "      <td>178.000000</td>\n",
       "      <td>178.000000</td>\n",
       "      <td>178.000000</td>\n",
       "      <td>178.000000</td>\n",
       "      <td>178.000000</td>\n",
       "    </tr>\n",
       "    <tr>\n",
       "      <th>mean</th>\n",
       "      <td>13.000618</td>\n",
       "      <td>2.336348</td>\n",
       "      <td>2.366517</td>\n",
       "      <td>19.494944</td>\n",
       "      <td>99.741573</td>\n",
       "      <td>2.295112</td>\n",
       "      <td>2.029270</td>\n",
       "      <td>0.361854</td>\n",
       "      <td>1.590899</td>\n",
       "      <td>5.058090</td>\n",
       "      <td>0.957449</td>\n",
       "      <td>2.611685</td>\n",
       "      <td>746.893258</td>\n",
       "      <td>2.061798</td>\n",
       "    </tr>\n",
       "    <tr>\n",
       "      <th>std</th>\n",
       "      <td>0.811827</td>\n",
       "      <td>1.117146</td>\n",
       "      <td>0.274344</td>\n",
       "      <td>3.339564</td>\n",
       "      <td>14.282484</td>\n",
       "      <td>0.625851</td>\n",
       "      <td>0.998859</td>\n",
       "      <td>0.124453</td>\n",
       "      <td>0.572359</td>\n",
       "      <td>2.318286</td>\n",
       "      <td>0.228572</td>\n",
       "      <td>0.709990</td>\n",
       "      <td>314.907474</td>\n",
       "      <td>0.775035</td>\n",
       "    </tr>\n",
       "    <tr>\n",
       "      <th>min</th>\n",
       "      <td>11.030000</td>\n",
       "      <td>0.740000</td>\n",
       "      <td>1.360000</td>\n",
       "      <td>10.600000</td>\n",
       "      <td>70.000000</td>\n",
       "      <td>0.980000</td>\n",
       "      <td>0.340000</td>\n",
       "      <td>0.130000</td>\n",
       "      <td>0.410000</td>\n",
       "      <td>1.280000</td>\n",
       "      <td>0.480000</td>\n",
       "      <td>1.270000</td>\n",
       "      <td>278.000000</td>\n",
       "      <td>1.000000</td>\n",
       "    </tr>\n",
       "    <tr>\n",
       "      <th>25%</th>\n",
       "      <td>12.362500</td>\n",
       "      <td>1.602500</td>\n",
       "      <td>2.210000</td>\n",
       "      <td>17.200000</td>\n",
       "      <td>88.000000</td>\n",
       "      <td>1.742500</td>\n",
       "      <td>1.205000</td>\n",
       "      <td>0.270000</td>\n",
       "      <td>1.250000</td>\n",
       "      <td>3.220000</td>\n",
       "      <td>0.782500</td>\n",
       "      <td>1.937500</td>\n",
       "      <td>500.500000</td>\n",
       "      <td>1.000000</td>\n",
       "    </tr>\n",
       "    <tr>\n",
       "      <th>50%</th>\n",
       "      <td>13.050000</td>\n",
       "      <td>1.865000</td>\n",
       "      <td>2.360000</td>\n",
       "      <td>19.500000</td>\n",
       "      <td>98.000000</td>\n",
       "      <td>2.355000</td>\n",
       "      <td>2.135000</td>\n",
       "      <td>0.340000</td>\n",
       "      <td>1.555000</td>\n",
       "      <td>4.690000</td>\n",
       "      <td>0.965000</td>\n",
       "      <td>2.780000</td>\n",
       "      <td>673.500000</td>\n",
       "      <td>2.000000</td>\n",
       "    </tr>\n",
       "    <tr>\n",
       "      <th>75%</th>\n",
       "      <td>13.677500</td>\n",
       "      <td>3.082500</td>\n",
       "      <td>2.557500</td>\n",
       "      <td>21.500000</td>\n",
       "      <td>107.000000</td>\n",
       "      <td>2.800000</td>\n",
       "      <td>2.875000</td>\n",
       "      <td>0.437500</td>\n",
       "      <td>1.950000</td>\n",
       "      <td>6.200000</td>\n",
       "      <td>1.120000</td>\n",
       "      <td>3.170000</td>\n",
       "      <td>985.000000</td>\n",
       "      <td>3.000000</td>\n",
       "    </tr>\n",
       "    <tr>\n",
       "      <th>max</th>\n",
       "      <td>14.830000</td>\n",
       "      <td>5.800000</td>\n",
       "      <td>3.230000</td>\n",
       "      <td>30.000000</td>\n",
       "      <td>162.000000</td>\n",
       "      <td>3.880000</td>\n",
       "      <td>5.080000</td>\n",
       "      <td>0.660000</td>\n",
       "      <td>3.580000</td>\n",
       "      <td>13.000000</td>\n",
       "      <td>1.710000</td>\n",
       "      <td>4.000000</td>\n",
       "      <td>1680.000000</td>\n",
       "      <td>3.000000</td>\n",
       "    </tr>\n",
       "  </tbody>\n",
       "</table>\n",
       "</div>"
      ],
      "text/plain": [
       "          Alcohol  Malic_Acid         Ash  Ash_Alcanity   Magnesium  \\\n",
       "count  178.000000  178.000000  178.000000    178.000000  178.000000   \n",
       "mean    13.000618    2.336348    2.366517     19.494944   99.741573   \n",
       "std      0.811827    1.117146    0.274344      3.339564   14.282484   \n",
       "min     11.030000    0.740000    1.360000     10.600000   70.000000   \n",
       "25%     12.362500    1.602500    2.210000     17.200000   88.000000   \n",
       "50%     13.050000    1.865000    2.360000     19.500000   98.000000   \n",
       "75%     13.677500    3.082500    2.557500     21.500000  107.000000   \n",
       "max     14.830000    5.800000    3.230000     30.000000  162.000000   \n",
       "\n",
       "       Total_Phenols  Flavanoids  Nonflavanoid_Phenols  Proanthocyanins  \\\n",
       "count     178.000000  178.000000            178.000000       178.000000   \n",
       "mean        2.295112    2.029270              0.361854         1.590899   \n",
       "std         0.625851    0.998859              0.124453         0.572359   \n",
       "min         0.980000    0.340000              0.130000         0.410000   \n",
       "25%         1.742500    1.205000              0.270000         1.250000   \n",
       "50%         2.355000    2.135000              0.340000         1.555000   \n",
       "75%         2.800000    2.875000              0.437500         1.950000   \n",
       "max         3.880000    5.080000              0.660000         3.580000   \n",
       "\n",
       "       Color_Intensity         Hue       OD280      Proline  Customer_Segment  \n",
       "count       178.000000  178.000000  178.000000   178.000000        178.000000  \n",
       "mean          5.058090    0.957449    2.611685   746.893258          2.061798  \n",
       "std           2.318286    0.228572    0.709990   314.907474          0.775035  \n",
       "min           1.280000    0.480000    1.270000   278.000000          1.000000  \n",
       "25%           3.220000    0.782500    1.937500   500.500000          1.000000  \n",
       "50%           4.690000    0.965000    2.780000   673.500000          2.000000  \n",
       "75%           6.200000    1.120000    3.170000   985.000000          3.000000  \n",
       "max          13.000000    1.710000    4.000000  1680.000000          3.000000  "
      ]
     },
     "execution_count": 10,
     "metadata": {},
     "output_type": "execute_result"
    }
   ],
   "source": [
    "df.describe()"
   ]
  },
  {
   "cell_type": "code",
   "execution_count": 11,
   "metadata": {},
   "outputs": [
    {
     "data": {
      "text/plain": [
       "<AxesSubplot:>"
      ]
     },
     "execution_count": 11,
     "metadata": {},
     "output_type": "execute_result"
    },
    {
     "data": {
      "image/png": "[encoded data removed]",
      "text/plain": [
       "<Figure size 864x360 with 2 Axes>"
      ]
     },
     "metadata": {
      "needs_background": "light"
     },
     "output_type": "display_data"
    }
   ],
   "source": [
    "plt.figure(figsize=(12,5))\n",
    "sns.heatmap(df.corr(), annot = True, fmt=\".2f\")"
   ]
  },
  {
   "cell_type": "code",
   "execution_count": null,
   "metadata": {},
   "outputs": [],
   "source": [
    "#cok ciddi multicorr sorunu gözükmüyor, birbiriyle corr u yüksek ve anlamli olanlar tek bir birlesen altinda birlesecek\n",
    "#featurelerin kendi arasinda corr dan bilesenler olusuyor arka planda"
   ]
  },
  {
   "cell_type": "code",
   "execution_count": 12,
   "metadata": {},
   "outputs": [
    {
     "data": {
      "image/png": "[encoded data removed]",
      "text/plain": [
       "<Figure size 720x432 with 1 Axes>"
      ]
     },
     "metadata": {
      "needs_background": "light"
     },
     "output_type": "display_data"
    }
   ],
   "source": [
    "ax = df.corr()[\"Customer_Segment\"][:-1].sort_values().plot(kind=\"barh\")\n",
    "ax.bar_label(ax.containers[0], fmt=\"%.2f\"); #target in diger bilesenlerle olan katkisi"
   ]
  },
  {
   "cell_type": "code",
   "execution_count": null,
   "metadata": {},
   "outputs": [],
   "source": [
    "#malic asit kalitesi saraplarda artmis"
   ]
  },
  {
   "cell_type": "code",
   "execution_count": 13,
   "metadata": {},
   "outputs": [
    {
     "data": {
      "text/plain": [
       "False"
      ]
     },
     "execution_count": 13,
     "metadata": {},
     "output_type": "execute_result"
    }
   ],
   "source": [
    "df.isnull().sum().any()"
   ]
  },
  {
   "cell_type": "markdown",
   "metadata": {},
   "source": [
    "## Split the Data"
   ]
  },
  {
   "cell_type": "code",
   "execution_count": 14,
   "metadata": {},
   "outputs": [],
   "source": [
    "X = df.drop(\"Customer_Segment\", axis = 1)"
   ]
  },
  {
   "cell_type": "code",
   "execution_count": 15,
   "metadata": {},
   "outputs": [],
   "source": [
    "y = df[\"Customer_Segment\"]"
   ]
  },
  {
   "cell_type": "code",
   "execution_count": 16,
   "metadata": {},
   "outputs": [],
   "source": [
    "from sklearn.model_selection import train_test_split\n",
    "X_train, X_test, y_train, y_test = train_test_split(X, y, test_size = 0.2, stratify=y, random_state = 0)"
   ]
  },
  {
   "cell_type": "markdown",
   "metadata": {},
   "source": [
    "## Modeling with Random Forest"
   ]
  },
  {
   "cell_type": "code",
   "execution_count": 17,
   "metadata": {},
   "outputs": [],
   "source": [
    "from sklearn.metrics import confusion_matrix, classification_report"
   ]
  },
  {
   "cell_type": "code",
   "execution_count": 18,
   "metadata": {},
   "outputs": [],
   "source": [
    "def eval_metric(model, X_train, y_train, X_test, y_test):\n",
    "    y_train_pred = model.predict(X_train)\n",
    "    y_pred = model.predict(X_test)\n",
    "    \n",
    "    print(\"Test_Set\")\n",
    "    print(confusion_matrix(y_test, y_pred))\n",
    "    print(classification_report(y_test, y_pred))\n",
    "    print()\n",
    "    print(\"Train_Set\")\n",
    "    print(confusion_matrix(y_train, y_train_pred))\n",
    "    print(classification_report(y_train, y_train_pred))"
   ]
  },
  {
   "cell_type": "code",
   "execution_count": 19,
   "metadata": {},
   "outputs": [],
   "source": [
    "from sklearn.ensemble import RandomForestClassifier"
   ]
  },
  {
   "cell_type": "code",
   "execution_count": 20,
   "metadata": {},
   "outputs": [
    {
     "name": "stdout",
     "output_type": "stream",
     "text": [
      "Test_Set\n",
      "[[10  0  0]\n",
      " [ 0 14  0]\n",
      " [ 0  1 11]]\n",
      "              precision    recall  f1-score   support\n",
      "\n",
      "           1       1.00      1.00      1.00        10\n",
      "           2       0.93      1.00      0.97        14\n",
      "           3       1.00      0.92      0.96        12\n",
      "\n",
      "    accuracy                           0.97        36\n",
      "   macro avg       0.98      0.97      0.97        36\n",
      "weighted avg       0.97      0.97      0.97        36\n",
      "\n",
      "\n",
      "Train_Set\n",
      "[[38  0  0]\n",
      " [ 0 57  0]\n",
      " [ 0  0 47]]\n",
      "              precision    recall  f1-score   support\n",
      "\n",
      "           1       1.00      1.00      1.00        38\n",
      "           2       1.00      1.00      1.00        57\n",
      "           3       1.00      1.00      1.00        47\n",
      "\n",
      "    accuracy                           1.00       142\n",
      "   macro avg       1.00      1.00      1.00       142\n",
      "weighted avg       1.00      1.00      1.00       142\n",
      "\n"
     ]
    }
   ],
   "source": [
    "classifier = RandomForestClassifier(random_state = 0)\n",
    "classifier.fit(X_train, y_train)\n",
    "eval_metric(classifier, X_train, y_train, X_test, y_test)"
   ]
  },
  {
   "cell_type": "code",
   "execution_count": 21,
   "metadata": {},
   "outputs": [
    {
     "data": {
      "text/plain": [
       "test_accuracy            0.985714\n",
       "train_accuracy           1.000000\n",
       "test_precision_micro     0.985714\n",
       "train_precision_micro    1.000000\n",
       "test_recall_micro        0.985714\n",
       "train_recall_micro       1.000000\n",
       "test_f1_micro            0.985714\n",
       "train_f1_micro           1.000000\n",
       "dtype: float64"
      ]
     },
     "execution_count": 21,
     "metadata": {},
     "output_type": "execute_result"
    }
   ],
   "source": [
    "from sklearn.model_selection import cross_validate\n",
    "\n",
    "model = RandomForestClassifier(random_state = 0)\n",
    "\n",
    "scores = cross_validate(model, X_train, y_train, scoring = ['accuracy', 'precision_micro','recall_micro','f1_micro'], \n",
    "                        cv = 10, return_train_score=True)\n",
    "df_scores = pd.DataFrame(scores, index = range(1, 11))\n",
    "df_scores.mean()[2:]"
   ]
  },
  {
   "cell_type": "code",
   "execution_count": 22,
   "metadata": {},
   "outputs": [
    {
     "data": {
      "text/plain": [
       "array([0.09118767, 0.03337355, 0.01428735, 0.04553722, 0.02403198,\n",
       "       0.04182253, 0.18429102, 0.01254126, 0.03013279, 0.15017738,\n",
       "       0.06761653, 0.09590212, 0.20909858])"
      ]
     },
     "execution_count": 22,
     "metadata": {},
     "output_type": "execute_result"
    }
   ],
   "source": [
    "classifier.feature_importances_"
   ]
  },
  {
   "cell_type": "code",
   "execution_count": 23,
   "metadata": {},
   "outputs": [
    {
     "data": {
      "text/html": [
       "<div>\n",
       "<style scoped>\n",
       "    .dataframe tbody tr th:only-of-type {\n",
       "        vertical-align: middle;\n",
       "    }\n",
       "\n",
       "    .dataframe tbody tr th {\n",
       "        vertical-align: top;\n",
       "    }\n",
       "\n",
       "    .dataframe thead th {\n",
       "        text-align: right;\n",
       "    }\n",
       "</style>\n",
       "<table border=\"1\" class=\"dataframe\">\n",
       "  <thead>\n",
       "    <tr style=\"text-align: right;\">\n",
       "      <th></th>\n",
       "      <th>Alcohol</th>\n",
       "      <th>Malic_Acid</th>\n",
       "      <th>Ash</th>\n",
       "      <th>Ash_Alcanity</th>\n",
       "      <th>Magnesium</th>\n",
       "      <th>Total_Phenols</th>\n",
       "      <th>Flavanoids</th>\n",
       "      <th>Nonflavanoid_Phenols</th>\n",
       "      <th>Proanthocyanins</th>\n",
       "      <th>Color_Intensity</th>\n",
       "      <th>Hue</th>\n",
       "      <th>OD280</th>\n",
       "      <th>Proline</th>\n",
       "    </tr>\n",
       "  </thead>\n",
       "  <tbody>\n",
       "    <tr>\n",
       "      <th>0</th>\n",
       "      <td>14.23</td>\n",
       "      <td>1.71</td>\n",
       "      <td>2.43</td>\n",
       "      <td>15.6</td>\n",
       "      <td>127</td>\n",
       "      <td>2.80</td>\n",
       "      <td>3.06</td>\n",
       "      <td>0.28</td>\n",
       "      <td>2.29</td>\n",
       "      <td>5.64</td>\n",
       "      <td>1.04</td>\n",
       "      <td>3.92</td>\n",
       "      <td>1065</td>\n",
       "    </tr>\n",
       "    <tr>\n",
       "      <th>1</th>\n",
       "      <td>13.20</td>\n",
       "      <td>1.78</td>\n",
       "      <td>2.14</td>\n",
       "      <td>11.2</td>\n",
       "      <td>100</td>\n",
       "      <td>2.65</td>\n",
       "      <td>2.76</td>\n",
       "      <td>0.26</td>\n",
       "      <td>1.28</td>\n",
       "      <td>4.38</td>\n",
       "      <td>1.05</td>\n",
       "      <td>3.40</td>\n",
       "      <td>1050</td>\n",
       "    </tr>\n",
       "    <tr>\n",
       "      <th>2</th>\n",
       "      <td>13.16</td>\n",
       "      <td>2.36</td>\n",
       "      <td>2.67</td>\n",
       "      <td>18.6</td>\n",
       "      <td>101</td>\n",
       "      <td>2.80</td>\n",
       "      <td>3.24</td>\n",
       "      <td>0.30</td>\n",
       "      <td>2.81</td>\n",
       "      <td>5.68</td>\n",
       "      <td>1.03</td>\n",
       "      <td>3.17</td>\n",
       "      <td>1185</td>\n",
       "    </tr>\n",
       "    <tr>\n",
       "      <th>3</th>\n",
       "      <td>14.37</td>\n",
       "      <td>1.95</td>\n",
       "      <td>2.50</td>\n",
       "      <td>16.8</td>\n",
       "      <td>113</td>\n",
       "      <td>3.85</td>\n",
       "      <td>3.49</td>\n",
       "      <td>0.24</td>\n",
       "      <td>2.18</td>\n",
       "      <td>7.80</td>\n",
       "      <td>0.86</td>\n",
       "      <td>3.45</td>\n",
       "      <td>1480</td>\n",
       "    </tr>\n",
       "    <tr>\n",
       "      <th>4</th>\n",
       "      <td>13.24</td>\n",
       "      <td>2.59</td>\n",
       "      <td>2.87</td>\n",
       "      <td>21.0</td>\n",
       "      <td>118</td>\n",
       "      <td>2.80</td>\n",
       "      <td>2.69</td>\n",
       "      <td>0.39</td>\n",
       "      <td>1.82</td>\n",
       "      <td>4.32</td>\n",
       "      <td>1.04</td>\n",
       "      <td>2.93</td>\n",
       "      <td>735</td>\n",
       "    </tr>\n",
       "  </tbody>\n",
       "</table>\n",
       "</div>"
      ],
      "text/plain": [
       "   Alcohol  Malic_Acid   Ash  Ash_Alcanity  Magnesium  Total_Phenols  \\\n",
       "0    14.23        1.71  2.43          15.6        127           2.80   \n",
       "1    13.20        1.78  2.14          11.2        100           2.65   \n",
       "2    13.16        2.36  2.67          18.6        101           2.80   \n",
       "3    14.37        1.95  2.50          16.8        113           3.85   \n",
       "4    13.24        2.59  2.87          21.0        118           2.80   \n",
       "\n",
       "   Flavanoids  Nonflavanoid_Phenols  Proanthocyanins  Color_Intensity   Hue  \\\n",
       "0        3.06                  0.28             2.29             5.64  1.04   \n",
       "1        2.76                  0.26             1.28             4.38  1.05   \n",
       "2        3.24                  0.30             2.81             5.68  1.03   \n",
       "3        3.49                  0.24             2.18             7.80  0.86   \n",
       "4        2.69                  0.39             1.82             4.32  1.04   \n",
       "\n",
       "   OD280  Proline  \n",
       "0   3.92     1065  \n",
       "1   3.40     1050  \n",
       "2   3.17     1185  \n",
       "3   3.45     1480  \n",
       "4   2.93      735  "
      ]
     },
     "execution_count": 23,
     "metadata": {},
     "output_type": "execute_result"
    }
   ],
   "source": [
    "X.head()   #make column importance kullanilmadigi icin indexlerin yeri ayni"
   ]
  },
  {
   "cell_type": "code",
   "execution_count": 24,
   "metadata": {},
   "outputs": [
    {
     "data": {
      "text/html": [
       "<div>\n",
       "<style scoped>\n",
       "    .dataframe tbody tr th:only-of-type {\n",
       "        vertical-align: middle;\n",
       "    }\n",
       "\n",
       "    .dataframe tbody tr th {\n",
       "        vertical-align: top;\n",
       "    }\n",
       "\n",
       "    .dataframe thead th {\n",
       "        text-align: right;\n",
       "    }\n",
       "</style>\n",
       "<table border=\"1\" class=\"dataframe\">\n",
       "  <thead>\n",
       "    <tr style=\"text-align: right;\">\n",
       "      <th></th>\n",
       "      <th>Importance</th>\n",
       "    </tr>\n",
       "  </thead>\n",
       "  <tbody>\n",
       "    <tr>\n",
       "      <th>Nonflavanoid_Phenols</th>\n",
       "      <td>0.012541</td>\n",
       "    </tr>\n",
       "    <tr>\n",
       "      <th>Ash</th>\n",
       "      <td>0.014287</td>\n",
       "    </tr>\n",
       "    <tr>\n",
       "      <th>Magnesium</th>\n",
       "      <td>0.024032</td>\n",
       "    </tr>\n",
       "    <tr>\n",
       "      <th>Proanthocyanins</th>\n",
       "      <td>0.030133</td>\n",
       "    </tr>\n",
       "    <tr>\n",
       "      <th>Malic_Acid</th>\n",
       "      <td>0.033374</td>\n",
       "    </tr>\n",
       "    <tr>\n",
       "      <th>Total_Phenols</th>\n",
       "      <td>0.041823</td>\n",
       "    </tr>\n",
       "    <tr>\n",
       "      <th>Ash_Alcanity</th>\n",
       "      <td>0.045537</td>\n",
       "    </tr>\n",
       "    <tr>\n",
       "      <th>Hue</th>\n",
       "      <td>0.067617</td>\n",
       "    </tr>\n",
       "    <tr>\n",
       "      <th>Alcohol</th>\n",
       "      <td>0.091188</td>\n",
       "    </tr>\n",
       "    <tr>\n",
       "      <th>OD280</th>\n",
       "      <td>0.095902</td>\n",
       "    </tr>\n",
       "    <tr>\n",
       "      <th>Color_Intensity</th>\n",
       "      <td>0.150177</td>\n",
       "    </tr>\n",
       "    <tr>\n",
       "      <th>Flavanoids</th>\n",
       "      <td>0.184291</td>\n",
       "    </tr>\n",
       "    <tr>\n",
       "      <th>Proline</th>\n",
       "      <td>0.209099</td>\n",
       "    </tr>\n",
       "  </tbody>\n",
       "</table>\n",
       "</div>"
      ],
      "text/plain": [
       "                      Importance\n",
       "Nonflavanoid_Phenols    0.012541\n",
       "Ash                     0.014287\n",
       "Magnesium               0.024032\n",
       "Proanthocyanins         0.030133\n",
       "Malic_Acid              0.033374\n",
       "Total_Phenols           0.041823\n",
       "Ash_Alcanity            0.045537\n",
       "Hue                     0.067617\n",
       "Alcohol                 0.091188\n",
       "OD280                   0.095902\n",
       "Color_Intensity         0.150177\n",
       "Flavanoids              0.184291\n",
       "Proline                 0.209099"
      ]
     },
     "execution_count": 24,
     "metadata": {},
     "output_type": "execute_result"
    }
   ],
   "source": [
    "feats = pd.DataFrame(index=X.columns, data= classifier.feature_importances_, \n",
    "                     columns=['Importance'])\n",
    "imp_feats = feats.sort_values(\"Importance\")\n",
    "imp_feats"
   ]
  },
  {
   "cell_type": "code",
   "execution_count": null,
   "metadata": {},
   "outputs": [],
   "source": [
    "#ilk 3 feature % 55 bilgiyi elinde tutuyor"
   ]
  },
  {
   "cell_type": "code",
   "execution_count": 26,
   "metadata": {},
   "outputs": [
    {
     "data": {
      "image/png": "[encoded data removed]",
      "text/plain": [
       "<Figure size 720x288 with 1 Axes>"
      ]
     },
     "metadata": {
      "needs_background": "light"
     },
     "output_type": "display_data"
    }
   ],
   "source": [
    "plt.figure(figsize=(10,4))\n",
    "ax = sns.barplot(data=imp_feats.sort_values('Importance'), x=imp_feats.sort_values('Importance').index, y='Importance')\n",
    "plt.xticks(rotation=90)\n",
    "ax.bar_label(ax.containers[0], fmt=\"%.2f\");"
   ]
  },
  {
   "cell_type": "markdown",
   "metadata": {},
   "source": [
    "## Remodelling by feature importance"
   ]
  },
  {
   "cell_type": "code",
   "execution_count": 27,
   "metadata": {},
   "outputs": [],
   "source": [
    "X2 = df[[\"Proline\", \"Color_Intensity\", \"Flavanoids\"]]"
   ]
  },
  {
   "cell_type": "code",
   "execution_count": 28,
   "metadata": {},
   "outputs": [],
   "source": [
    "X_train2, X_test2, y_train2, y_test2 = train_test_split(X2, y, test_size = 0.2, stratify=y, random_state = 0)"
   ]
  },
  {
   "cell_type": "code",
   "execution_count": 29,
   "metadata": {},
   "outputs": [
    {
     "name": "stdout",
     "output_type": "stream",
     "text": [
      "Test_Set\n",
      "[[ 9  1  0]\n",
      " [ 0 14  0]\n",
      " [ 0  1 11]]\n",
      "              precision    recall  f1-score   support\n",
      "\n",
      "           1       1.00      0.90      0.95        10\n",
      "           2       0.88      1.00      0.93        14\n",
      "           3       1.00      0.92      0.96        12\n",
      "\n",
      "    accuracy                           0.94        36\n",
      "   macro avg       0.96      0.94      0.95        36\n",
      "weighted avg       0.95      0.94      0.94        36\n",
      "\n",
      "\n",
      "Train_Set\n",
      "[[38  0  0]\n",
      " [ 0 57  0]\n",
      " [ 0  0 47]]\n",
      "              precision    recall  f1-score   support\n",
      "\n",
      "           1       1.00      1.00      1.00        38\n",
      "           2       1.00      1.00      1.00        57\n",
      "           3       1.00      1.00      1.00        47\n",
      "\n",
      "    accuracy                           1.00       142\n",
      "   macro avg       1.00      1.00      1.00       142\n",
      "weighted avg       1.00      1.00      1.00       142\n",
      "\n"
     ]
    }
   ],
   "source": [
    "classifier2 = RandomForestClassifier(random_state = 0)\n",
    "classifier2.fit(X_train2, y_train2)\n",
    "eval_metric(classifier2, X_train2, y_train2, X_test2, y_test2)"
   ]
  },
  {
   "cell_type": "code",
   "execution_count": null,
   "metadata": {},
   "outputs": [],
   "source": [
    "#ilave 1 hata geldi, 3 feature secince neredeyse ayni sonucu elde ettik\n",
    "#güclü featureler varsa iyi sonuc elde edilebilir"
   ]
  },
  {
   "cell_type": "code",
   "execution_count": 30,
   "metadata": {},
   "outputs": [
    {
     "data": {
      "text/plain": [
       "test_accuracy            0.992857\n",
       "train_accuracy           1.000000\n",
       "test_precision_micro     0.992857\n",
       "train_precision_micro    1.000000\n",
       "test_recall_micro        0.992857\n",
       "train_recall_micro       1.000000\n",
       "test_f1_micro            0.992857\n",
       "train_f1_micro           1.000000\n",
       "dtype: float64"
      ]
     },
     "execution_count": 30,
     "metadata": {},
     "output_type": "execute_result"
    }
   ],
   "source": [
    "model = RandomForestClassifier(random_state = 0)\n",
    "\n",
    "scores = cross_validate(model, X_train2, y_train2, scoring = ['accuracy', 'precision_micro','recall_micro','f1_micro'], \n",
    "                        cv = 10, return_train_score=True)\n",
    "df_scores = pd.DataFrame(scores, index = range(1, 11))\n",
    "df_scores.mean()[2:]"
   ]
  },
  {
   "cell_type": "markdown",
   "metadata": {},
   "source": [
    "## PCA"
   ]
  },
  {
   "cell_type": "markdown",
   "metadata": {},
   "source": [
    "## Scaling Data"
   ]
  },
  {
   "cell_type": "code",
   "execution_count": 31,
   "metadata": {},
   "outputs": [],
   "source": [
    "from sklearn.preprocessing import StandardScaler"
   ]
  },
  {
   "cell_type": "code",
   "execution_count": 32,
   "metadata": {},
   "outputs": [],
   "source": [
    "scaler = StandardScaler()"
   ]
  },
  {
   "cell_type": "code",
   "execution_count": 33,
   "metadata": {},
   "outputs": [],
   "source": [
    "X_train_scaled = scaler.fit_transform(X_train)\n",
    "X_test_scaled = scaler.transform(X_test)"
   ]
  },
  {
   "cell_type": "code",
   "execution_count": null,
   "metadata": {},
   "outputs": [],
   "source": [
    "#x trai ve x testi ayri ayri scaleliyoruz, data linkage in önüne gecmek icin, train e fittransform teste transform uygulaniyor"
   ]
  },
  {
   "cell_type": "code",
   "execution_count": 34,
   "metadata": {},
   "outputs": [
    {
     "data": {
      "image/png": "[encoded data removed]",
      "text/plain": [
       "<Figure size 720x432 with 1 Axes>"
      ]
     },
     "metadata": {
      "needs_background": "light"
     },
     "output_type": "display_data"
    }
   ],
   "source": [
    "from sklearn.decomposition import PCA\n",
    "\n",
    "pca = PCA().fit(X_train_scaled)\n",
    "x = range(1,14)\n",
    "plt.plot(x, pca.explained_variance_ratio_.cumsum())\n",
    "plt.xlabel(\"Component count\")\n",
    "plt.ylabel(\"Variance Ratio\");"
   ]
  },
  {
   "cell_type": "code",
   "execution_count": 35,
   "metadata": {},
   "outputs": [],
   "source": [
    "pca = PCA(n_components=13).fit(X_train_scaled)"
   ]
  },
  {
   "cell_type": "code",
   "execution_count": 36,
   "metadata": {},
   "outputs": [],
   "source": [
    "my_dict = {\"explained_variance\":pca.explained_variance_, \n",
    "           \"explained_variance_ratio\":pca.explained_variance_ratio_,\n",
    "           \"cumsum_explained_variance_ratio\":pca.explained_variance_ratio_.cumsum()}"
   ]
  },
  {
   "cell_type": "code",
   "execution_count": 37,
   "metadata": {},
   "outputs": [
    {
     "data": {
      "text/html": [
       "<div>\n",
       "<style scoped>\n",
       "    .dataframe tbody tr th:only-of-type {\n",
       "        vertical-align: middle;\n",
       "    }\n",
       "\n",
       "    .dataframe tbody tr th {\n",
       "        vertical-align: top;\n",
       "    }\n",
       "\n",
       "    .dataframe thead th {\n",
       "        text-align: right;\n",
       "    }\n",
       "</style>\n",
       "<table border=\"1\" class=\"dataframe\">\n",
       "  <thead>\n",
       "    <tr style=\"text-align: right;\">\n",
       "      <th></th>\n",
       "      <th>explained_variance</th>\n",
       "      <th>explained_variance_ratio</th>\n",
       "      <th>cumsum_explained_variance_ratio</th>\n",
       "    </tr>\n",
       "  </thead>\n",
       "  <tbody>\n",
       "    <tr>\n",
       "      <th>1</th>\n",
       "      <td>4.900353</td>\n",
       "      <td>0.374296</td>\n",
       "      <td>0.374296</td>\n",
       "    </tr>\n",
       "    <tr>\n",
       "      <th>2</th>\n",
       "      <td>2.425735</td>\n",
       "      <td>0.185281</td>\n",
       "      <td>0.559577</td>\n",
       "    </tr>\n",
       "    <tr>\n",
       "      <th>3</th>\n",
       "      <td>1.418460</td>\n",
       "      <td>0.108344</td>\n",
       "      <td>0.667921</td>\n",
       "    </tr>\n",
       "    <tr>\n",
       "      <th>4</th>\n",
       "      <td>0.895242</td>\n",
       "      <td>0.068380</td>\n",
       "      <td>0.736300</td>\n",
       "    </tr>\n",
       "    <tr>\n",
       "      <th>5</th>\n",
       "      <td>0.815036</td>\n",
       "      <td>0.062254</td>\n",
       "      <td>0.798554</td>\n",
       "    </tr>\n",
       "    <tr>\n",
       "      <th>6</th>\n",
       "      <td>0.724387</td>\n",
       "      <td>0.055330</td>\n",
       "      <td>0.853884</td>\n",
       "    </tr>\n",
       "    <tr>\n",
       "      <th>7</th>\n",
       "      <td>0.512169</td>\n",
       "      <td>0.039120</td>\n",
       "      <td>0.893004</td>\n",
       "    </tr>\n",
       "    <tr>\n",
       "      <th>8</th>\n",
       "      <td>0.366809</td>\n",
       "      <td>0.028017</td>\n",
       "      <td>0.921021</td>\n",
       "    </tr>\n",
       "    <tr>\n",
       "      <th>9</th>\n",
       "      <td>0.298387</td>\n",
       "      <td>0.022791</td>\n",
       "      <td>0.943812</td>\n",
       "    </tr>\n",
       "    <tr>\n",
       "      <th>10</th>\n",
       "      <td>0.260014</td>\n",
       "      <td>0.019860</td>\n",
       "      <td>0.963673</td>\n",
       "    </tr>\n",
       "    <tr>\n",
       "      <th>11</th>\n",
       "      <td>0.219829</td>\n",
       "      <td>0.016791</td>\n",
       "      <td>0.980463</td>\n",
       "    </tr>\n",
       "    <tr>\n",
       "      <th>12</th>\n",
       "      <td>0.155975</td>\n",
       "      <td>0.011914</td>\n",
       "      <td>0.992377</td>\n",
       "    </tr>\n",
       "    <tr>\n",
       "      <th>13</th>\n",
       "      <td>0.099802</td>\n",
       "      <td>0.007623</td>\n",
       "      <td>1.000000</td>\n",
       "    </tr>\n",
       "  </tbody>\n",
       "</table>\n",
       "</div>"
      ],
      "text/plain": [
       "    explained_variance  explained_variance_ratio  \\\n",
       "1             4.900353                  0.374296   \n",
       "2             2.425735                  0.185281   \n",
       "3             1.418460                  0.108344   \n",
       "4             0.895242                  0.068380   \n",
       "5             0.815036                  0.062254   \n",
       "6             0.724387                  0.055330   \n",
       "7             0.512169                  0.039120   \n",
       "8             0.366809                  0.028017   \n",
       "9             0.298387                  0.022791   \n",
       "10            0.260014                  0.019860   \n",
       "11            0.219829                  0.016791   \n",
       "12            0.155975                  0.011914   \n",
       "13            0.099802                  0.007623   \n",
       "\n",
       "    cumsum_explained_variance_ratio  \n",
       "1                          0.374296  \n",
       "2                          0.559577  \n",
       "3                          0.667921  \n",
       "4                          0.736300  \n",
       "5                          0.798554  \n",
       "6                          0.853884  \n",
       "7                          0.893004  \n",
       "8                          0.921021  \n",
       "9                          0.943812  \n",
       "10                         0.963673  \n",
       "11                         0.980463  \n",
       "12                         0.992377  \n",
       "13                         1.000000  "
      ]
     },
     "execution_count": 37,
     "metadata": {},
     "output_type": "execute_result"
    }
   ],
   "source": [
    "df_ev = pd.DataFrame(my_dict, index = range(1,14))\n",
    "df_ev"
   ]
  },
  {
   "cell_type": "code",
   "execution_count": 38,
   "metadata": {},
   "outputs": [
    {
     "data": {
      "text/plain": [
       "13.092198581560288"
      ]
     },
     "execution_count": 38,
     "metadata": {},
     "output_type": "execute_result"
    }
   ],
   "source": [
    "df_ev.explained_variance.sum()"
   ]
  },
  {
   "cell_type": "code",
   "execution_count": 39,
   "metadata": {},
   "outputs": [],
   "source": [
    "pca = PCA(n_components = 3) # 0.75  #3 bileseni aliyoruz, linear ve güclü featureler var diye\n",
    "#n_compenet e 0.75 deseydik de ayni bilgiye ulasirdik, 0 ile 1 arasinda olmali"
   ]
  },
  {
   "cell_type": "code",
   "execution_count": 40,
   "metadata": {},
   "outputs": [],
   "source": [
    "X_train_pca = pca.fit_transform(X_train_scaled)\n",
    "X_test_pca = pca.transform(X_test_scaled)  "
   ]
  },
  {
   "cell_type": "code",
   "execution_count": 41,
   "metadata": {},
   "outputs": [
    {
     "data": {
      "text/html": [
       "<div>\n",
       "<style scoped>\n",
       "    .dataframe tbody tr th:only-of-type {\n",
       "        vertical-align: middle;\n",
       "    }\n",
       "\n",
       "    .dataframe tbody tr th {\n",
       "        vertical-align: top;\n",
       "    }\n",
       "\n",
       "    .dataframe thead th {\n",
       "        text-align: right;\n",
       "    }\n",
       "</style>\n",
       "<table border=\"1\" class=\"dataframe\">\n",
       "  <thead>\n",
       "    <tr style=\"text-align: right;\">\n",
       "      <th></th>\n",
       "      <th>first_component</th>\n",
       "      <th>second_component</th>\n",
       "      <th>third_component</th>\n",
       "    </tr>\n",
       "  </thead>\n",
       "  <tbody>\n",
       "    <tr>\n",
       "      <th>0</th>\n",
       "      <td>-0.322303</td>\n",
       "      <td>0.499076</td>\n",
       "      <td>1.642651</td>\n",
       "    </tr>\n",
       "    <tr>\n",
       "      <th>1</th>\n",
       "      <td>-2.752398</td>\n",
       "      <td>-0.684364</td>\n",
       "      <td>0.822388</td>\n",
       "    </tr>\n",
       "    <tr>\n",
       "      <th>2</th>\n",
       "      <td>-0.050845</td>\n",
       "      <td>2.055769</td>\n",
       "      <td>0.801012</td>\n",
       "    </tr>\n",
       "    <tr>\n",
       "      <th>3</th>\n",
       "      <td>2.840375</td>\n",
       "      <td>-1.312747</td>\n",
       "      <td>-0.476727</td>\n",
       "    </tr>\n",
       "    <tr>\n",
       "      <th>4</th>\n",
       "      <td>-0.720359</td>\n",
       "      <td>2.705395</td>\n",
       "      <td>-0.760566</td>\n",
       "    </tr>\n",
       "  </tbody>\n",
       "</table>\n",
       "</div>"
      ],
      "text/plain": [
       "   first_component  second_component  third_component\n",
       "0        -0.322303          0.499076         1.642651\n",
       "1        -2.752398         -0.684364         0.822388\n",
       "2        -0.050845          2.055769         0.801012\n",
       "3         2.840375         -1.312747        -0.476727\n",
       "4        -0.720359          2.705395        -0.760566"
      ]
     },
     "execution_count": 41,
     "metadata": {},
     "output_type": "execute_result"
    }
   ],
   "source": [
    "df_pca_train = pd.DataFrame(X_train_pca)\n",
    "df_pca_train = df_pca_train.rename(columns={0:\"first_component\", 1:\"second_component\", 2:\"third_component\"})\n",
    "df_pca_train.head()"
   ]
  },
  {
   "cell_type": "code",
   "execution_count": 42,
   "metadata": {},
   "outputs": [
    {
     "data": {
      "text/html": [
       "<div>\n",
       "<style scoped>\n",
       "    .dataframe tbody tr th:only-of-type {\n",
       "        vertical-align: middle;\n",
       "    }\n",
       "\n",
       "    .dataframe tbody tr th {\n",
       "        vertical-align: top;\n",
       "    }\n",
       "\n",
       "    .dataframe thead th {\n",
       "        text-align: right;\n",
       "    }\n",
       "</style>\n",
       "<table border=\"1\" class=\"dataframe\">\n",
       "  <thead>\n",
       "    <tr style=\"text-align: right;\">\n",
       "      <th></th>\n",
       "      <th>first_component</th>\n",
       "      <th>second_component</th>\n",
       "      <th>third_component</th>\n",
       "    </tr>\n",
       "  </thead>\n",
       "  <tbody>\n",
       "    <tr>\n",
       "      <th>0</th>\n",
       "      <td>-0.489767</td>\n",
       "      <td>2.337936</td>\n",
       "      <td>1.178843</td>\n",
       "    </tr>\n",
       "    <tr>\n",
       "      <th>1</th>\n",
       "      <td>-2.228090</td>\n",
       "      <td>-2.702401</td>\n",
       "      <td>0.584823</td>\n",
       "    </tr>\n",
       "    <tr>\n",
       "      <th>2</th>\n",
       "      <td>-1.218574</td>\n",
       "      <td>0.605429</td>\n",
       "      <td>1.887888</td>\n",
       "    </tr>\n",
       "    <tr>\n",
       "      <th>3</th>\n",
       "      <td>-2.212360</td>\n",
       "      <td>-2.625781</td>\n",
       "      <td>1.584889</td>\n",
       "    </tr>\n",
       "    <tr>\n",
       "      <th>4</th>\n",
       "      <td>-0.535533</td>\n",
       "      <td>1.899966</td>\n",
       "      <td>1.252930</td>\n",
       "    </tr>\n",
       "  </tbody>\n",
       "</table>\n",
       "</div>"
      ],
      "text/plain": [
       "   first_component  second_component  third_component\n",
       "0        -0.489767          2.337936         1.178843\n",
       "1        -2.228090         -2.702401         0.584823\n",
       "2        -1.218574          0.605429         1.887888\n",
       "3        -2.212360         -2.625781         1.584889\n",
       "4        -0.535533          1.899966         1.252930"
      ]
     },
     "execution_count": 42,
     "metadata": {},
     "output_type": "execute_result"
    }
   ],
   "source": [
    "df_pca_test=pd.DataFrame(X_test_pca)\n",
    "df_pca_test = df_pca_test.rename(columns={0:\"first_component\", 1:\"second_component\", 2:\"third_component\"})\n",
    "df_pca_test.head()"
   ]
  },
  {
   "cell_type": "code",
   "execution_count": 43,
   "metadata": {},
   "outputs": [
    {
     "data": {
      "text/plain": [
       "<seaborn.axisgrid.PairGrid at 0x26aad887430>"
      ]
     },
     "execution_count": 43,
     "metadata": {},
     "output_type": "execute_result"
    },
    {
     "data": {
      "image/png": "[encoded data removed]",
      "text/plain": [
       "<Figure size 540x540 with 12 Axes>"
      ]
     },
     "metadata": {
      "needs_background": "light"
     },
     "output_type": "display_data"
    }
   ],
   "source": [
    "sns.pairplot(df_pca_train)"
   ]
  },
  {
   "cell_type": "code",
   "execution_count": null,
   "metadata": {},
   "outputs": [],
   "source": [
    "#aralarinda corr olmadigini gördük"
   ]
  },
  {
   "cell_type": "code",
   "execution_count": 44,
   "metadata": {},
   "outputs": [
    {
     "data": {
      "text/html": [
       "<div>\n",
       "<style scoped>\n",
       "    .dataframe tbody tr th:only-of-type {\n",
       "        vertical-align: middle;\n",
       "    }\n",
       "\n",
       "    .dataframe tbody tr th {\n",
       "        vertical-align: top;\n",
       "    }\n",
       "\n",
       "    .dataframe thead th {\n",
       "        text-align: right;\n",
       "    }\n",
       "</style>\n",
       "<table border=\"1\" class=\"dataframe\">\n",
       "  <thead>\n",
       "    <tr style=\"text-align: right;\">\n",
       "      <th></th>\n",
       "      <th>first_component</th>\n",
       "      <th>second_component</th>\n",
       "      <th>third_component</th>\n",
       "    </tr>\n",
       "  </thead>\n",
       "  <tbody>\n",
       "    <tr>\n",
       "      <th>first_component</th>\n",
       "      <td>1.0</td>\n",
       "      <td>-0.0</td>\n",
       "      <td>-0.0</td>\n",
       "    </tr>\n",
       "    <tr>\n",
       "      <th>second_component</th>\n",
       "      <td>-0.0</td>\n",
       "      <td>1.0</td>\n",
       "      <td>-0.0</td>\n",
       "    </tr>\n",
       "    <tr>\n",
       "      <th>third_component</th>\n",
       "      <td>-0.0</td>\n",
       "      <td>-0.0</td>\n",
       "      <td>1.0</td>\n",
       "    </tr>\n",
       "  </tbody>\n",
       "</table>\n",
       "</div>"
      ],
      "text/plain": [
       "                  first_component  second_component  third_component\n",
       "first_component               1.0              -0.0             -0.0\n",
       "second_component             -0.0               1.0             -0.0\n",
       "third_component              -0.0              -0.0              1.0"
      ]
     },
     "execution_count": 44,
     "metadata": {},
     "output_type": "execute_result"
    }
   ],
   "source": [
    "df_pca_train.corr().round()"
   ]
  },
  {
   "cell_type": "code",
   "execution_count": null,
   "metadata": {},
   "outputs": [],
   "source": []
  },
  {
   "cell_type": "markdown",
   "metadata": {},
   "source": [
    "## Modelling after PCA"
   ]
  },
  {
   "cell_type": "code",
   "execution_count": null,
   "metadata": {},
   "outputs": [],
   "source": [
    "#modeli tekrar kurduk, max_depth =2 aldik, full cekmesi istemiyorsak train setine hata katiyoruz"
   ]
  },
  {
   "cell_type": "code",
   "execution_count": 45,
   "metadata": {},
   "outputs": [
    {
     "name": "stdout",
     "output_type": "stream",
     "text": [
      "Test_Set\n",
      "[[ 9  0  1]\n",
      " [ 0 13  1]\n",
      " [ 0  1 11]]\n",
      "              precision    recall  f1-score   support\n",
      "\n",
      "           1       1.00      0.90      0.95        10\n",
      "           2       0.93      0.93      0.93        14\n",
      "           3       0.85      0.92      0.88        12\n",
      "\n",
      "    accuracy                           0.92        36\n",
      "   macro avg       0.92      0.92      0.92        36\n",
      "weighted avg       0.92      0.92      0.92        36\n",
      "\n",
      "\n",
      "Train_Set\n",
      "[[38  0  0]\n",
      " [ 1 53  3]\n",
      " [ 0  1 46]]\n",
      "              precision    recall  f1-score   support\n",
      "\n",
      "           1       0.97      1.00      0.99        38\n",
      "           2       0.98      0.93      0.95        57\n",
      "           3       0.94      0.98      0.96        47\n",
      "\n",
      "    accuracy                           0.96       142\n",
      "   macro avg       0.96      0.97      0.97       142\n",
      "weighted avg       0.97      0.96      0.96       142\n",
      "\n"
     ]
    }
   ],
   "source": [
    "classifier3 = RandomForestClassifier(random_state = 0, max_depth=2)\n",
    "classifier3.fit(X_train_pca, y_train)\n",
    "eval_metric(classifier3, X_train_pca, y_train, X_test_pca, y_test)"
   ]
  },
  {
   "cell_type": "code",
   "execution_count": 46,
   "metadata": {},
   "outputs": [],
   "source": [
    "from sklearn.pipeline import Pipeline"
   ]
  },
  {
   "cell_type": "code",
   "execution_count": 48,
   "metadata": {},
   "outputs": [
    {
     "data": {
      "text/plain": [
       "test_accuracy            0.957143\n",
       "train_accuracy           0.969488\n",
       "test_precision_micro     0.957143\n",
       "train_precision_micro    0.969488\n",
       "test_recall_micro        0.957143\n",
       "train_recall_micro       0.969488\n",
       "test_f1_micro            0.957143\n",
       "train_f1_micro           0.969488\n",
       "dtype: float64"
      ]
     },
     "execution_count": 48,
     "metadata": {},
     "output_type": "execute_result"
    }
   ],
   "source": [
    "operations = [(\"scaler\", StandardScaler()), (\"PCA\",PCA(n_components=3)),\n",
    "              (\"RF\", RandomForestClassifier(random_state = 0, max_depth=2))]\n",
    "\n",
    "pipe_model = Pipeline(steps=operations)\n",
    "                                             \n",
    "scores = cross_validate(pipe_model, X_train, y_train, scoring = ['accuracy', 'precision_micro','recall_micro','f1_micro'], \n",
    "                        cv = 10, return_train_score=True)\n",
    "df_scores = pd.DataFrame(scores, index = range(1, 11))\n",
    "df_scores.mean()[2:]                                            "
   ]
  },
  {
   "cell_type": "code",
   "execution_count": null,
   "metadata": {},
   "outputs": [],
   "source": [
    "#train setini full cekmesi burada ortadan kaldirilmis  oldu"
   ]
  },
  {
   "cell_type": "markdown",
   "metadata": {},
   "source": [
    "## Interpreting PCA results"
   ]
  },
  {
   "cell_type": "code",
   "execution_count": null,
   "metadata": {},
   "outputs": [],
   "source": [
    "#yorumlamayi train seti üzerinden yapacagiz"
   ]
  },
  {
   "cell_type": "code",
   "execution_count": 47,
   "metadata": {},
   "outputs": [
    {
     "data": {
      "text/html": [
       "<div>\n",
       "<style scoped>\n",
       "    .dataframe tbody tr th:only-of-type {\n",
       "        vertical-align: middle;\n",
       "    }\n",
       "\n",
       "    .dataframe tbody tr th {\n",
       "        vertical-align: top;\n",
       "    }\n",
       "\n",
       "    .dataframe thead th {\n",
       "        text-align: right;\n",
       "    }\n",
       "</style>\n",
       "<table border=\"1\" class=\"dataframe\">\n",
       "  <thead>\n",
       "    <tr style=\"text-align: right;\">\n",
       "      <th></th>\n",
       "      <th>first_component</th>\n",
       "      <th>second_component</th>\n",
       "      <th>third_component</th>\n",
       "    </tr>\n",
       "  </thead>\n",
       "  <tbody>\n",
       "    <tr>\n",
       "      <th>0</th>\n",
       "      <td>-0.322303</td>\n",
       "      <td>0.499076</td>\n",
       "      <td>1.642651</td>\n",
       "    </tr>\n",
       "    <tr>\n",
       "      <th>1</th>\n",
       "      <td>-2.752398</td>\n",
       "      <td>-0.684364</td>\n",
       "      <td>0.822388</td>\n",
       "    </tr>\n",
       "    <tr>\n",
       "      <th>2</th>\n",
       "      <td>-0.050845</td>\n",
       "      <td>2.055769</td>\n",
       "      <td>0.801012</td>\n",
       "    </tr>\n",
       "    <tr>\n",
       "      <th>3</th>\n",
       "      <td>2.840375</td>\n",
       "      <td>-1.312747</td>\n",
       "      <td>-0.476727</td>\n",
       "    </tr>\n",
       "    <tr>\n",
       "      <th>4</th>\n",
       "      <td>-0.720359</td>\n",
       "      <td>2.705395</td>\n",
       "      <td>-0.760566</td>\n",
       "    </tr>\n",
       "  </tbody>\n",
       "</table>\n",
       "</div>"
      ],
      "text/plain": [
       "   first_component  second_component  third_component\n",
       "0        -0.322303          0.499076         1.642651\n",
       "1        -2.752398         -0.684364         0.822388\n",
       "2        -0.050845          2.055769         0.801012\n",
       "3         2.840375         -1.312747        -0.476727\n",
       "4        -0.720359          2.705395        -0.760566"
      ]
     },
     "execution_count": 47,
     "metadata": {},
     "output_type": "execute_result"
    }
   ],
   "source": [
    "df_pca_train.head()"
   ]
  },
  {
   "cell_type": "code",
   "execution_count": 49,
   "metadata": {},
   "outputs": [
    {
     "data": {
      "text/html": [
       "<div>\n",
       "<style scoped>\n",
       "    .dataframe tbody tr th:only-of-type {\n",
       "        vertical-align: middle;\n",
       "    }\n",
       "\n",
       "    .dataframe tbody tr th {\n",
       "        vertical-align: top;\n",
       "    }\n",
       "\n",
       "    .dataframe thead th {\n",
       "        text-align: right;\n",
       "    }\n",
       "</style>\n",
       "<table border=\"1\" class=\"dataframe\">\n",
       "  <thead>\n",
       "    <tr style=\"text-align: right;\">\n",
       "      <th></th>\n",
       "      <th>Alcohol</th>\n",
       "      <th>Malic_Acid</th>\n",
       "      <th>Ash</th>\n",
       "      <th>Ash_Alcanity</th>\n",
       "      <th>Magnesium</th>\n",
       "      <th>Total_Phenols</th>\n",
       "      <th>Flavanoids</th>\n",
       "      <th>Nonflavanoid_Phenols</th>\n",
       "      <th>Proanthocyanins</th>\n",
       "      <th>Color_Intensity</th>\n",
       "      <th>Hue</th>\n",
       "      <th>OD280</th>\n",
       "      <th>Proline</th>\n",
       "    </tr>\n",
       "  </thead>\n",
       "  <tbody>\n",
       "    <tr>\n",
       "      <th>0</th>\n",
       "      <td>-1.468001</td>\n",
       "      <td>-0.169849</td>\n",
       "      <td>1.403224</td>\n",
       "      <td>0.593458</td>\n",
       "      <td>2.508377</td>\n",
       "      <td>-1.071939</td>\n",
       "      <td>-1.004947</td>\n",
       "      <td>-1.868580</td>\n",
       "      <td>-0.014400</td>\n",
       "      <td>-1.140631</td>\n",
       "      <td>0.006175</td>\n",
       "      <td>-0.509987</td>\n",
       "      <td>-0.408074</td>\n",
       "    </tr>\n",
       "    <tr>\n",
       "      <th>1</th>\n",
       "      <td>-0.215361</td>\n",
       "      <td>0.855905</td>\n",
       "      <td>0.807090</td>\n",
       "      <td>0.742981</td>\n",
       "      <td>0.489489</td>\n",
       "      <td>-0.993904</td>\n",
       "      <td>-1.387317</td>\n",
       "      <td>1.827836</td>\n",
       "      <td>-1.129742</td>\n",
       "      <td>0.253474</td>\n",
       "      <td>-0.355431</td>\n",
       "      <td>-0.727589</td>\n",
       "      <td>-0.585133</td>\n",
       "    </tr>\n",
       "    <tr>\n",
       "      <th>2</th>\n",
       "      <td>-0.733280</td>\n",
       "      <td>-0.624749</td>\n",
       "      <td>-0.645987</td>\n",
       "      <td>0.892503</td>\n",
       "      <td>0.633695</td>\n",
       "      <td>-0.447658</td>\n",
       "      <td>0.073533</td>\n",
       "      <td>-0.261443</td>\n",
       "      <td>0.078545</td>\n",
       "      <td>-1.339789</td>\n",
       "      <td>0.503384</td>\n",
       "      <td>0.505492</td>\n",
       "      <td>-1.309465</td>\n",
       "    </tr>\n",
       "    <tr>\n",
       "      <th>3</th>\n",
       "      <td>1.434751</td>\n",
       "      <td>-0.544473</td>\n",
       "      <td>-0.236145</td>\n",
       "      <td>-0.961579</td>\n",
       "      <td>1.354727</td>\n",
       "      <td>1.425185</td>\n",
       "      <td>0.965730</td>\n",
       "      <td>-0.904298</td>\n",
       "      <td>0.859284</td>\n",
       "      <td>0.615579</td>\n",
       "      <td>-0.039026</td>\n",
       "      <td>1.013231</td>\n",
       "      <td>0.702568</td>\n",
       "    </tr>\n",
       "    <tr>\n",
       "      <th>4</th>\n",
       "      <td>-1.455957</td>\n",
       "      <td>-0.526634</td>\n",
       "      <td>-1.800996</td>\n",
       "      <td>-0.004633</td>\n",
       "      <td>-0.952574</td>\n",
       "      <td>0.332693</td>\n",
       "      <td>-0.367664</td>\n",
       "      <td>-0.020372</td>\n",
       "      <td>-0.274646</td>\n",
       "      <td>-1.339789</td>\n",
       "      <td>-0.039026</td>\n",
       "      <td>-0.248864</td>\n",
       "      <td>-1.084117</td>\n",
       "    </tr>\n",
       "  </tbody>\n",
       "</table>\n",
       "</div>"
      ],
      "text/plain": [
       "    Alcohol  Malic_Acid       Ash  Ash_Alcanity  Magnesium  Total_Phenols  \\\n",
       "0 -1.468001   -0.169849  1.403224      0.593458   2.508377      -1.071939   \n",
       "1 -0.215361    0.855905  0.807090      0.742981   0.489489      -0.993904   \n",
       "2 -0.733280   -0.624749 -0.645987      0.892503   0.633695      -0.447658   \n",
       "3  1.434751   -0.544473 -0.236145     -0.961579   1.354727       1.425185   \n",
       "4 -1.455957   -0.526634 -1.800996     -0.004633  -0.952574       0.332693   \n",
       "\n",
       "   Flavanoids  Nonflavanoid_Phenols  Proanthocyanins  Color_Intensity  \\\n",
       "0   -1.004947             -1.868580        -0.014400        -1.140631   \n",
       "1   -1.387317              1.827836        -1.129742         0.253474   \n",
       "2    0.073533             -0.261443         0.078545        -1.339789   \n",
       "3    0.965730             -0.904298         0.859284         0.615579   \n",
       "4   -0.367664             -0.020372        -0.274646        -1.339789   \n",
       "\n",
       "        Hue     OD280   Proline  \n",
       "0  0.006175 -0.509987 -0.408074  \n",
       "1 -0.355431 -0.727589 -0.585133  \n",
       "2  0.503384  0.505492 -1.309465  \n",
       "3 -0.039026  1.013231  0.702568  \n",
       "4 -0.039026 -0.248864 -1.084117  "
      ]
     },
     "execution_count": 49,
     "metadata": {},
     "output_type": "execute_result"
    }
   ],
   "source": [
    "scaled_X_train = pd.DataFrame(X_train_scaled, columns = X_train.columns)\n",
    "scaled_X_train.head()"
   ]
  },
  {
   "cell_type": "code",
   "execution_count": 50,
   "metadata": {},
   "outputs": [
    {
     "data": {
      "text/html": [
       "<div>\n",
       "<style scoped>\n",
       "    .dataframe tbody tr th:only-of-type {\n",
       "        vertical-align: middle;\n",
       "    }\n",
       "\n",
       "    .dataframe tbody tr th {\n",
       "        vertical-align: top;\n",
       "    }\n",
       "\n",
       "    .dataframe thead th {\n",
       "        text-align: right;\n",
       "    }\n",
       "</style>\n",
       "<table border=\"1\" class=\"dataframe\">\n",
       "  <thead>\n",
       "    <tr style=\"text-align: right;\">\n",
       "      <th></th>\n",
       "      <th>first_component</th>\n",
       "      <th>second_component</th>\n",
       "      <th>third_component</th>\n",
       "      <th>Alcohol</th>\n",
       "      <th>Malic_Acid</th>\n",
       "      <th>Ash</th>\n",
       "      <th>Ash_Alcanity</th>\n",
       "      <th>Magnesium</th>\n",
       "      <th>Total_Phenols</th>\n",
       "      <th>Flavanoids</th>\n",
       "      <th>Nonflavanoid_Phenols</th>\n",
       "      <th>Proanthocyanins</th>\n",
       "      <th>Color_Intensity</th>\n",
       "      <th>Hue</th>\n",
       "      <th>OD280</th>\n",
       "      <th>Proline</th>\n",
       "    </tr>\n",
       "  </thead>\n",
       "  <tbody>\n",
       "    <tr>\n",
       "      <th>first_component</th>\n",
       "      <td>1.000000e+00</td>\n",
       "      <td>-7.285283e-17</td>\n",
       "      <td>-5.973087e-19</td>\n",
       "      <td>0.330918</td>\n",
       "      <td>-0.544282</td>\n",
       "      <td>0.033205</td>\n",
       "      <td>-0.518515</td>\n",
       "      <td>0.403014</td>\n",
       "      <td>0.853299</td>\n",
       "      <td>0.913672</td>\n",
       "      <td>-0.685830</td>\n",
       "      <td>0.676137</td>\n",
       "      <td>-0.144932</td>\n",
       "      <td>0.667693</td>\n",
       "      <td>0.812251</td>\n",
       "      <td>0.640861</td>\n",
       "    </tr>\n",
       "    <tr>\n",
       "      <th>second_component</th>\n",
       "      <td>-7.285283e-17</td>\n",
       "      <td>1.000000e+00</td>\n",
       "      <td>-2.001440e-16</td>\n",
       "      <td>-0.760028</td>\n",
       "      <td>-0.336791</td>\n",
       "      <td>-0.528035</td>\n",
       "      <td>0.068361</td>\n",
       "      <td>-0.397660</td>\n",
       "      <td>-0.109147</td>\n",
       "      <td>0.029597</td>\n",
       "      <td>-0.094578</td>\n",
       "      <td>0.013603</td>\n",
       "      <td>-0.840922</td>\n",
       "      <td>0.396268</td>\n",
       "      <td>0.295055</td>\n",
       "      <td>-0.550273</td>\n",
       "    </tr>\n",
       "    <tr>\n",
       "      <th>third_component</th>\n",
       "      <td>-5.973087e-19</td>\n",
       "      <td>-2.001440e-16</td>\n",
       "      <td>1.000000e+00</td>\n",
       "      <td>-0.254048</td>\n",
       "      <td>0.052492</td>\n",
       "      <td>0.723413</td>\n",
       "      <td>0.738878</td>\n",
       "      <td>0.254166</td>\n",
       "      <td>0.181515</td>\n",
       "      <td>0.171593</td>\n",
       "      <td>0.161036</td>\n",
       "      <td>0.194709</td>\n",
       "      <td>-0.136665</td>\n",
       "      <td>0.043360</td>\n",
       "      <td>0.142840</td>\n",
       "      <td>-0.200275</td>\n",
       "    </tr>\n",
       "    <tr>\n",
       "      <th>Alcohol</th>\n",
       "      <td>3.309181e-01</td>\n",
       "      <td>-7.600283e-01</td>\n",
       "      <td>-2.540481e-01</td>\n",
       "      <td>1.000000</td>\n",
       "      <td>0.101084</td>\n",
       "      <td>0.242167</td>\n",
       "      <td>-0.343187</td>\n",
       "      <td>0.252779</td>\n",
       "      <td>0.296767</td>\n",
       "      <td>0.239891</td>\n",
       "      <td>-0.164944</td>\n",
       "      <td>0.122043</td>\n",
       "      <td>0.543056</td>\n",
       "      <td>-0.006869</td>\n",
       "      <td>0.079714</td>\n",
       "      <td>0.619360</td>\n",
       "    </tr>\n",
       "    <tr>\n",
       "      <th>Malic_Acid</th>\n",
       "      <td>-5.442825e-01</td>\n",
       "      <td>-3.367906e-01</td>\n",
       "      <td>5.249185e-02</td>\n",
       "      <td>0.101084</td>\n",
       "      <td>1.000000</td>\n",
       "      <td>0.120032</td>\n",
       "      <td>0.264928</td>\n",
       "      <td>-0.106263</td>\n",
       "      <td>-0.353586</td>\n",
       "      <td>-0.433956</td>\n",
       "      <td>0.329713</td>\n",
       "      <td>-0.295337</td>\n",
       "      <td>0.189747</td>\n",
       "      <td>-0.557397</td>\n",
       "      <td>-0.383362</td>\n",
       "      <td>-0.197038</td>\n",
       "    </tr>\n",
       "  </tbody>\n",
       "</table>\n",
       "</div>"
      ],
      "text/plain": [
       "                  first_component  second_component  third_component  \\\n",
       "first_component      1.000000e+00     -7.285283e-17    -5.973087e-19   \n",
       "second_component    -7.285283e-17      1.000000e+00    -2.001440e-16   \n",
       "third_component     -5.973087e-19     -2.001440e-16     1.000000e+00   \n",
       "Alcohol              3.309181e-01     -7.600283e-01    -2.540481e-01   \n",
       "Malic_Acid          -5.442825e-01     -3.367906e-01     5.249185e-02   \n",
       "\n",
       "                   Alcohol  Malic_Acid       Ash  Ash_Alcanity  Magnesium  \\\n",
       "first_component   0.330918   -0.544282  0.033205     -0.518515   0.403014   \n",
       "second_component -0.760028   -0.336791 -0.528035      0.068361  -0.397660   \n",
       "third_component  -0.254048    0.052492  0.723413      0.738878   0.254166   \n",
       "Alcohol           1.000000    0.101084  0.242167     -0.343187   0.252779   \n",
       "Malic_Acid        0.101084    1.000000  0.120032      0.264928  -0.106263   \n",
       "\n",
       "                  Total_Phenols  Flavanoids  Nonflavanoid_Phenols  \\\n",
       "first_component        0.853299    0.913672             -0.685830   \n",
       "second_component      -0.109147    0.029597             -0.094578   \n",
       "third_component        0.181515    0.171593              0.161036   \n",
       "Alcohol                0.296767    0.239891             -0.164944   \n",
       "Malic_Acid            -0.353586   -0.433956              0.329713   \n",
       "\n",
       "                  Proanthocyanins  Color_Intensity       Hue     OD280  \\\n",
       "first_component          0.676137        -0.144932  0.667693  0.812251   \n",
       "second_component         0.013603        -0.840922  0.396268  0.295055   \n",
       "third_component          0.194709        -0.136665  0.043360  0.142840   \n",
       "Alcohol                  0.122043         0.543056 -0.006869  0.079714   \n",
       "Malic_Acid              -0.295337         0.189747 -0.557397 -0.383362   \n",
       "\n",
       "                   Proline  \n",
       "first_component   0.640861  \n",
       "second_component -0.550273  \n",
       "third_component  -0.200275  \n",
       "Alcohol           0.619360  \n",
       "Malic_Acid       -0.197038  "
      ]
     },
     "execution_count": 50,
     "metadata": {},
     "output_type": "execute_result"
    }
   ],
   "source": [
    "combined_df = pd.concat([df_pca_train, scaled_X_train], axis=1)\n",
    "correlation = combined_df.corr()\n",
    "correlation.head()"
   ]
  },
  {
   "cell_type": "code",
   "execution_count": null,
   "metadata": {},
   "outputs": [],
   "source": [
    "#satirlardan ilk 3 ünü al, featurelerden ilk 3 ünü alma diyoruz\n",
    "#feature importance da en önemli feature olan proline burda 0.64 cikmis\n",
    "#flavanoids in cok ciddi katkisi var, bunlar kaliteli sarap in belirlenmesinde önemli component 1.si\n",
    "#kalitesiz saraplarda renk hassasiyetinde artis var, \n",
    "# 2. ve 3. component kalitesiz saraplarin tespitinde önemli olan featurelerin yogun sekilde toplandigi featurelerin bileseni\n",
    "#datamda en fazla bilgi 1 de, 2 ve 3 arti katki sagliyor ilk bilesene\n",
    "#benzer classlarin featureleri ayni bilesen icinde toplayabiliriz"
   ]
  },
  {
   "cell_type": "code",
   "execution_count": 51,
   "metadata": {},
   "outputs": [
    {
     "data": {
      "image/png": "[encoded data removed]",
      "text/plain": [
       "<Figure size 1440x504 with 2 Axes>"
      ]
     },
     "metadata": {
      "needs_background": "light"
     },
     "output_type": "display_data"
    }
   ],
   "source": [
    "fig, ax = plt.subplots(figsize=(20, 7))\n",
    "sns.heatmap(correlation.iloc[:3,3:], cmap='YlGnBu', linewidths=.7, annot=True, fmt='.2f')\n",
    "plt.show()"
   ]
  },
  {
   "cell_type": "code",
   "execution_count": 52,
   "metadata": {},
   "outputs": [
    {
     "data": {
      "text/plain": [
       "<AxesSubplot:>"
      ]
     },
     "execution_count": 52,
     "metadata": {},
     "output_type": "execute_result"
    },
    {
     "data": {
      "image/png": "[encoded data removed]",
      "text/plain": [
       "<Figure size 864x432 with 2 Axes>"
      ]
     },
     "metadata": {
      "needs_background": "light"
     },
     "output_type": "display_data"
    }
   ],
   "source": [
    "plt.figure(figsize=(12,6))\n",
    "sns.heatmap(df.corr(), annot = True)"
   ]
  },
  {
   "cell_type": "code",
   "execution_count": 53,
   "metadata": {},
   "outputs": [
    {
     "data": {
      "application/vnd.plotly.v1+json": {
       "config": {
        "plotlyServerURL": "https://plot.ly"
       },
       "data": [
        {
         "hovertemplate": "x=%{x}<br>y=%{y}<br>z=%{z}<br>color=%{marker.color}<extra></extra>",
         "legendgroup": "",
         "marker": {
          "color": [
           2,
           1,
           2,
           3,
           2,
           1,
           1,
           2,
           3,
           2,
           2,
           2,
           3,
           2,
           2,
           1,
           1,
           3,
           2,
           3,
           1,
           2,
           1,
           2,
           2,
           1,
           1,
           2,
           2,
           2,
           3,
           3,
           3,
           2,
           3,
           3,
           2,
           1,
           2,
           3,
           3,
           3,
           3,
           2,
           3,
           1,
           3,
           1,
           3,
           2,
           2,
           3,
           1,
           1,
           3,
           1,
           2,
           3,
           2,
           1,
           3,
           1,
           1,
           3,
           2,
           2,
           2,
           2,
           2,
           3,
           3,
           2,
           3,
           3,
           3,
           3,
           2,
           1,
           2,
           3,
           3,
           1,
           3,
           1,
           2,
           2,
           2,
           1,
           3,
           1,
           1,
           1,
           1,
           3,
           1,
           2,
           3,
           1,
           2,
           2,
           2,
           2,
           2,
           1,
           3,
           2,
           1,
           2,
           2,
           3,
           2,
           2,
           3,
           1,
           2,
           3,
           2,
           1,
           3,
           2,
           2,
           1,
           2,
           2,
           1,
           2,
           2,
           1,
           1,
           2,
           3,
           3,
           2,
           3,
           3,
           3,
           1,
           3,
           1,
           2,
           3,
           3
          ],
          "coloraxis": "coloraxis",
          "symbol": "circle"
         },
         "mode": "markers",
         "name": "",
         "scene": "scene",
         "showlegend": false,
         "type": "scatter3d",
         "x": [
          -0.32230336200689264,
          -2.75239822428155,
          -0.05084480923624777,
          2.840375324330907,
          -0.7203593725563634,
          -3.1188265431610773,
          -3.6426379191532368,
          -0.5125147098786506,
          2.1371469852306744,
          -1.796781357370717,
          -1.1202697501652488,
          -0.6170013860888631,
          2.5123914662347766,
          2.1764299711176998,
          -1.5690122149753822,
          -0.920910128335605,
          -2.871797086052546,
          3.558166850364327,
          -0.5011489153693652,
          3.1395421919020627,
          -3.160619315996709,
          -0.27597901456902635,
          -2.8577655140589964,
          0.8067425635030665,
          -1.8343092903557248,
          -2.3491815851170688,
          -2.512217185101781,
          -0.5466793857246062,
          -1.82597911360146,
          -1.3666824204483285,
          2.1529240075748164,
          1.258916745879567,
          3.2532722360918505,
          0.4802693559578586,
          2.9511424102420705,
          2.1925959392366305,
          -0.7737260492007385,
          -3.4846716452474293,
          -0.7141360142131181,
          2.3231099965116426,
          4.399555016903066,
          3.212911193355876,
          1.7936366437384093,
          -1.6231245253572546,
          1.4819245173320994,
          -2.7565527255373192,
          2.252686434666454,
          -3.8800744478249185,
          2.0097209978736172,
          -0.7773541472716191,
          -0.83900761260215,
          2.672515920300523,
          -1.531335985439351,
          -2.66694536447445,
          2.539555623440297,
          -2.8589607628751534,
          -1.9536448966622835,
          2.8075092070509142,
          0.7381993256923101,
          -2.9116404986665714,
          2.6624610332237117,
          -2.2938863738320863,
          -4.285507082179965,
          2.2439037634651,
          -0.3893927282041743,
          -0.021563556628570082,
          -1.5211036449181254,
          1.86760544238923,
          1.690730141967289,
          1.6951158400337403,
          1.1324853403807966,
          1.6092886141578815,
          1.1631278173182482,
          2.2993830929828167,
          2.778035513350823,
          2.094148149969154,
          0.9615137632219866,
          -2.7159810494799492,
          -2.5015189770578417,
          2.0685401736230506,
          2.283242087095003,
          -3.5544871702710252,
          1.8203187887464263,
          -1.662344702362185,
          1.0440140724765423,
          -2.5420739381583517,
          1.4355247982510468,
          -2.12978137118324,
          2.58638901647555,
          -3.5552343722291386,
          -2.8420723557127245,
          -3.0357100777496737,
          -3.8890586888861414,
          3.474698848464042,
          -2.2439619473507784,
          -0.5798731584233737,
          2.60620197432798,
          -2.025851163232055,
          1.4301604549070606,
          2.2001777503728817,
          -0.15989797361865732,
          -0.1524468030246859,
          -0.46152032322568975,
          -3.3049182706120916,
          3.111866273578903,
          0.4074147629153345,
          -3.1400030976428845,
          -1.393181376011028,
          0.14670533544946085,
          0.6638410623834382,
          1.441286844396509,
          0.828824538151245,
          2.1992991495114813,
          -2.3834611697993546,
          2.022026906159757,
          2.3484964764071417,
          2.2185116597899084,
          -2.1336146367846274,
          1.5265853998283299,
          0.8764362695355825,
          -1.1220753855411423,
          -2.5702807547868125,
          -1.5348828019005107,
          2.767760845836409,
          -2.387111274494841,
          0.7339743862242799,
          0.0384131926113,
          -3.3118857602998797,
          -2.075573526399689,
          0.05311427320864509,
          2.226893366456409,
          2.4432408014245897,
          -1.4878437133598446,
          2.8515981753372968,
          1.2103278366206904,
          3.6448224554197908,
          -3.084117643774304,
          1.184168046618454,
          -2.228674309427745,
          0.37058430186134317,
          2.7670493638551683,
          1.816735332227646
         ],
         "y": [
          0.49907553597458426,
          -0.684364408321555,
          2.0557692569710126,
          -1.3127468065853003,
          2.705394676054551,
          -2.917259122933281,
          -1.0935431212821798,
          0.796370355891359,
          0.20939406987438072,
          1.7092500510699506,
          0.7801039409690865,
          2.6527507496565743,
          -1.1258919689198348,
          1.9605219535048353,
          1.2109539643011327,
          -3.5806943626990337,
          -1.7022224058549043,
          -1.5808021008809645,
          2.03858205966355,
          -2.0854363791897805,
          0.12486481560862511,
          2.916529276452829,
          -0.3163371889073175,
          2.457487406567578,
          1.148496690755878,
          -0.5680603226393962,
          -0.7754531621912838,
          2.334430704435607,
          0.6435297825566935,
          2.0355888338322057,
          -0.6847735510386319,
          0.1179765440168515,
          -0.6158147547856764,
          3.857278619737728,
          -0.674760461134948,
          -0.96179530323641,
          2.2169799924022358,
          -0.9903243040185382,
          1.0936745764202758,
          -2.253563658807759,
          -2.019742704700426,
          -1.6456712117019363,
          -0.7116969261245476,
          1.3506671196030342,
          -0.717948649101839,
          -1.692042084061994,
          -0.9034893969594577,
          -0.7772788581622887,
          -1.6191117118001532,
          0.05799524131379151,
          2.385813899983943,
          -0.6522112514900664,
          -2.543271932934847,
          -0.5090193679551999,
          -0.8719433992814124,
          -1.4650341557822766,
          1.4781120021429268,
          -1.6987042185411725,
          3.3939974567098865,
          -0.631848737596383,
          -1.6383027169123487,
          -0.4354326829778842,
          -0.7808959681344632,
          -1.229061017256852,
          2.1873676692239794,
          1.3194004644422517,
          1.1358115236186586,
          1.4173730586227231,
          1.0381448999108003,
          -0.011009468274362014,
          -0.8125328204659633,
          1.576452934843334,
          -0.8654637945294954,
          -0.09683381712572679,
          -1.3809120941230542,
          -1.1593952543278314,
          0.7427578695960373,
          -0.4361425465140609,
          1.1564417863693979,
          -1.6279475746339294,
          -0.6597198207598014,
          -1.428638758049859,
          -0.5985057639199073,
          -1.5205397231581805,
          1.5057976388176888,
          0.02384936117186953,
          -0.14968248329884062,
          -2.348084513716899,
          0.19620178387836193,
          -1.9108607424403041,
          -2.056135413951234,
          -0.5566293880219236,
          -0.31773157216648745,
          -1.1249418848284418,
          -0.47699979079254773,
          2.3311856411424086,
          -1.1517444597741997,
          -2.1380440098666798,
          0.9645262983394224,
          1.5059427274846509,
          2.1600454581558477,
          1.2252356647794103,
          2.1957006906942826,
          -2.347814689822844,
          -1.0859561185178772,
          1.1389883718418696,
          -0.9004693275095067,
          1.369368418195182,
          2.4217370297168337,
          -0.08759940883201106,
          1.7655861867190168,
          2.06042269901349,
          -1.5490632190646656,
          0.25866335045065936,
          1.9780781171399209,
          -1.8812890132568532,
          1.7277022591754052,
          -1.3213945198121415,
          0.7834993217001796,
          1.5722781059387532,
          1.7522059408522022,
          -0.554625230526035,
          1.803219570756237,
          0.0464881238447947,
          -2.362933607397893,
          1.506966551041885,
          1.2149132126070237,
          -1.4458205911533786,
          -1.1905995522038975,
          2.4112382008847866,
          0.33622430232333694,
          -1.7024393829719395,
          0.8992633735551524,
          -0.5148434814683785,
          -1.6953467239937186,
          -2.5201367590546955,
          -0.5103372641794387,
          -0.13522030335425944,
          -2.383629543272941,
          2.1828689190456934,
          -1.054751552987678,
          0.39577925665756486
         ],
         "z": [
          1.642650539879373,
          0.822387902901493,
          0.8010123479271604,
          -0.47672730833335425,
          -0.7605664818382637,
          1.077774007145312,
          -1.2547770307238388,
          0.37025784610143003,
          -0.5788925807151349,
          0.8371622131894632,
          2.965684503523016,
          0.6492746805556295,
          -1.0907757767687034,
          -2.073312929585895,
          3.333272150728826,
          1.4011494688498183,
          -0.9026742833276904,
          -0.503165745235829,
          1.3244535028019582,
          -0.6272652280504628,
          -0.7690338432087126,
          -0.3318268558504284,
          0.019047285664984325,
          -1.6196631566657422,
          0.6262723451880723,
          -0.36381512891617895,
          -0.7805582193532333,
          -1.511504704510716,
          -1.5246012973532908,
          -0.1509950894649223,
          -1.0062292678357723,
          -1.4701959696113822,
          -0.20419763520581918,
          1.1425068333875452,
          -0.10420832221194963,
          -0.09656654551964551,
          0.7126984652799,
          -0.5139110928661194,
          0.07715798786870091,
          0.9145365879882187,
          -1.329326273884479,
          -0.19284690799475615,
          -0.1971020351284091,
          0.2606269355047075,
          0.4853943617813241,
          -0.3789547230545625,
          -0.8298233948766258,
          1.621004471175102,
          0.8469133054717752,
          -0.6533974323665038,
          -1.5436023504327288,
          0.015408139462895144,
          0.7237948995664981,
          -0.9694620895314873,
          -1.8014002830077147,
          -1.1863811597316767,
          -0.15959126343497645,
          -0.6361041124094934,
          -0.42069426802295334,
          0.9205043936470368,
          -0.21348268769080994,
          -0.5471032768555104,
          -1.5067699740254623,
          0.2055210979647645,
          -0.5793707941710408,
          0.7428562170209829,
          -0.9282871892702301,
          0.5455555793880239,
          1.8954701018215203,
          -0.2261067708635531,
          2.1041184611455046,
          1.8075043941761657,
          3.8887601143309785,
          -1.149779370321714,
          -0.33674728336507975,
          -0.03463941307816584,
          0.6134382012442288,
          0.5879310728416522,
          -1.9746839495049,
          1.2175267866823685,
          1.3327017518669353,
          -0.14808356871083753,
          -1.2801208783683784,
          1.753808777785086,
          -0.4510714821984026,
          0.37307499321579435,
          5.45099918242624,
          0.8194821756079076,
          -0.41223216411527536,
          -0.11874132700658002,
          -0.7224554433289,
          -1.0799020908278683,
          0.1289560378788711,
          -1.3366066809761108,
          -0.9969155894880543,
          -0.4621764382980915,
          0.6662769161202586,
          0.9309249758127619,
          -0.8461517575666875,
          -0.20734122357897966,
          0.377549024038393,
          1.0206021168591528,
          1.073250294843762,
          -0.40341951514783286,
          -0.31960158917857756,
          1.7055303551727912,
          -0.05611871172758795,
          -0.1715930311677668,
          -1.1819946710681641,
          -0.9253323405313485,
          0.32211716396304046,
          -0.237658181375821,
          0.13835617191816754,
          -1.0737011909829282,
          0.01328208043002519,
          0.31949745919057665,
          -0.8434788469690578,
          -0.07405308452883246,
          -1.4776799581308186,
          0.7431606013130062,
          0.8324842866057455,
          -0.7733482086167153,
          0.7320034155706177,
          3.5719851333061365,
          -0.8189468726257306,
          1.1312271217152634,
          -1.8162722492959502,
          1.6208328092877462,
          -1.0903497290755535,
          -0.3878046345930581,
          -2.1008151557024943,
          0.18496535741670428,
          -0.5290778805273558,
          -1.1067457432114072,
          -0.023736004755165626,
          -0.5567388823483275,
          -1.101742233004016,
          -0.08092043076345909,
          -0.3032695239136736,
          -0.5800360001274516,
          -0.6312833070986675,
          0.7959427125564316
         ]
        }
       ],
       "layout": {
        "coloraxis": {
         "colorbar": {
          "title": {
           "text": "color"
          }
         },
         "colorscale": [
          [
           0,
           "#0d0887"
          ],
          [
           0.1111111111111111,
           "#46039f"
          ],
          [
           0.2222222222222222,
           "#7201a8"
          ],
          [
           0.3333333333333333,
           "#9c179e"
          ],
          [
           0.4444444444444444,
           "#bd3786"
          ],
          [
           0.5555555555555556,
           "#d8576b"
          ],
          [
           0.6666666666666666,
           "#ed7953"
          ],
          [
           0.7777777777777778,
           "#fb9f3a"
          ],
          [
           0.8888888888888888,
           "#fdca26"
          ],
          [
           1,
           "#f0f921"
          ]
         ]
        },
        "legend": {
         "tracegroupgap": 0
        },
        "margin": {
         "t": 60
        },
        "scene": {
         "domain": {
          "x": [
           0,
           1
          ],
          "y": [
           0,
           1
          ]
         },
         "xaxis": {
          "title": {
           "text": "x"
          }
         },
         "yaxis": {
          "title": {
           "text": "y"
          }
         },
         "zaxis": {
          "title": {
           "text": "z"
          }
         }
        },
        "template": {
         "data": {
          "bar": [
           {
            "error_x": {
             "color": "#2a3f5f"
            },
            "error_y": {
             "color": "#2a3f5f"
            },
            "marker": {
             "line": {
              "color": "#E5ECF6",
              "width": 0.5
             },
             "pattern": {
              "fillmode": "overlay",
              "size": 10,
              "solidity": 0.2
             }
            },
            "type": "bar"
           }
          ],
          "barpolar": [
           {
            "marker": {
             "line": {
              "color": "#E5ECF6",
              "width": 0.5
             },
             "pattern": {
              "fillmode": "overlay",
              "size": 10,
              "solidity": 0.2
             }
            },
            "type": "barpolar"
           }
          ],
          "carpet": [
           {
            "aaxis": {
             "endlinecolor": "#2a3f5f",
             "gridcolor": "white",
             "linecolor": "white",
             "minorgridcolor": "white",
             "startlinecolor": "#2a3f5f"
            },
            "baxis": {
             "endlinecolor": "#2a3f5f",
             "gridcolor": "white",
             "linecolor": "white",
             "minorgridcolor": "white",
             "startlinecolor": "#2a3f5f"
            },
            "type": "carpet"
           }
          ],
          "choropleth": [
           {
            "colorbar": {
             "outlinewidth": 0,
             "ticks": ""
            },
            "type": "choropleth"
           }
          ],
          "contour": [
           {
            "colorbar": {
             "outlinewidth": 0,
             "ticks": ""
            },
            "colorscale": [
             [
              0,
              "#0d0887"
             ],
             [
              0.1111111111111111,
              "#46039f"
             ],
             [
              0.2222222222222222,
              "#7201a8"
             ],
             [
              0.3333333333333333,
              "#9c179e"
             ],
             [
              0.4444444444444444,
              "#bd3786"
             ],
             [
              0.5555555555555556,
              "#d8576b"
             ],
             [
              0.6666666666666666,
              "#ed7953"
             ],
             [
              0.7777777777777778,
              "#fb9f3a"
             ],
             [
              0.8888888888888888,
              "#fdca26"
             ],
             [
              1,
              "#f0f921"
             ]
            ],
            "type": "contour"
           }
          ],
          "contourcarpet": [
           {
            "colorbar": {
             "outlinewidth": 0,
             "ticks": ""
            },
            "type": "contourcarpet"
           }
          ],
          "heatmap": [
           {
            "colorbar": {
             "outlinewidth": 0,
             "ticks": ""
            },
            "colorscale": [
             [
              0,
              "#0d0887"
             ],
             [
              0.1111111111111111,
              "#46039f"
             ],
             [
              0.2222222222222222,
              "#7201a8"
             ],
             [
              0.3333333333333333,
              "#9c179e"
             ],
             [
              0.4444444444444444,
              "#bd3786"
             ],
             [
              0.5555555555555556,
              "#d8576b"
             ],
             [
              0.6666666666666666,
              "#ed7953"
             ],
             [
              0.7777777777777778,
              "#fb9f3a"
             ],
             [
              0.8888888888888888,
              "#fdca26"
             ],
             [
              1,
              "#f0f921"
             ]
            ],
            "type": "heatmap"
           }
          ],
          "heatmapgl": [
           {
            "colorbar": {
             "outlinewidth": 0,
             "ticks": ""
            },
            "colorscale": [
             [
              0,
              "#0d0887"
             ],
             [
              0.1111111111111111,
              "#46039f"
             ],
             [
              0.2222222222222222,
              "#7201a8"
             ],
             [
              0.3333333333333333,
              "#9c179e"
             ],
             [
              0.4444444444444444,
              "#bd3786"
             ],
             [
              0.5555555555555556,
              "#d8576b"
             ],
             [
              0.6666666666666666,
              "#ed7953"
             ],
             [
              0.7777777777777778,
              "#fb9f3a"
             ],
             [
              0.8888888888888888,
              "#fdca26"
             ],
             [
              1,
              "#f0f921"
             ]
            ],
            "type": "heatmapgl"
           }
          ],
          "histogram": [
           {
            "marker": {
             "pattern": {
              "fillmode": "overlay",
              "size": 10,
              "solidity": 0.2
             }
            },
            "type": "histogram"
           }
          ],
          "histogram2d": [
           {
            "colorbar": {
             "outlinewidth": 0,
             "ticks": ""
            },
            "colorscale": [
             [
              0,
              "#0d0887"
             ],
             [
              0.1111111111111111,
              "#46039f"
             ],
             [
              0.2222222222222222,
              "#7201a8"
             ],
             [
              0.3333333333333333,
              "#9c179e"
             ],
             [
              0.4444444444444444,
              "#bd3786"
             ],
             [
              0.5555555555555556,
              "#d8576b"
             ],
             [
              0.6666666666666666,
              "#ed7953"
             ],
             [
              0.7777777777777778,
              "#fb9f3a"
             ],
             [
              0.8888888888888888,
              "#fdca26"
             ],
             [
              1,
              "#f0f921"
             ]
            ],
            "type": "histogram2d"
           }
          ],
          "histogram2dcontour": [
           {
            "colorbar": {
             "outlinewidth": 0,
             "ticks": ""
            },
            "colorscale": [
             [
              0,
              "#0d0887"
             ],
             [
              0.1111111111111111,
              "#46039f"
             ],
             [
              0.2222222222222222,
              "#7201a8"
             ],
             [
              0.3333333333333333,
              "#9c179e"
             ],
             [
              0.4444444444444444,
              "#bd3786"
             ],
             [
              0.5555555555555556,
              "#d8576b"
             ],
             [
              0.6666666666666666,
              "#ed7953"
             ],
             [
              0.7777777777777778,
              "#fb9f3a"
             ],
             [
              0.8888888888888888,
              "#fdca26"
             ],
             [
              1,
              "#f0f921"
             ]
            ],
            "type": "histogram2dcontour"
           }
          ],
          "mesh3d": [
           {
            "colorbar": {
             "outlinewidth": 0,
             "ticks": ""
            },
            "type": "mesh3d"
           }
          ],
          "parcoords": [
           {
            "line": {
             "colorbar": {
              "outlinewidth": 0,
              "ticks": ""
             }
            },
            "type": "parcoords"
           }
          ],
          "pie": [
           {
            "automargin": true,
            "type": "pie"
           }
          ],
          "scatter": [
           {
            "fillpattern": {
             "fillmode": "overlay",
             "size": 10,
             "solidity": 0.2
            },
            "type": "scatter"
           }
          ],
          "scatter3d": [
           {
            "line": {
             "colorbar": {
              "outlinewidth": 0,
              "ticks": ""
             }
            },
            "marker": {
             "colorbar": {
              "outlinewidth": 0,
              "ticks": ""
             }
            },
            "type": "scatter3d"
           }
          ],
          "scattercarpet": [
           {
            "marker": {
             "colorbar": {
              "outlinewidth": 0,
              "ticks": ""
             }
            },
            "type": "scattercarpet"
           }
          ],
          "scattergeo": [
           {
            "marker": {
             "colorbar": {
              "outlinewidth": 0,
              "ticks": ""
             }
            },
            "type": "scattergeo"
           }
          ],
          "scattergl": [
           {
            "marker": {
             "colorbar": {
              "outlinewidth": 0,
              "ticks": ""
             }
            },
            "type": "scattergl"
           }
          ],
          "scattermapbox": [
           {
            "marker": {
             "colorbar": {
              "outlinewidth": 0,
              "ticks": ""
             }
            },
            "type": "scattermapbox"
           }
          ],
          "scatterpolar": [
           {
            "marker": {
             "colorbar": {
              "outlinewidth": 0,
              "ticks": ""
             }
            },
            "type": "scatterpolar"
           }
          ],
          "scatterpolargl": [
           {
            "marker": {
             "colorbar": {
              "outlinewidth": 0,
              "ticks": ""
             }
            },
            "type": "scatterpolargl"
           }
          ],
          "scatterternary": [
           {
            "marker": {
             "colorbar": {
              "outlinewidth": 0,
              "ticks": ""
             }
            },
            "type": "scatterternary"
           }
          ],
          "surface": [
           {
            "colorbar": {
             "outlinewidth": 0,
             "ticks": ""
            },
            "colorscale": [
             [
              0,
              "#0d0887"
             ],
             [
              0.1111111111111111,
              "#46039f"
             ],
             [
              0.2222222222222222,
              "#7201a8"
             ],
             [
              0.3333333333333333,
              "#9c179e"
             ],
             [
              0.4444444444444444,
              "#bd3786"
             ],
             [
              0.5555555555555556,
              "#d8576b"
             ],
             [
              0.6666666666666666,
              "#ed7953"
             ],
             [
              0.7777777777777778,
              "#fb9f3a"
             ],
             [
              0.8888888888888888,
              "#fdca26"
             ],
             [
              1,
              "#f0f921"
             ]
            ],
            "type": "surface"
           }
          ],
          "table": [
           {
            "cells": {
             "fill": {
              "color": "#EBF0F8"
             },
             "line": {
              "color": "white"
             }
            },
            "header": {
             "fill": {
              "color": "#C8D4E3"
             },
             "line": {
              "color": "white"
             }
            },
            "type": "table"
           }
          ]
         },
         "layout": {
          "annotationdefaults": {
           "arrowcolor": "#2a3f5f",
           "arrowhead": 0,
           "arrowwidth": 1
          },
          "autotypenumbers": "strict",
          "coloraxis": {
           "colorbar": {
            "outlinewidth": 0,
            "ticks": ""
           }
          },
          "colorscale": {
           "diverging": [
            [
             0,
             "#8e0152"
            ],
            [
             0.1,
             "#c51b7d"
            ],
            [
             0.2,
             "#de77ae"
            ],
            [
             0.3,
             "#f1b6da"
            ],
            [
             0.4,
             "#fde0ef"
            ],
            [
             0.5,
             "#f7f7f7"
            ],
            [
             0.6,
             "#e6f5d0"
            ],
            [
             0.7,
             "#b8e186"
            ],
            [
             0.8,
             "#7fbc41"
            ],
            [
             0.9,
             "#4d9221"
            ],
            [
             1,
             "#276419"
            ]
           ],
           "sequential": [
            [
             0,
             "#0d0887"
            ],
            [
             0.1111111111111111,
             "#46039f"
            ],
            [
             0.2222222222222222,
             "#7201a8"
            ],
            [
             0.3333333333333333,
             "#9c179e"
            ],
            [
             0.4444444444444444,
             "#bd3786"
            ],
            [
             0.5555555555555556,
             "#d8576b"
            ],
            [
             0.6666666666666666,
             "#ed7953"
            ],
            [
             0.7777777777777778,
             "#fb9f3a"
            ],
            [
             0.8888888888888888,
             "#fdca26"
            ],
            [
             1,
             "#f0f921"
            ]
           ],
           "sequentialminus": [
            [
             0,
             "#0d0887"
            ],
            [
             0.1111111111111111,
             "#46039f"
            ],
            [
             0.2222222222222222,
             "#7201a8"
            ],
            [
             0.3333333333333333,
             "#9c179e"
            ],
            [
             0.4444444444444444,
             "#bd3786"
            ],
            [
             0.5555555555555556,
             "#d8576b"
            ],
            [
             0.6666666666666666,
             "#ed7953"
            ],
            [
             0.7777777777777778,
             "#fb9f3a"
            ],
            [
             0.8888888888888888,
             "#fdca26"
            ],
            [
             1,
             "#f0f921"
            ]
           ]
          },
          "colorway": [
           "#636efa",
           "#EF553B",
           "#00cc96",
           "#ab63fa",
           "#FFA15A",
           "#19d3f3",
           "#FF6692",
           "#B6E880",
           "#FF97FF",
           "#FECB52"
          ],
          "font": {
           "color": "#2a3f5f"
          },
          "geo": {
           "bgcolor": "white",
           "lakecolor": "white",
           "landcolor": "#E5ECF6",
           "showlakes": true,
           "showland": true,
           "subunitcolor": "white"
          },
          "hoverlabel": {
           "align": "left"
          },
          "hovermode": "closest",
          "mapbox": {
           "style": "light"
          },
          "paper_bgcolor": "white",
          "plot_bgcolor": "#E5ECF6",
          "polar": {
           "angularaxis": {
            "gridcolor": "white",
            "linecolor": "white",
            "ticks": ""
           },
           "bgcolor": "#E5ECF6",
           "radialaxis": {
            "gridcolor": "white",
            "linecolor": "white",
            "ticks": ""
           }
          },
          "scene": {
           "xaxis": {
            "backgroundcolor": "#E5ECF6",
            "gridcolor": "white",
            "gridwidth": 2,
            "linecolor": "white",
            "showbackground": true,
            "ticks": "",
            "zerolinecolor": "white"
           },
           "yaxis": {
            "backgroundcolor": "#E5ECF6",
            "gridcolor": "white",
            "gridwidth": 2,
            "linecolor": "white",
            "showbackground": true,
            "ticks": "",
            "zerolinecolor": "white"
           },
           "zaxis": {
            "backgroundcolor": "#E5ECF6",
            "gridcolor": "white",
            "gridwidth": 2,
            "linecolor": "white",
            "showbackground": true,
            "ticks": "",
            "zerolinecolor": "white"
           }
          },
          "shapedefaults": {
           "line": {
            "color": "#2a3f5f"
           }
          },
          "ternary": {
           "aaxis": {
            "gridcolor": "white",
            "linecolor": "white",
            "ticks": ""
           },
           "baxis": {
            "gridcolor": "white",
            "linecolor": "white",
            "ticks": ""
           },
           "bgcolor": "#E5ECF6",
           "caxis": {
            "gridcolor": "white",
            "linecolor": "white",
            "ticks": ""
           }
          },
          "title": {
           "x": 0.05
          },
          "xaxis": {
           "automargin": true,
           "gridcolor": "white",
           "linecolor": "white",
           "ticks": "",
           "title": {
            "standoff": 15
           },
           "zerolinecolor": "white",
           "zerolinewidth": 2
          },
          "yaxis": {
           "automargin": true,
           "gridcolor": "white",
           "linecolor": "white",
           "ticks": "",
           "title": {
            "standoff": 15
           },
           "zerolinecolor": "white",
           "zerolinewidth": 2
          }
         }
        }
       }
      }
     },
     "metadata": {},
     "output_type": "display_data"
    }
   ],
   "source": [
    "import plotly.express as px\n",
    "fig = px.scatter_3d(x=df_pca_train[\"first_component\"], y=df_pca_train[\"second_component\"], \n",
    "                    z=df_pca_train[\"third_component\"], color=y_train) #y_train yani gercek deger üzerinden görsellestirdim\n",
    "fig.show()\n",
    "#bu 3 boyutlu görsel ama 14 featureyi temsil ediyor"
   ]
  },
  {
   "cell_type": "code",
   "execution_count": null,
   "metadata": {},
   "outputs": [],
   "source": []
  }
 ],
 "metadata": {
  "kernelspec": {
   "display_name": "Python 3.10.2 64-bit (system)",
   "language": "python",
   "name": "python3"
  },
  "language_info": {
   "codemirror_mode": {
    "name": "ipython",
    "version": 3
   },
   "file_extension": ".py",
   "mimetype": "text/x-python",
   "name": "python",
   "nbconvert_exporter": "python",
   "pygments_lexer": "ipython3",
   "version": "3.10.2"
  },
  "vscode": {
   "interpreter": {
    "hash": "6572bf9942b77bb3ec5a538efc62ddcece7cc03514ee18e10ea37ae91d0af093"
   }
  }
 },
 "nbformat": 4,
 "nbformat_minor": 4
}
