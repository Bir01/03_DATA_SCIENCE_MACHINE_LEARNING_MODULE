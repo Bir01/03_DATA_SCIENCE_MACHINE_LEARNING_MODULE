{
  "cells": [
    {
      "cell_type": "markdown",
      "metadata": {
        "id": "6X73SBpsMP26"
      },
      "source": [
        "## NLP with DL"
      ]
    },
    {
      "cell_type": "code",
      "execution_count": 1,
      "metadata": {
        "colab": {
          "base_uri": "https://localhost:8080/"
        },
        "id": "cgJ_HalfMSVB",
        "outputId": "29099aac-de57-40a5-e9e7-b93395f44ab8"
      },
      "outputs": [],
      "source": [
        "#from google.colab import drive\n",
        "#drive.mount('/content/drive')"
      ]
    },
    {
      "cell_type": "markdown",
      "metadata": {
        "id": "0Y6XdY0zMP3B"
      },
      "source": [
        "## Import libraries"
      ]
    },
    {
      "cell_type": "code",
      "execution_count": 2,
      "metadata": {
        "id": "yt8uihaEMP3B"
      },
      "outputs": [],
      "source": [
        "import numpy as np\n",
        "import pandas as pd\n",
        "from tensorflow.keras.models import Sequential\n",
        "from tensorflow.keras.layers import Dense, GRU, Embedding, Dropout #embedding: tokenleri word embeddinge dönüstürüp kullanmak icin\n",
        "from tensorflow.keras.optimizers import Adam #hatanin mim oldugu noktaya ulasmak icin kullanilacak algoritma\n",
        "from tensorflow.keras.preprocessing.text import Tokenizer\n",
        "from tensorflow.keras.preprocessing.sequence import pad_sequences"
      ]
    },
    {
      "cell_type": "code",
      "execution_count": 3,
      "metadata": {
        "colab": {
          "base_uri": "https://localhost:8080/",
          "height": 36
        },
        "id": "MGYuKI6YCze-",
        "outputId": "9061926a-2637-4822-9d9f-3f680c357ec0"
      },
      "outputs": [
        {
          "data": {
            "text/plain": [
              "'2.10.0'"
            ]
          },
          "execution_count": 3,
          "metadata": {},
          "output_type": "execute_result"
        }
      ],
      "source": [
        "import tensorflow as tf\n",
        "tf. __version__"
      ]
    },
    {
      "cell_type": "code",
      "execution_count": 4,
      "metadata": {
        "colab": {
          "base_uri": "https://localhost:8080/",
          "height": 36
        },
        "id": "5zk24laQETQy",
        "outputId": "8d8f6ad8-2bc2-4f99-a874-8925709070e4"
      },
      "outputs": [
        {
          "data": {
            "text/plain": [
              "'1.22.3'"
            ]
          },
          "execution_count": 4,
          "metadata": {},
          "output_type": "execute_result"
        }
      ],
      "source": [
        "np.__version__"
      ]
    },
    {
      "cell_type": "code",
      "execution_count": 5,
      "metadata": {
        "id": "lN-e8sK4MP3D"
      },
      "outputs": [],
      "source": [
        "#df = pd.read_csv('/content/drive/MyDrive/hepsiburada.csv') #colab da calisirken tirnak icine hepsiburadanin yolu kopyalanacak"
      ]
    },
    {
      "cell_type": "code",
      "execution_count": 6,
      "metadata": {},
      "outputs": [],
      "source": [
        "df = pd.read_csv('hepsiburada.csv')"
      ]
    },
    {
      "cell_type": "code",
      "execution_count": 7,
      "metadata": {
        "colab": {
          "base_uri": "https://localhost:8080/",
          "height": 206
        },
        "id": "kBw6YugKMP3D",
        "outputId": "bf146c29-b450-48bf-fa19-e5634fce1a47"
      },
      "outputs": [
        {
          "data": {
            "text/html": [
              "<div>\n",
              "<style scoped>\n",
              "    .dataframe tbody tr th:only-of-type {\n",
              "        vertical-align: middle;\n",
              "    }\n",
              "\n",
              "    .dataframe tbody tr th {\n",
              "        vertical-align: top;\n",
              "    }\n",
              "\n",
              "    .dataframe thead th {\n",
              "        text-align: right;\n",
              "    }\n",
              "</style>\n",
              "<table border=\"1\" class=\"dataframe\">\n",
              "  <thead>\n",
              "    <tr style=\"text-align: right;\">\n",
              "      <th></th>\n",
              "      <th>Rating</th>\n",
              "      <th>Review</th>\n",
              "    </tr>\n",
              "  </thead>\n",
              "  <tbody>\n",
              "    <tr>\n",
              "      <th>0</th>\n",
              "      <td>1</td>\n",
              "      <td>3 yıldır tık demedi. :)</td>\n",
              "    </tr>\n",
              "    <tr>\n",
              "      <th>1</th>\n",
              "      <td>1</td>\n",
              "      <td>3 yıldır kullanıyorum müthiş</td>\n",
              "    </tr>\n",
              "    <tr>\n",
              "      <th>2</th>\n",
              "      <td>1</td>\n",
              "      <td>Ürün bugün elime geçti çok fazla inceleme fırs...</td>\n",
              "    </tr>\n",
              "    <tr>\n",
              "      <th>3</th>\n",
              "      <td>1</td>\n",
              "      <td>Almaya karar verdim. Hemencecik geldi. Keyifle...</td>\n",
              "    </tr>\n",
              "    <tr>\n",
              "      <th>4</th>\n",
              "      <td>1</td>\n",
              "      <td>Günlük kullanımınızı çok çok iyi karsılıyor kı...</td>\n",
              "    </tr>\n",
              "  </tbody>\n",
              "</table>\n",
              "</div>"
            ],
            "text/plain": [
              "   Rating                                             Review\n",
              "0       1                            3 yıldır tık demedi. :)\n",
              "1       1                      3 yıldır kullanıyorum müthiş \n",
              "2       1  Ürün bugün elime geçti çok fazla inceleme fırs...\n",
              "3       1  Almaya karar verdim. Hemencecik geldi. Keyifle...\n",
              "4       1  Günlük kullanımınızı çok çok iyi karsılıyor kı..."
            ]
          },
          "execution_count": 7,
          "metadata": {},
          "output_type": "execute_result"
        }
      ],
      "source": [
        "df.head()"
      ]
    },
    {
      "cell_type": "code",
      "execution_count": 8,
      "metadata": {
        "colab": {
          "base_uri": "https://localhost:8080/"
        },
        "id": "Wd9UfbvsSWJ5",
        "outputId": "d428d653-fc52-473a-dd1f-cdd6ac433ea0"
      },
      "outputs": [
        {
          "name": "stdout",
          "output_type": "stream",
          "text": [
            "<class 'pandas.core.frame.DataFrame'>\n",
            "RangeIndex: 243497 entries, 0 to 243496\n",
            "Data columns (total 2 columns):\n",
            " #   Column  Non-Null Count   Dtype \n",
            "---  ------  --------------   ----- \n",
            " 0   Rating  243497 non-null  int64 \n",
            " 1   Review  243497 non-null  object\n",
            "dtypes: int64(1), object(1)\n",
            "memory usage: 3.7+ MB\n"
          ]
        }
      ],
      "source": [
        "df.info()"
      ]
    },
    {
      "cell_type": "code",
      "execution_count": 9,
      "metadata": {
        "id": "0zmMhW2hwN1m"
      },
      "outputs": [],
      "source": [
        "df.Rating = df.Rating.map({1:0, 0:1})   #hedef label ne ise ona dönüstürmek gerekiyor, hedef label i 1 yaptik,1 label ini sectik"
      ]
    },
    {
      "cell_type": "code",
      "execution_count": 10,
      "metadata": {
        "colab": {
          "base_uri": "https://localhost:8080/"
        },
        "id": "0mrjCQ9wwSCs",
        "outputId": "72676f07-f4ff-4255-983a-6c83ea01918c"
      },
      "outputs": [
        {
          "data": {
            "text/plain": [
              "0    229821\n",
              "1     13676\n",
              "Name: Rating, dtype: int64"
            ]
          },
          "execution_count": 10,
          "metadata": {},
          "output_type": "execute_result"
        }
      ],
      "source": [
        "df.Rating.value_counts()"
      ]
    },
    {
      "cell_type": "code",
      "execution_count": 11,
      "metadata": {
        "colab": {
          "base_uri": "https://localhost:8080/"
        },
        "id": "2l26CUKCSaig",
        "outputId": "8689967d-a2e4-498b-d0b8-2a40b32b0a85"
      },
      "outputs": [
        {
          "data": {
            "text/plain": [
              "0    0.943835\n",
              "1    0.056165\n",
              "Name: Rating, dtype: float64"
            ]
          },
          "execution_count": 11,
          "metadata": {},
          "output_type": "execute_result"
        }
      ],
      "source": [
        "df.Rating.value_counts(normalize=True)"
      ]
    },
    {
      "cell_type": "markdown",
      "metadata": {
        "id": "ErzHzxUOMP3F"
      },
      "source": [
        "## Tokenization"
      ]
    },
    {
      "cell_type": "code",
      "execution_count": 12,
      "metadata": {
        "id": "amDd007iMP3F"
      },
      "outputs": [],
      "source": [
        "X = df['Review']\n",
        "y = df['Rating']"
      ]
    },
    {
      "cell_type": "code",
      "execution_count": 13,
      "metadata": {
        "id": "3ltwlIS9MP3G"
      },
      "outputs": [],
      "source": [
        "num_words = 15000 # corpusta geçen en fazla kullanılan ilk 15.000 kelimeyi(tokeni) alacağız gerisini yok sayacağız. \n",
        "# None değeri atanırsa tüm kelimeler dikkate alınır.\n",
        "tokenizer = Tokenizer(num_words=num_words) #filters='!\"#$%&()*+,-./:;<=>?@[\\\\]^_`{|}~\\t\\n1234567890' "
      ]
    },
    {
      "cell_type": "code",
      "execution_count": 14,
      "metadata": {
        "id": "7QnzlbfrMP3H"
      },
      "outputs": [],
      "source": [
        "tokenizer.fit_on_texts(X)"
      ]
    },
    {
      "cell_type": "markdown",
      "metadata": {
        "id": "qbBLA65iMP3I"
      },
      "source": [
        "## Creating word index"
      ]
    },
    {
      "cell_type": "code",
      "execution_count": 15,
      "metadata": {
        "colab": {
          "base_uri": "https://localhost:8080/"
        },
        "id": "ujCeRckiMP3I",
        "outputId": "9305dd2d-613a-4ba5-cac6-9d6806c2fed1"
      },
      "outputs": [
        {
          "data": {
            "text/plain": [
              "{'çok': 1,\n",
              " 'bir': 2,\n",
              " 've': 3,\n",
              " 'ürün': 4,\n",
              " 'bu': 5,\n",
              " 'iyi': 6,\n",
              " 'güzel': 7,\n",
              " 'için': 8,\n",
              " 'tavsiye': 9,\n",
              " 'ederim': 10,\n",
              " 'daha': 11,\n",
              " 'ama': 12,\n",
              " 'da': 13,\n",
              " 'gayet': 14,\n",
              " 'hızlı': 15,\n",
              " 'teşekkürler': 16,\n",
              " 'aldım': 17,\n",
              " 'de': 18,\n",
              " 'ürünü': 19,\n",
              " 'gibi': 20,\n",
              " 'yok': 21,\n",
              " 'uygun': 22,\n",
              " 'olarak': 23,\n",
              " 'kaliteli': 24,\n",
              " 'en': 25,\n",
              " '2': 26,\n",
              " 'kargo': 27,\n",
              " 'fiyat': 28,\n",
              " 'elime': 29,\n",
              " 'kadar': 30,\n",
              " 'ile': 31,\n",
              " 'göre': 32,\n",
              " 'geldi': 33,\n",
              " 'var': 34,\n",
              " 'hepsiburada': 35,\n",
              " 'ben': 36,\n",
              " 'gerçekten': 37,\n",
              " '1': 38,\n",
              " 'fiyata': 39,\n",
              " 'gün': 40,\n",
              " 'sonra': 41,\n",
              " 'cok': 42,\n",
              " 'kesinlikle': 43,\n",
              " 'telefon': 44,\n",
              " 'biraz': 45,\n",
              " 'hiç': 46,\n",
              " 'ulaştı': 47,\n",
              " 'memnun': 48,\n",
              " 'hem': 49,\n",
              " 'değil': 50,\n",
              " 'kullanışlı': 51,\n",
              " '3': 52,\n",
              " 'mükemmel': 53,\n",
              " 'oldu': 54,\n",
              " 'kullanıyorum': 55,\n",
              " 'önce': 56,\n",
              " 'sipariş': 57,\n",
              " 'tek': 58,\n",
              " 'her': 59,\n",
              " 'bence': 60,\n",
              " 'harika': 61,\n",
              " 'kalitesi': 62,\n",
              " 'bi': 63,\n",
              " 'ayrıca': 64,\n",
              " '5': 65,\n",
              " 'teşekkür': 66,\n",
              " 'fiyatı': 67,\n",
              " 'olması': 68,\n",
              " 'ne': 69,\n",
              " 'herkese': 70,\n",
              " 'bile': 71,\n",
              " 'uzun': 72,\n",
              " 'süper': 73,\n",
              " 'tam': 74,\n",
              " 'zaten': 75,\n",
              " 'fazla': 76,\n",
              " 'ilk': 77,\n",
              " 'o': 78,\n",
              " 'başarılı': 79,\n",
              " 'fakat': 80,\n",
              " 'memnunum': 81,\n",
              " 'ancak': 82,\n",
              " 'ediyorum': 83,\n",
              " 'şarj': 84,\n",
              " 'saat': 85,\n",
              " 'fiyatına': 86,\n",
              " 'oldukça': 87,\n",
              " 'hemen': 88,\n",
              " 'şekilde': 89,\n",
              " 'ses': 90,\n",
              " 'hepsi': 91,\n",
              " 'gerek': 92,\n",
              " 'rahat': 93,\n",
              " 'aynı': 94,\n",
              " '4': 95,\n",
              " 'şık': 96,\n",
              " 'verdim': 97,\n",
              " 'kolay': 98,\n",
              " 'diye': 99,\n",
              " 'ki': 100,\n",
              " 'sadece': 101,\n",
              " 'kaldım': 102,\n",
              " 'diğer': 103,\n",
              " 'büyük': 104,\n",
              " 'sorun': 105,\n",
              " 'alın': 106,\n",
              " 'burada': 107,\n",
              " 'kısa': 108,\n",
              " 'ürünün': 109,\n",
              " 'sorunsuz': 110,\n",
              " 'performans': 111,\n",
              " 'içinde': 112,\n",
              " 'olan': 113,\n",
              " 'günde': 114,\n",
              " 'olsun': 115,\n",
              " 'küçük': 116,\n",
              " 'urun': 117,\n",
              " '10': 118,\n",
              " 'benim': 119,\n",
              " 'başka': 120,\n",
              " 'iki': 121,\n",
              " 'olduğu': 122,\n",
              " 'teslimat': 123,\n",
              " 'com': 124,\n",
              " 'arkadaşlar': 125,\n",
              " 'sağlam': 126,\n",
              " 'oluyor': 127,\n",
              " 'teslim': 128,\n",
              " 'ettim': 129,\n",
              " 'zaman': 130,\n",
              " 'kalite': 131,\n",
              " 'almak': 132,\n",
              " 'az': 133,\n",
              " 'telefonu': 134,\n",
              " 'yeni': 135,\n",
              " 'cihaz': 136,\n",
              " 'marka': 137,\n",
              " 'son': 138,\n",
              " 'koku': 139,\n",
              " 'ise': 140,\n",
              " 'kullandım': 141,\n",
              " 'kokusu': 142,\n",
              " 'derim': 143,\n",
              " 'olduğunu': 144,\n",
              " 'özellikle': 145,\n",
              " 'beğendim': 146,\n",
              " 'sıkıntı': 147,\n",
              " 'ucuz': 148,\n",
              " 'rağmen': 149,\n",
              " 'geçti': 150,\n",
              " 'geliyor': 151,\n",
              " 'guzel': 152,\n",
              " 'bana': 153,\n",
              " 'ya': 154,\n",
              " 'ideal': 155,\n",
              " 'orjinal': 156,\n",
              " 'almıştım': 157,\n",
              " 'yeterli': 158,\n",
              " 'tane': 159,\n",
              " 'hediye': 160,\n",
              " 'sürede': 161,\n",
              " 'yani': 162,\n",
              " 'normal': 163,\n",
              " 'yaklaşık': 164,\n",
              " 'ediyor': 165,\n",
              " 'hafif': 166,\n",
              " 'bunu': 167,\n",
              " 'ekran': 168,\n",
              " 'aldığım': 169,\n",
              " 'veriyor': 170,\n",
              " '6': 171,\n",
              " 'yüksek': 172,\n",
              " 'tüm': 173,\n",
              " 'pişman': 174,\n",
              " 'tercih': 175,\n",
              " 'düşünmeden': 176,\n",
              " 'kötü': 177,\n",
              " 'düşünüyorum': 178,\n",
              " 'numara': 179,\n",
              " 'bi̇r': 180,\n",
              " 'süre': 181,\n",
              " 'kullanımı': 182,\n",
              " 'çıktı': 183,\n",
              " 'günü': 184,\n",
              " 'su': 185,\n",
              " 'adet': 186,\n",
              " 'şey': 187,\n",
              " 'hemde': 188,\n",
              " 'icin': 189,\n",
              " 'hizli': 190,\n",
              " 'çalışıyor': 191,\n",
              " 'ay': 192,\n",
              " 'hb': 193,\n",
              " 'hafta': 194,\n",
              " 'sesi': 195,\n",
              " 'alışveriş': 196,\n",
              " 'farklı': 197,\n",
              " 'kitap': 198,\n",
              " 'yine': 199,\n",
              " 'böyle': 200,\n",
              " 'zor': 201,\n",
              " 'alabilirsiniz': 202,\n",
              " 'hızı': 203,\n",
              " 'çünkü': 204,\n",
              " 'para': 205,\n",
              " 'ertesi': 206,\n",
              " 'bende': 207,\n",
              " 'kullanım': 208,\n",
              " 'sürekli': 209,\n",
              " 'duruyor': 210,\n",
              " 'aldim': 211,\n",
              " 'olur': 212,\n",
              " 'hoş': 213,\n",
              " 'artık': 214,\n",
              " 'yapıyor': 215,\n",
              " 'konusunda': 216,\n",
              " 'yorumlara': 217,\n",
              " 'gönderi': 218,\n",
              " 'olsa': 219,\n",
              " 'gücü': 220,\n",
              " 'şu': 221,\n",
              " 'vardı': 222,\n",
              " 'üründen': 223,\n",
              " 'malzeme': 224,\n",
              " 'biri': 225,\n",
              " 'pratik': 226,\n",
              " 'dışında': 227,\n",
              " 'defa': 228,\n",
              " 'kullandığım': 229,\n",
              " 'şimdi': 230,\n",
              " 'diş': 231,\n",
              " 'samsung': 232,\n",
              " 'onun': 233,\n",
              " 'bugün': 234,\n",
              " 'özelliği': 235,\n",
              " 'iş': 236,\n",
              " 'kurulumu': 237,\n",
              " 'tereddüt': 238,\n",
              " 'şarjı': 239,\n",
              " 'i̇lk': 240,\n",
              " '7': 241,\n",
              " 'ince': 242,\n",
              " 'gelen': 243,\n",
              " 'kullanmaya': 244,\n",
              " 'diyebilirim': 245,\n",
              " 'almayı': 246,\n",
              " 'pek': 247,\n",
              " 'aldık': 248,\n",
              " 'denedim': 249,\n",
              " '8': 250,\n",
              " 'tekrar': 251,\n",
              " 'çabuk': 252,\n",
              " 'karar': 253,\n",
              " 'kez': 254,\n",
              " 'sahip': 255,\n",
              " 'kendi': 256,\n",
              " 'basit': 257,\n",
              " 'dolayı': 258,\n",
              " 'derece': 259,\n",
              " 'veya': 260,\n",
              " 'kamera': 261,\n",
              " 'pil': 262,\n",
              " 'hiçbir': 263,\n",
              " 'öncelikle': 264,\n",
              " 'açısından': 265,\n",
              " 'iphone': 266,\n",
              " 'sonuç': 267,\n",
              " 'yanında': 268,\n",
              " 'sessiz': 269,\n",
              " 'pahalı': 270,\n",
              " 'işe': 271,\n",
              " 'gidiyor': 272,\n",
              " 'dan': 273,\n",
              " 'olmadı': 274,\n",
              " 'öyle': 275,\n",
              " 'tesekkurler': 276,\n",
              " 'bunun': 277,\n",
              " 'beni': 278,\n",
              " 'varsa': 279,\n",
              " 'yer': 280,\n",
              " 'gece': 281,\n",
              " 'zamanında': 282,\n",
              " 'yorum': 283,\n",
              " 'performansı': 284,\n",
              " 'parfüm': 285,\n",
              " 'evde': 286,\n",
              " 'belli': 287,\n",
              " 'eğer': 288,\n",
              " 'oyun': 289,\n",
              " 'ağır': 290,\n",
              " 'iyisi': 291,\n",
              " 'arada': 292,\n",
              " 'mutlaka': 293,\n",
              " 'zamanda': 294,\n",
              " 'usb': 295,\n",
              " 'ufak': 296,\n",
              " 'üzerinde': 297,\n",
              " 'hatta': 298,\n",
              " 'fark': 299,\n",
              " 'gönül': 300,\n",
              " 'paketleme': 301,\n",
              " 'eşim': 302,\n",
              " 'alacak': 303,\n",
              " '15': 304,\n",
              " 'gereken': 305,\n",
              " 'doğru': 306,\n",
              " 'eski': 307,\n",
              " 'herhangi': 308,\n",
              " 'aydır': 309,\n",
              " 'tl': 310,\n",
              " 'kalıcı': 311,\n",
              " 'rahatlıkla': 312,\n",
              " 'vs': 313,\n",
              " 'satın': 314,\n",
              " 'alınabilecek': 315,\n",
              " 'bundan': 316,\n",
              " 'farkı': 317,\n",
              " 'görüntü': 318,\n",
              " 'lazım': 319,\n",
              " 'gercekten': 320,\n",
              " 'şiddetle': 321,\n",
              " 'kullanmak': 322,\n",
              " 'kaçırmayın': 323,\n",
              " 'alırken': 324,\n",
              " 'kargoya': 325,\n",
              " 'yaşamadım': 326,\n",
              " 'mi': 327,\n",
              " 'yaptım': 328,\n",
              " 'prima': 329,\n",
              " 'birlikte': 330,\n",
              " 'gördüm': 331,\n",
              " 'gerekiyor': 332,\n",
              " 'telefonun': 333,\n",
              " 'ürünler': 334,\n",
              " 'ayrı': 335,\n",
              " 'önemli': 336,\n",
              " 'sayesinde': 337,\n",
              " 'bütün': 338,\n",
              " 'yıl': 339,\n",
              " 'gb': 340,\n",
              " 'alalı': 341,\n",
              " 'beklediğimden': 342,\n",
              " 'almaya': 343,\n",
              " 'yerde': 344,\n",
              " 'olmasına': 345,\n",
              " 'tv': 346,\n",
              " 'sabah': 347,\n",
              " 'devam': 348,\n",
              " 'kutu': 349,\n",
              " 'henüz': 350,\n",
              " 'falan': 351,\n",
              " 'sorunu': 352,\n",
              " 'tabi': 353,\n",
              " 'a': 354,\n",
              " '20': 355,\n",
              " 'bakarak': 356,\n",
              " 'sanırım': 357,\n",
              " 'hepsiburadaya': 358,\n",
              " 'kulaklık': 359,\n",
              " 'süresi': 360,\n",
              " 'hala': 361,\n",
              " 'muhteşem': 362,\n",
              " 'dikkat': 363,\n",
              " 'güvenilir': 364,\n",
              " 'rahatsız': 365,\n",
              " 'edilir': 366,\n",
              " 'çıkıyor': 367,\n",
              " 'alıp': 368,\n",
              " 'yüzden': 369,\n",
              " 'toz': 370,\n",
              " 'kere': 371,\n",
              " 'orijinal': 372,\n",
              " 'sağlıyor': 373,\n",
              " 'kamerası': 374,\n",
              " 'dün': 375,\n",
              " 'ürüne': 376,\n",
              " 'düşük': 377,\n",
              " 'spor': 378,\n",
              " 'i̇yi': 379,\n",
              " 'problem': 380,\n",
              " 'öneririm': 381,\n",
              " 'edildi': 382,\n",
              " 'plastik': 383,\n",
              " 'içerisinde': 384,\n",
              " 'makine': 385,\n",
              " 'beri': 386,\n",
              " 'fazlasıyla': 387,\n",
              " 'baya': 388,\n",
              " 'kullanımda': 389,\n",
              " '30': 390,\n",
              " 'tavsi̇ye': 391,\n",
              " 'an': 392,\n",
              " 'yalnız': 393,\n",
              " 'özellikleri': 394,\n",
              " 'on': 395,\n",
              " 'den': 396,\n",
              " 'satıcı': 397,\n",
              " 'ilgili': 398,\n",
              " 'genel': 399,\n",
              " 'oldum': 400,\n",
              " 'kaç': 401,\n",
              " 'etkili': 402,\n",
              " 'sıcak': 403,\n",
              " 'haftadır': 404,\n",
              " 'üstelik': 405,\n",
              " 'fiyatıda': 406,\n",
              " 'olmuş': 407,\n",
              " '24': 408,\n",
              " 'yada': 409,\n",
              " 'hep': 410,\n",
              " 'üst': 411,\n",
              " 'olabilir': 412,\n",
              " 'paket': 413,\n",
              " 'bazı': 414,\n",
              " 'almışım': 415,\n",
              " 'güçlü': 416,\n",
              " 'piyasada': 417,\n",
              " 'yerine': 418,\n",
              " 'arasında': 419,\n",
              " 'renk': 420,\n",
              " 'inanılmaz': 421,\n",
              " 'arkadaşlara': 422,\n",
              " 'paraya': 423,\n",
              " 'kurulum': 424,\n",
              " 'umarım': 425,\n",
              " 'sert': 426,\n",
              " 'kitabı': 427,\n",
              " 'ederi̇m': 428,\n",
              " 'olmuyor': 429,\n",
              " 'fena': 430,\n",
              " 'gitti': 431,\n",
              " 'servis': 432,\n",
              " 'altında': 433,\n",
              " 'üzerine': 434,\n",
              " 'nasıl': 435,\n",
              " 'birde': 436,\n",
              " 'ye': 437,\n",
              " 'gelince': 438,\n",
              " 'birşey': 439,\n",
              " 'note': 440,\n",
              " 'yorumları': 441,\n",
              " 'başladım': 442,\n",
              " 'olanlar': 443,\n",
              " 'ön': 444,\n",
              " '0': 445,\n",
              " 'dk': 446,\n",
              " 'üründe': 447,\n",
              " 'sanki': 448,\n",
              " 'kalitesini': 449,\n",
              " 'i̇yi̇': 450,\n",
              " 'sarj': 451,\n",
              " 'almadan': 452,\n",
              " 'etti': 453,\n",
              " 'alıyorum': 454,\n",
              " 'ev': 455,\n",
              " 'cihazı': 456,\n",
              " 'kullanıyoruz': 457,\n",
              " 'geç': 458,\n",
              " 'eşime': 459,\n",
              " 'görünce': 460,\n",
              " 'memnunuz': 461,\n",
              " 'yıldır': 462,\n",
              " 'edici': 463,\n",
              " 'bez': 464,\n",
              " 'arka': 465,\n",
              " 'saatte': 466,\n",
              " 'anda': 467,\n",
              " 'tamamen': 468,\n",
              " 'hizmet': 469,\n",
              " 'çekim': 470,\n",
              " 'herkes': 471,\n",
              " 'parmak': 472,\n",
              " 'akşam': 473,\n",
              " 'tutuyor': 474,\n",
              " 'geçen': 475,\n",
              " 'gore': 476,\n",
              " 'android': 477,\n",
              " 'elimize': 478,\n",
              " '12': 479,\n",
              " 'telefona': 480,\n",
              " 'temizlik': 481,\n",
              " 'görünüyor': 482,\n",
              " 'yumuşak': 483,\n",
              " 'kablo': 484,\n",
              " 'buradan': 485,\n",
              " '100': 486,\n",
              " 'kısmı': 487,\n",
              " 'size': 488,\n",
              " 'orta': 489,\n",
              " 'piyasadaki': 490,\n",
              " 'net': 491,\n",
              " 'hak': 492,\n",
              " 'yere': 493,\n",
              " 'günlük': 494,\n",
              " 'beğendi': 495,\n",
              " 'rahatlığıyla': 496,\n",
              " 'eder': 497,\n",
              " 'hız': 498,\n",
              " 'müzik': 499,\n",
              " 'kalın': 500,\n",
              " 'siyah': 501,\n",
              " 'urunu': 502,\n",
              " 'degil': 503,\n",
              " 'bedava': 504,\n",
              " 'istediğim': 505,\n",
              " 'oğlum': 506,\n",
              " 'saç': 507,\n",
              " 'güvenli': 508,\n",
              " 'kılıf': 509,\n",
              " 'onu': 510,\n",
              " 'yıldız': 511,\n",
              " 'yoksa': 512,\n",
              " 'çıkan': 513,\n",
              " 'hesaplı': 514,\n",
              " 'etmeden': 515,\n",
              " 'hava': 516,\n",
              " 'piyasaya': 517,\n",
              " 'kilo': 518,\n",
              " 'ışık': 519,\n",
              " 'neredeyse': 520,\n",
              " 'fotoğraf': 521,\n",
              " 'i̇çi̇n': 522,\n",
              " 'tşk': 523,\n",
              " 'belki': 524,\n",
              " 'olurdu': 525,\n",
              " 'kablosu': 526,\n",
              " 'bır': 527,\n",
              " 'mı': 528,\n",
              " 'gündür': 529,\n",
              " 'temiz': 530,\n",
              " 'garantili': 531,\n",
              " 'içine': 532,\n",
              " 'alınabilir': 533,\n",
              " 'herşey': 534,\n",
              " 'almanızı': 535,\n",
              " 'siparişi': 536,\n",
              " 'olmaz': 537,\n",
              " 'keşke': 538,\n",
              " 'kendini': 539,\n",
              " 'olacak': 540,\n",
              " 'yakın': 541,\n",
              " 'rengi': 542,\n",
              " 'gun': 543,\n",
              " 'süpürge': 544,\n",
              " 'traş': 545,\n",
              " 'çift': 546,\n",
              " 'şuan': 547,\n",
              " 'gönderim': 548,\n",
              " 'buna': 549,\n",
              " 'motor': 550,\n",
              " 'birkaç': 551,\n",
              " 'hoşuma': 552,\n",
              " 'tasarımı': 553,\n",
              " 'kaldık': 554,\n",
              " 'verdiğim': 555,\n",
              " 'hic': 556,\n",
              " 'değer': 557,\n",
              " 'yağ': 558,\n",
              " 'ekonomik': 559,\n",
              " 'dedim': 560,\n",
              " 'tatmin': 561,\n",
              " 'isteyenlere': 562,\n",
              " 'içinden': 563,\n",
              " 'araştırdım': 564,\n",
              " 'oda': 565,\n",
              " 'yıllardır': 566,\n",
              " 'mevcut': 567,\n",
              " 'kızım': 568,\n",
              " 'kalıyor': 569,\n",
              " 'yapmak': 570,\n",
              " 'buldum': 571,\n",
              " 'şimdilik': 572,\n",
              " 'yanı': 573,\n",
              " 'makina': 574,\n",
              " 'görüyor': 575,\n",
              " 'model': 576,\n",
              " 'kargoda': 577,\n",
              " 'kaldı': 578,\n",
              " '9': 579,\n",
              " 'üstünde': 580,\n",
              " 'avantaj': 581,\n",
              " 'sizi': 582,\n",
              " 'alet': 583,\n",
              " 'müthiş': 584,\n",
              " 'metal': 585,\n",
              " 'ürünleri': 586,\n",
              " 'mouse': 587,\n",
              " 'beraber': 588,\n",
              " 'bebek': 589,\n",
              " 'kullanıyordum': 590,\n",
              " 'geri': 591,\n",
              " 'ederiz': 592,\n",
              " 'başta': 593,\n",
              " 'makul': 594,\n",
              " 'olmazsınız': 595,\n",
              " 'apple': 596,\n",
              " 'yaptı': 597,\n",
              " 'okudum': 598,\n",
              " 'elimde': 599,\n",
              " 'görür': 600,\n",
              " 'olduğundan': 601,\n",
              " 'fiyatının': 602,\n",
              " 'açık': 603,\n",
              " 'üzerinden': 604,\n",
              " 'aşırı': 605,\n",
              " 'özellik': 606,\n",
              " 'e': 607,\n",
              " 'olanlara': 608,\n",
              " 'izi': 609,\n",
              " 'garanti': 610,\n",
              " 'film': 611,\n",
              " 'biz': 612,\n",
              " 'yavaş': 613,\n",
              " 'ucuza': 614,\n",
              " 'bişey': 615,\n",
              " 'tartışılmaz': 616,\n",
              " 'sene': 617,\n",
              " 'super': 618,\n",
              " 'site': 619,\n",
              " 'birçok': 620,\n",
              " 'ücretsiz': 621,\n",
              " 'sonunda': 622,\n",
              " 'ısınma': 623,\n",
              " 'saati': 624,\n",
              " 'batarya': 625,\n",
              " 'kapalı': 626,\n",
              " 'olumsuz': 627,\n",
              " 'alan': 628,\n",
              " 'hediyesi': 629,\n",
              " 'kullaniyorum': 630,\n",
              " 'yapmıyor': 631,\n",
              " 'eve': 632,\n",
              " 'evet': 633,\n",
              " 'önceki': 634,\n",
              " 'sık': 635,\n",
              " 'hakkını': 636,\n",
              " 'beklediğim': 637,\n",
              " 'kelimeyle': 638,\n",
              " 'beyaz': 639,\n",
              " 'zorunda': 640,\n",
              " 'üç': 641,\n",
              " 'kat': 642,\n",
              " 'telefonda': 643,\n",
              " 'tasarım': 644,\n",
              " 'dakika': 645,\n",
              " 'etmek': 646,\n",
              " 'uyumlu': 647,\n",
              " 'önceden': 648,\n",
              " 'olunca': 649,\n",
              " 'severek': 650,\n",
              " 'isteyenler': 651,\n",
              " 'diyorum': 652,\n",
              " 'çanta': 653,\n",
              " 'el': 654,\n",
              " 'istedim': 655,\n",
              " 'iyiki': 656,\n",
              " 'kullanın': 657,\n",
              " 'yoktu': 658,\n",
              " 'sıkıntısı': 659,\n",
              " 'ikinci': 660,\n",
              " 'yorumlarda': 661,\n",
              " 'çekiyor': 662,\n",
              " 'bilmiyorum': 663,\n",
              " 'kullanma': 664,\n",
              " 'araç': 665,\n",
              " 'edin': 666,\n",
              " 'görüntüsü': 667,\n",
              " 'firma': 668,\n",
              " 'alıyor': 669,\n",
              " 'hepsi̇burada': 670,\n",
              " 'alt': 671,\n",
              " 'olmadan': 672,\n",
              " 'bazen': 673,\n",
              " 'dayanıklı': 674,\n",
              " 'olmaması': 675,\n",
              " 'ona': 676,\n",
              " 'iade': 677,\n",
              " 'fiyatlı': 678,\n",
              " 'internet': 679,\n",
              " 'geniş': 680,\n",
              " 'philips': 681,\n",
              " 'koltuk': 682,\n",
              " 'elimdeydi': 683,\n",
              " 'kullanan': 684,\n",
              " 'yaparken': 685,\n",
              " 'derecede': 686,\n",
              " 'asla': 687,\n",
              " '16': 688,\n",
              " 'kalitede': 689,\n",
              " 'taktım': 690,\n",
              " 'resmen': 691,\n",
              " 'eden': 692,\n",
              " 'halde': 693,\n",
              " 'merhaba': 694,\n",
              " 'mukemmel': 695,\n",
              " 'hassas': 696,\n",
              " 'başladı': 697,\n",
              " 'zarar': 698,\n",
              " 'kalitesiz': 699,\n",
              " 'aylık': 700,\n",
              " 'açıkçası': 701,\n",
              " 'mutlu': 702,\n",
              " 'alin': 703,\n",
              " 'yeri': 704,\n",
              " 'ram': 705,\n",
              " 'neden': 706,\n",
              " 'eksiksiz': 707,\n",
              " 'paketlenmiş': 708,\n",
              " 'idi': 709,\n",
              " 'idare': 710,\n",
              " 'iyiydi': 711,\n",
              " 'olabilirdi': 712,\n",
              " 'yarıyor': 713,\n",
              " 'gerekli': 714,\n",
              " 'olduğum': 715,\n",
              " '50': 716,\n",
              " 'parfümü': 717,\n",
              " 'buradaya': 718,\n",
              " 'kelime': 719,\n",
              " 'herkesin': 720,\n",
              " 'olmasi': 721,\n",
              " 'ara': 722,\n",
              " 'verildi': 723,\n",
              " 'yoğun': 724,\n",
              " 'etkisi': 725,\n",
              " 'vermeye': 726,\n",
              " 'saçlarım': 727,\n",
              " 'siz': 728,\n",
              " 'kullanıyor': 729,\n",
              " 'b': 730,\n",
              " '40': 731,\n",
              " 'zamandır': 732,\n",
              " 'yapan': 733,\n",
              " 'olmayan': 734,\n",
              " 'yorumlar': 735,\n",
              " 'ayrica': 736,\n",
              " 'yinede': 737,\n",
              " 'kendim': 738,\n",
              " 'ulasti': 739,\n",
              " 'hafıza': 740,\n",
              " 'etmiyor': 741,\n",
              " 'almış': 742,\n",
              " 'yapılmış': 743,\n",
              " 'verdikten': 744,\n",
              " 'kendime': 745,\n",
              " 'yedek': 746,\n",
              " 'düşünenlere': 747,\n",
              " 'durum': 748,\n",
              " 'sonuçta': 749,\n",
              " 'yerden': 750,\n",
              " 'etmiyorum': 751,\n",
              " 'video': 752,\n",
              " 'çekiş': 753,\n",
              " 'cuma': 754,\n",
              " 'cam': 755,\n",
              " 'uygulama': 756,\n",
              " 'içi': 757,\n",
              " 'işi': 758,\n",
              " 'eksik': 759,\n",
              " 'ihtiyacı': 760,\n",
              " 'eksiği': 761,\n",
              " 'faydalı': 762,\n",
              " 'göz': 763,\n",
              " 'deneme': 764,\n",
              " 'isteyen': 765,\n",
              " 'acaba': 766,\n",
              " 'kısacası': 767,\n",
              " 'kullanabilirsiniz': 768,\n",
              " 'merak': 769,\n",
              " 'temizliyor': 770,\n",
              " 'ürünle': 771,\n",
              " 'rahatlığı': 772,\n",
              " 'p': 773,\n",
              " 'türkiye': 774,\n",
              " 'hepsiburadadan': 775,\n",
              " 'aldı': 776,\n",
              " 'görmedim': 777,\n",
              " 'test': 778,\n",
              " 'ana': 779,\n",
              " 'aldıktan': 780,\n",
              " 'aleti': 781,\n",
              " 'şimdiye': 782,\n",
              " 'yapıyorum': 783,\n",
              " 'olumlu': 784,\n",
              " 'hakkında': 785,\n",
              " 'piyasa': 786,\n",
              " 'ekranı': 787,\n",
              " 'mümkün': 788,\n",
              " 'kış': 789,\n",
              " 'siparis': 790,\n",
              " 'd': 791,\n",
              " 'malı': 792,\n",
              " 'elinize': 793,\n",
              " 'km': 794,\n",
              " 'gösteriyor': 795,\n",
              " 'haricinde': 796,\n",
              " 'donma': 797,\n",
              " 'denemek': 798,\n",
              " 'türlü': 799,\n",
              " 'i': 800,\n",
              " 'alacaklara': 801,\n",
              " 'elde': 802,\n",
              " 'dış': 803,\n",
              " 'dokunmatik': 804,\n",
              " 'gerçek': 805,\n",
              " 'tabiki': 806,\n",
              " 'ürünlere': 807,\n",
              " 'boyutu': 808,\n",
              " 'hissi': 809,\n",
              " 'söyleyebilirim': 810,\n",
              " 'cabası': 811,\n",
              " 'kaldim': 812,\n",
              " 'emiş': 813,\n",
              " 'kanal': 814,\n",
              " 'takip': 815,\n",
              " 'problemi': 816,\n",
              " 'tavsiyem': 817,\n",
              " 'kargolama': 818,\n",
              " 'aslında': 819,\n",
              " 'dahi': 820,\n",
              " 'yardımcı': 821,\n",
              " 'akıcı': 822,\n",
              " 'ütü': 823,\n",
              " 'konuda': 824,\n",
              " 'hayırlı': 825,\n",
              " 'değilim': 826,\n",
              " 'herkeze': 827,\n",
              " 'karşı': 828,\n",
              " 'markanın': 829,\n",
              " 'kutusu': 830,\n",
              " 'elektrik': 831,\n",
              " 'yaz': 832,\n",
              " 'yerli': 833,\n",
              " 'tavsıye': 834,\n",
              " 'emin': 835,\n",
              " 's': 836,\n",
              " 'lg': 837,\n",
              " 'once': 838,\n",
              " 'araba': 839,\n",
              " 'pazartesi': 840,\n",
              " 'f': 841,\n",
              " 'kullandıktan': 842,\n",
              " 'yatak': 843,\n",
              " 'zarif': 844,\n",
              " 'gelir': 845,\n",
              " 'beden': 846,\n",
              " 'özel': 847,\n",
              " 'ciddi': 848,\n",
              " 'kontrol': 849,\n",
              " 'olmak': 850,\n",
              " 'i̇ki': 851,\n",
              " 'zamanla': 852,\n",
              " 'fayda': 853,\n",
              " 'istiyorsanız': 854,\n",
              " 'bağlantı': 855,\n",
              " 'sıfır': 856,\n",
              " 'çıkmadı': 857,\n",
              " 'ayni': 858,\n",
              " 'parasını': 859,\n",
              " 'fön': 860,\n",
              " 'anladım': 861,\n",
              " 'düzgün': 862,\n",
              " 'olmadığı': 863,\n",
              " 'fiyatını': 864,\n",
              " 'kibar': 865,\n",
              " 'veren': 866,\n",
              " 'sağlıklı': 867,\n",
              " 'birisi': 868,\n",
              " 'soğuk': 869,\n",
              " 'montaj': 870,\n",
              " 'klasik': 871,\n",
              " 'parça': 872,\n",
              " 'yarım': 873,\n",
              " 'telefondan': 874,\n",
              " 'okuma': 875,\n",
              " 'makinesi': 876,\n",
              " 'verilen': 877,\n",
              " 'düzenli': 878,\n",
              " 'düşünmeyin': 879,\n",
              " 'kullanılabilir': 880,\n",
              " 'koruyucu': 881,\n",
              " 'anneme': 882,\n",
              " 'hale': 883,\n",
              " 'ömrü': 884,\n",
              " 'kalitesine': 885,\n",
              " 'bulmak': 886,\n",
              " 'kullanmadım': 887,\n",
              " 'saglam': 888,\n",
              " 'normalde': 889,\n",
              " 'cm': 890,\n",
              " 'xiaomi': 891,\n",
              " 'beklemeyin': 892,\n",
              " 'çoğu': 893,\n",
              " 'pili': 894,\n",
              " 'çocuk': 895,\n",
              " 'bakımından': 896,\n",
              " 'birebir': 897,\n",
              " 'yazma': 898,\n",
              " 'boyu': 899,\n",
              " 'hareket': 900,\n",
              " 'siteden': 901,\n",
              " 'cihazın': 902,\n",
              " 'led': 903,\n",
              " 'tahmin': 904,\n",
              " 'kapak': 905,\n",
              " 'bilgisayar': 906,\n",
              " 'ısınıyor': 907,\n",
              " 'eksi': 908,\n",
              " 'gelmesi': 909,\n",
              " 'kalmadı': 910,\n",
              " 'begendim': 911,\n",
              " 'kullanisli': 912,\n",
              " 'verip': 913,\n",
              " 'günden': 914,\n",
              " 'kaçmaz': 915,\n",
              " 'sürükleyici': 916,\n",
              " 'sonucu': 917,\n",
              " 'markası': 918,\n",
              " 'indirim': 919,\n",
              " 'oranı': 920,\n",
              " 'arkadaşım': 921,\n",
              " 'telefonum': 922,\n",
              " 'temizliği': 923,\n",
              " 'şarjlı': 924,\n",
              " 'kullanırken': 925,\n",
              " 'zayıf': 926,\n",
              " 'tesekkur': 927,\n",
              " 'çıkarıyor': 928,\n",
              " 'karşıladı': 929,\n",
              " 'sistemi': 930,\n",
              " 'akıllı': 931,\n",
              " 'ortalama': 932,\n",
              " 'direk': 933,\n",
              " 'alınır': 934,\n",
              " 'olsaydı': 935,\n",
              " 'arkadaslar': 936,\n",
              " 'profesyonel': 937,\n",
              " 'boşuna': 938,\n",
              " 'hd': 939,\n",
              " 'sony': 940,\n",
              " 'iç': 941,\n",
              " 'ekstra': 942,\n",
              " 'yi': 943,\n",
              " 'kuru': 944,\n",
              " 'sonrası': 945,\n",
              " 'almayın': 946,\n",
              " 'lik': 947,\n",
              " 'kusursuz': 948,\n",
              " 'başlık': 949,\n",
              " 'seviyede': 950,\n",
              " 'bluetooth': 951,\n",
              " 'kullanmıştım': 952,\n",
              " 'burda': 953,\n",
              " 'genelde': 954,\n",
              " 'kokuyu': 955,\n",
              " 'olacağını': 956,\n",
              " 'siparişim': 957,\n",
              " 'burdan': 958,\n",
              " 'kampanya': 959,\n",
              " 'nin': 960,\n",
              " 'olanı': 961,\n",
              " 'vestel': 962,\n",
              " 'alacağım': 963,\n",
              " 'tarafı': 964,\n",
              " 'insan': 965,\n",
              " 'artı': 966,\n",
              " 'paketi': 967,\n",
              " 'ayarı': 968,\n",
              " 'karşılıyor': 969,\n",
              " 'üstüne': 970,\n",
              " 'premium': 971,\n",
              " 'kalıcılığı': 972,\n",
              " 'eminim': 973,\n",
              " 'olup': 974,\n",
              " 'ürünlerden': 975,\n",
              " 'malzemesi': 976,\n",
              " 'mavi': 977,\n",
              " 'buradaki': 978,\n",
              " 'markalara': 979,\n",
              " 'parlak': 980,\n",
              " 'söz': 981,\n",
              " 'ergonomik': 982,\n",
              " 'yaptığım': 983,\n",
              " 'kendisi': 984,\n",
              " 'düşünen': 985,\n",
              " 'hızlıydı': 986,\n",
              " 'kasma': 987,\n",
              " 'fiyatta': 988,\n",
              " 'enerji': 989,\n",
              " 'kolayca': 990,\n",
              " 'yan': 991,\n",
              " 'pc': 992,\n",
              " '00': 993,\n",
              " 'bol': 994,\n",
              " 'kablosuz': 995,\n",
              " 'full': 996,\n",
              " 'işinizi': 997,\n",
              " 'modeli': 998,\n",
              " 'oturuyor': 999,\n",
              " 'kişi': 1000,\n",
              " ...}"
            ]
          },
          "execution_count": 15,
          "metadata": {},
          "output_type": "execute_result"
        }
      ],
      "source": [
        "tokenizer.word_index"
      ]
    },
    {
      "cell_type": "code",
      "execution_count": 16,
      "metadata": {
        "colab": {
          "base_uri": "https://localhost:8080/"
        },
        "id": "01oWtDTTMP3J",
        "outputId": "4c603a50-95f3-4234-861a-aac4e6f93928"
      },
      "outputs": [
        {
          "data": {
            "text/plain": [
              "217983"
            ]
          },
          "execution_count": 16,
          "metadata": {},
          "output_type": "execute_result"
        }
      ],
      "source": [
        "len(tokenizer.word_index)"
      ]
    },
    {
      "cell_type": "markdown",
      "metadata": {
        "id": "1sENSxrzMP3J"
      },
      "source": [
        "## Converting tokens to numeric"
      ]
    },
    {
      "cell_type": "code",
      "execution_count": 17,
      "metadata": {
        "id": "OL-LESXtMP3J"
      },
      "outputs": [],
      "source": [
        "X_num_tokens = tokenizer.texts_to_sequences(X)"
      ]
    },
    {
      "cell_type": "code",
      "execution_count": 18,
      "metadata": {
        "colab": {
          "base_uri": "https://localhost:8080/",
          "height": 54
        },
        "id": "UR0ED18aMP3K",
        "outputId": "78b555bf-b26e-45cf-eb2f-bcc8ce5060c1"
      },
      "outputs": [
        {
          "data": {
            "text/plain": [
              "'Logitech ürünlerinin geneli kalite olarak çok iyidir. Adedini tam saymadım ama 10 un üzerinde kendime akrabalarıma arkadaşlarıma almışımdır hepside memnunlar. İhtiyacı olan kaçırmasın başkada ürün aramasın derim.'"
            ]
          },
          "execution_count": 18,
          "metadata": {},
          "output_type": "execute_result"
        }
      ],
      "source": [
        "X[105]   #dönüsümleri ilk 15 binde en cok kullanilan tokenlere göre yapar digerlerini ignore eder"
      ]
    },
    {
      "cell_type": "code",
      "execution_count": 19,
      "metadata": {
        "colab": {
          "base_uri": "https://localhost:8080/"
        },
        "id": "sFpOQBoqMP3K",
        "outputId": "bf3a4f59-a59f-444e-c591-a124dfd46c83"
      },
      "outputs": [
        {
          "name": "stdout",
          "output_type": "stream",
          "text": [
            "[1816, 5360, 131, 23, 1, 1849, 74, 12, 118, 1533, 297, 745, 3216, 13402, 6326, 5030, 2463, 113, 2534, 8858, 4, 143]\n"
          ]
        }
      ],
      "source": [
        "print(X_num_tokens[105])"
      ]
    },
    {
      "cell_type": "markdown",
      "metadata": {
        "id": "hMRq6Oh90GXq"
      },
      "source": [
        "## Maximum number of tokens for all documents"
      ]
    },
    {
      "cell_type": "code",
      "execution_count": 20,
      "metadata": {
        "colab": {
          "base_uri": "https://localhost:8080/"
        },
        "id": "h8qwAwEHMP3L",
        "outputId": "79cacab0-06a1-495d-c1d0-515a49445dff"
      },
      "outputs": [
        {
          "data": {
            "text/plain": [
              "22"
            ]
          },
          "execution_count": 20,
          "metadata": {},
          "output_type": "execute_result"
        }
      ],
      "source": [
        "len(X_num_tokens[105])"
      ]
    },
    {
      "cell_type": "code",
      "execution_count": 21,
      "metadata": {
        "colab": {
          "base_uri": "https://localhost:8080/"
        },
        "id": "1E-ySfDiMP3M",
        "outputId": "8600de1d-8ae1-4f1d-d955-fb093399d3d8"
      },
      "outputs": [
        {
          "data": {
            "text/plain": [
              "18"
            ]
          },
          "execution_count": 21,
          "metadata": {},
          "output_type": "execute_result"
        }
      ],
      "source": [
        "len(X_num_tokens[106])"
      ]
    },
    {
      "cell_type": "code",
      "execution_count": 22,
      "metadata": {
        "colab": {
          "base_uri": "https://localhost:8080/"
        },
        "id": "mOQfFfutfMTn",
        "outputId": "f766e8b0-292b-4b21-8ba0-fed4d07248f7"
      },
      "outputs": [
        {
          "data": {
            "text/plain": [
              "88"
            ]
          },
          "execution_count": 22,
          "metadata": {},
          "output_type": "execute_result"
        }
      ],
      "source": [
        "len(X_num_tokens[6150])"
      ]
    },
    {
      "cell_type": "code",
      "execution_count": 23,
      "metadata": {
        "id": "dp7-tP7MMP3M"
      },
      "outputs": [],
      "source": [
        "num_tokens = [len(tokens) for tokens in X_num_tokens]\n",
        "num_tokens = np.array(num_tokens)"
      ]
    },
    {
      "cell_type": "code",
      "execution_count": 24,
      "metadata": {
        "colab": {
          "base_uri": "https://localhost:8080/"
        },
        "id": "9hO5Jgp8VG5B",
        "outputId": "92a8f869-a8a4-415c-a29e-8f89a9d6cd2f"
      },
      "outputs": [
        {
          "data": {
            "text/plain": [
              "array([ 4,  4, 66, ...,  4, 10, 38])"
            ]
          },
          "execution_count": 24,
          "metadata": {},
          "output_type": "execute_result"
        }
      ],
      "source": [
        "num_tokens"
      ]
    },
    {
      "cell_type": "code",
      "execution_count": 25,
      "metadata": {
        "colab": {
          "base_uri": "https://localhost:8080/"
        },
        "id": "4mIHsbiDMP3N",
        "outputId": "26d42665-84c5-47b0-cdbd-06f5ff5c7f9e"
      },
      "outputs": [
        {
          "data": {
            "text/plain": [
              "21.36101060793357"
            ]
          },
          "execution_count": 25,
          "metadata": {},
          "output_type": "execute_result"
        }
      ],
      "source": [
        "num_tokens.mean()"
      ]
    },
    {
      "cell_type": "code",
      "execution_count": 26,
      "metadata": {
        "colab": {
          "base_uri": "https://localhost:8080/"
        },
        "id": "c-iTNs-0MP3N",
        "outputId": "a4c290f3-09da-40de-ec95-f5b52871fc45"
      },
      "outputs": [
        {
          "data": {
            "text/plain": [
              "298"
            ]
          },
          "execution_count": 26,
          "metadata": {},
          "output_type": "execute_result"
        }
      ],
      "source": [
        "num_tokens.max()"
      ]
    },
    {
      "cell_type": "code",
      "execution_count": 27,
      "metadata": {
        "colab": {
          "base_uri": "https://localhost:8080/"
        },
        "id": "Wdpbr6TPMP3O",
        "outputId": "d50a066b-f011-404e-f385-57598c64bc25"
      },
      "outputs": [
        {
          "data": {
            "text/plain": [
              "21941"
            ]
          },
          "execution_count": 27,
          "metadata": {},
          "output_type": "execute_result"
        }
      ],
      "source": [
        "num_tokens.argmax() # listedeki en uzun yorumun indexini argmax ile bulabiliyoruz."
      ]
    },
    {
      "cell_type": "code",
      "execution_count": 28,
      "metadata": {
        "colab": {
          "base_uri": "https://localhost:8080/",
          "height": 127
        },
        "id": "bv29eaR2MP3P",
        "outputId": "87dbcfd6-61ca-4ecc-b29f-ffc11ac7d95c"
      },
      "outputs": [
        {
          "data": {
            "text/plain": [
              "'Özellikle bu kısma yazıyorum iyice okuyunuz,cihazın hızı çok iyi.Isınma normal boyutlarda.Kamerası elinizi sabit tutarsanız ve gündüz çok net gece ise çok net çekmez.Görüntülü konuşma özelliği yok ancak uygulama ile olur,anten çekimi gayet iyi.Parmak izi okuyucusu gayet hızlı bazen tuşu silmenizi istiyor ve okuyamıyor kirden vs...Ön kamera da tatmin edici,çekim esnasında ekran beyaz ışık vererek flaş görevi görür.Batarya bana 1 hafta gidiyor sık kullanımda ise 2-3 gün gidiyor.Hızlı şarj 1 saatte doluyor , şekilleri ele oturuyor ve şık bir görüntü var.Telefonu aldığım gün gittim ve ilk girdiğim yerden ekran koruyucu ve kılıf buldum.Kulaklık sesi çok net ve yüksek ancak kendi hoparlörü biraz zayıf sesi.Ekrana bakarken açık kalma özelliği yok.Diğer akıllı cihaz özellikleri %90 ı bu cihazda mevcut.Güç tasarrufu 2 ayrı modu var ve çok başarılı çalışıyor.4gb ram var genelde yarısı boş kalıyor.Bir de yeni cihazların çoğu titreşimi az ve sesi de az çıkıyor.Bu cihaz da içine dahil...Bu cihazlar güncelleme almaz ve rom bulunmuyormuş.Benim için güncelleme sorun olmaz -cihaz parasına göre s serisi ile yarışıyor çünkü.Biraz metal olmasından dolayı elden kolay kaysada duruşu ve gösterişi iyidir.Çift flaşı var arkada.Kısaca şöyle ki bu fiyata bu ürün alınır.5 aydır kullanıyorum kasma donma felan zaten olmaz,bataryası iyi,şekli iyi,özellikler de iyi....En büyük kafa karıştıran soru şu ki hadi cihaz arıza yaptı veya düştü ekranı kırıldı.Bunun bir servisi var,ithalatçı garantisi de var.Cihazın adı sanı belli...Parça bulanmaz tamir olmaz derseniz size kalmış.Zaten normal bir cihazı da düşürseniz farkedermi?.Güncelleme almaz diyorlar bu konuda düşünebilirsiniz.S serisi cihazlarla hızını kıyaslarsınız ama güncelleme ile araya fark koymuşlar.İki katı fiyata satılan cihazla farkı olmasa zaten olmaz değil mi?Almayı düşünenler başka bir cihazla kıyas yapacaksa yine  7pro veya 9 baksınlar.C5 pro da biraz boyutu kısa ve kibar....Sonuçta ömürlük değil alın fazla düşünmeyin'"
            ]
          },
          "execution_count": 28,
          "metadata": {},
          "output_type": "execute_result"
        }
      ],
      "source": [
        "X[21941]"
      ]
    },
    {
      "cell_type": "code",
      "execution_count": 29,
      "metadata": {
        "colab": {
          "base_uri": "https://localhost:8080/"
        },
        "id": "_W8AuJEcfe7s",
        "outputId": "0ed704f4-96a6-423a-f4b9-7fc3cccc480a"
      },
      "outputs": [
        {
          "data": {
            "text/plain": [
              "298"
            ]
          },
          "execution_count": 29,
          "metadata": {},
          "output_type": "execute_result"
        }
      ],
      "source": [
        "len(X_num_tokens[21941])"
      ]
    },
    {
      "cell_type": "code",
      "execution_count": 30,
      "metadata": {
        "colab": {
          "base_uri": "https://localhost:8080/"
        },
        "id": "66JrdJCtMP3P",
        "outputId": "b98cd328-e688-437e-a99a-cdd77a37f38c"
      },
      "outputs": [
        {
          "name": "stdout",
          "output_type": "stream",
          "text": [
            "[ True  True  True  True False False]\n",
            "4\n",
            "0.6666666666666666\n"
          ]
        }
      ],
      "source": [
        "list = [5, 10, 8, 9, 12, 15]\n",
        "print(np.array(list) < 11)\n",
        "print(sum(np.array(list) < 11))\n",
        "print(sum(np.array(list) < 11)/len(list))"
      ]
    },
    {
      "cell_type": "code",
      "execution_count": 31,
      "metadata": {
        "id": "-k5VZDpjMP3Q"
      },
      "outputs": [],
      "source": [
        "max_tokens = 61   #tokenlerimi 61 e sabitlersem % 4 kayip olacak, calisma maliyetini sabitliyor"
      ]
    },
    {
      "cell_type": "code",
      "execution_count": 32,
      "metadata": {
        "colab": {
          "base_uri": "https://localhost:8080/"
        },
        "id": "Xal4WMNoMP3Q",
        "outputId": "ee40a2b7-c8a8-4fae-e309-e3f376c7ee9d"
      },
      "outputs": [
        {
          "data": {
            "text/plain": [
              "0.9598968365113328"
            ]
          },
          "execution_count": 32,
          "metadata": {},
          "output_type": "execute_result"
        }
      ],
      "source": [
        "sum(num_tokens < max_tokens) / len(num_tokens) "
      ]
    },
    {
      "cell_type": "code",
      "execution_count": 33,
      "metadata": {
        "colab": {
          "base_uri": "https://localhost:8080/"
        },
        "id": "M2U7lFjMMP3R",
        "outputId": "37b1c20e-ccb1-4195-c88c-77160947e625"
      },
      "outputs": [
        {
          "data": {
            "text/plain": [
              "233732"
            ]
          },
          "execution_count": 33,
          "metadata": {},
          "output_type": "execute_result"
        }
      ],
      "source": [
        "sum(num_tokens < max_tokens)  #61 tokenden az olan sayiyi bulduk 233732 taneymis"
      ]
    },
    {
      "cell_type": "code",
      "execution_count": 34,
      "metadata": {
        "colab": {
          "base_uri": "https://localhost:8080/"
        },
        "id": "1lGeDqduMP3R",
        "outputId": "b33db143-44bc-4146-e534-ccb1e71b0624"
      },
      "outputs": [
        {
          "data": {
            "text/plain": [
              "243497"
            ]
          },
          "execution_count": 34,
          "metadata": {},
          "output_type": "execute_result"
        }
      ],
      "source": [
        "len(num_tokens)"
      ]
    },
    {
      "cell_type": "markdown",
      "metadata": {
        "id": "fvfHyoaKMP3R"
      },
      "source": [
        "## Fixing token counts of all documents (pad_sequences)"
      ]
    },
    {
      "cell_type": "code",
      "execution_count": 35,
      "metadata": {
        "id": "bs3CarRdMP3R"
      },
      "outputs": [],
      "source": [
        "X_pad = pad_sequences(X_num_tokens, maxlen=max_tokens)  #bütün yorumlarimi 61 e sabitleyecegim,padding doldurma demek\n",
        "#önce numeric hale dönüstürülmüs X_num_tokens i icine veriyorum, sonra hepsini 61 boyuta sabitle diyorum\n",
        "#max_len none olursa en uzun yoruma göre sabitlenir yani 291 e göre, ama 61 yeterli"
      ]
    },
    {
      "cell_type": "code",
      "execution_count": 36,
      "metadata": {
        "colab": {
          "base_uri": "https://localhost:8080/"
        },
        "id": "NJsSbXm_MP3S",
        "outputId": "4b008eac-11cb-4f77-a0ba-a4e367bd760f"
      },
      "outputs": [
        {
          "data": {
            "text/plain": [
              "(243497, 61)"
            ]
          },
          "execution_count": 36,
          "metadata": {},
          "output_type": "execute_result"
        }
      ],
      "source": [
        "X_pad.shape"
      ]
    },
    {
      "cell_type": "code",
      "execution_count": 37,
      "metadata": {
        "colab": {
          "base_uri": "https://localhost:8080/"
        },
        "id": "9byUlLyPMP3S",
        "outputId": "38d2fea7-07e2-4bd0-fb26-cb82c8a2e3f3"
      },
      "outputs": [
        {
          "data": {
            "text/plain": [
              "array([  19,  341,   52,  194,   30,   54, 7992,   55,  209,  603, 7887,\n",
              "          3,   36,  114,  164,  479,   85,    1, 1682,  782,   30,    2,\n",
              "        380,  326,    3,    1,   81,  132,  562,    9,   10])"
            ]
          },
          "execution_count": 37,
          "metadata": {},
          "output_type": "execute_result"
        }
      ],
      "source": [
        "np.array(X_num_tokens[800])  #okunmasini kolaylastirmak icin array e cevirdim"
      ]
    },
    {
      "cell_type": "code",
      "execution_count": 38,
      "metadata": {
        "colab": {
          "base_uri": "https://localhost:8080/"
        },
        "id": "58PMSYooYApW",
        "outputId": "01c3660b-ad2e-4acd-f889-b8bfdd59d1be"
      },
      "outputs": [
        {
          "data": {
            "text/plain": [
              "31"
            ]
          },
          "execution_count": 38,
          "metadata": {},
          "output_type": "execute_result"
        }
      ],
      "source": [
        "len(np.array(X_num_tokens[800]))"
      ]
    },
    {
      "cell_type": "code",
      "execution_count": 39,
      "metadata": {
        "colab": {
          "base_uri": "https://localhost:8080/"
        },
        "id": "AZOPw83rMP3S",
        "outputId": "7efda436-5b0a-43ab-accf-1caa7c000a78"
      },
      "outputs": [
        {
          "data": {
            "text/plain": [
              "array([   0,    0,    0,    0,    0,    0,    0,    0,    0,    0,    0,\n",
              "          0,    0,    0,    0,    0,    0,    0,    0,    0,    0,    0,\n",
              "          0,    0,    0,    0,    0,    0,    0,    0,   19,  341,   52,\n",
              "        194,   30,   54, 7992,   55,  209,  603, 7887,    3,   36,  114,\n",
              "        164,  479,   85,    1, 1682,  782,   30,    2,  380,  326,    3,\n",
              "          1,   81,  132,  562,    9,   10])"
            ]
          },
          "execution_count": 39,
          "metadata": {},
          "output_type": "execute_result"
        }
      ],
      "source": [
        "X_pad[800]   #30 taneyi 0 ile doldurmus, 0 lar hicbir seyi degistirmiyor(bu 61 den kisa olanlar icin)"
      ]
    },
    {
      "cell_type": "code",
      "execution_count": 40,
      "metadata": {
        "colab": {
          "base_uri": "https://localhost:8080/"
        },
        "id": "4skufTFRMP3T",
        "outputId": "117e0dc7-d1d9-4ff8-8d69-4aff6a39360b"
      },
      "outputs": [
        {
          "data": {
            "text/plain": [
              "array([  145,     5,  5876,  2225,  1653,   902,   203,     1,     6,\n",
              "        2958,   163,  4248,   374,  3449,  1521, 12582,     3,  1381,\n",
              "           1,   491,   281,   140,     1,   491,  3391,  2388,   235,\n",
              "          21,    82,   756,    31,   212,  4458,  1448,    14,     6,\n",
              "         472,   609,  2159,    14,    15,   673,  1681,  2152,     3,\n",
              "         313,   444,   261,    13,   561,   463,   470,  1664,   168,\n",
              "         639,   519,  3209,  5455,  6409,   600,   625,   153,    38,\n",
              "         194,   272,   635,   389,   140,    26,    52,    40,   272,\n",
              "          15,    84,    38,   466,  1679, 12350,  1036,   999,     3,\n",
              "          96,     2,   318,    34,   134,   169,    40,  2752,     3,\n",
              "          77,   750,   168,   881,     3,   509,   571,   359,   195,\n",
              "           1,   491,     3,   172,    82,   256,  6460,    45,   926,\n",
              "         195,  2061,  6575,   603,  7031,   235,    21,   103,   931,\n",
              "         136,   394,  1316,  1917,     5,  2167,   567,  1034,  2217,\n",
              "          26,   335,  1883,    34,     3,     1,    79,   191,  3542,\n",
              "         705,    34,   954,  2751,  1341,   569,     2,    18,   135,\n",
              "        6653,   893,  3326,   133,     3,   195,    18,   133,   367,\n",
              "           5,   136,    13,   532,  1191,     5,  3051,  1308,  1865,\n",
              "           3,  4803,   119,     8,  1308,   105,   537,   136,  1181,\n",
              "          32,   836,  1640,    31,   204,    45,   585,  1346,   258,\n",
              "        3977,    98,  1976,     3,  1849,   546, 14186,    34,  3637,\n",
              "        1350,  1787,   100,     5,    39,     5,     4,   934,    65,\n",
              "         309,    55,   987,   797,  1612,    75,   537,  1433,     6,\n",
              "        1897,     6,  1205,    18,     6,    25,   104,  1902,  1421,\n",
              "         221,   100,  4468,   136,  2411,   597,   260,  1530,   787,\n",
              "        2889,   277,     2,  1425,    34,  2532,  1057,    18,    34,\n",
              "         902,  1869,   287,   872,  3501,   537,  1804,   488,  2218,\n",
              "          75,   163,     2,   456,    13,  1308,  1865,  3432,     5,\n",
              "         824,  7798,   836,  1640,  7838,  3344,    12,  1308,    31,\n",
              "        3063,   299,  2704,   851,  1052,    39,  1490,  3436,   317,\n",
              "        1170,    75,   537,    50,   327,   246,  1322,   120,     2,\n",
              "        3436,  7527,   199,   260,   579,  6176,  1800,    13,    45,\n",
              "         808,   108,     3,   865,   749,  5840,    50,   106,    76,\n",
              "         879])"
            ]
          },
          "execution_count": 40,
          "metadata": {},
          "output_type": "execute_result"
        }
      ],
      "source": [
        "np.array(X_num_tokens[21941])  "
      ]
    },
    {
      "cell_type": "code",
      "execution_count": 41,
      "metadata": {
        "colab": {
          "base_uri": "https://localhost:8080/"
        },
        "id": "n_yR_ZsfMP3T",
        "outputId": "803a6ec4-cf9c-4989-e57a-c1aa575ea8b2"
      },
      "outputs": [
        {
          "data": {
            "text/plain": [
              "array([ 872, 3501,  537, 1804,  488, 2218,   75,  163,    2,  456,   13,\n",
              "       1308, 1865, 3432,    5,  824, 7798,  836, 1640, 7838, 3344,   12,\n",
              "       1308,   31, 3063,  299, 2704,  851, 1052,   39, 1490, 3436,  317,\n",
              "       1170,   75,  537,   50,  327,  246, 1322,  120,    2, 3436, 7527,\n",
              "        199,  260,  579, 6176, 1800,   13,   45,  808,  108,    3,  865,\n",
              "        749, 5840,   50,  106,   76,  879])"
            ]
          },
          "execution_count": 41,
          "metadata": {},
          "output_type": "execute_result"
        }
      ],
      "source": [
        "X_pad[21941]    #61 den uzun olanlara bakalim,sonda kalan 61 i birakmis bastakileri silmis, ignore etmis(872 den itibaren)"
      ]
    },
    {
      "cell_type": "markdown",
      "metadata": {
        "id": "cdZpEZg0MP3V"
      },
      "source": [
        "## Train Test Split"
      ]
    },
    {
      "cell_type": "code",
      "execution_count": 42,
      "metadata": {
        "id": "uuzziHMgMP3V"
      },
      "outputs": [],
      "source": [
        "from sklearn.model_selection import train_test_split"
      ]
    },
    {
      "cell_type": "code",
      "execution_count": 43,
      "metadata": {
        "id": "-r7MDXwWMP3V"
      },
      "outputs": [],
      "source": [
        "X_train, X_test, y_train, y_test = train_test_split(X_pad, y, test_size=0.2, stratify=y, random_state=0)\n",
        "#X_pad; 61 e sabitlenmis test datam"
      ]
    },
    {
      "cell_type": "code",
      "execution_count": null,
      "metadata": {
        "id": "8mQLr7pQMP3W"
      },
      "outputs": [],
      "source": []
    },
    {
      "cell_type": "markdown",
      "metadata": {
        "id": "RY35Ev1rMP3W"
      },
      "source": [
        "## Modelling"
      ]
    },
    {
      "cell_type": "code",
      "execution_count": 101,
      "metadata": {
        "id": "GPoCxQyXMP3W"
      },
      "outputs": [],
      "source": [
        "model = Sequential()  #artik sirali sekilde modelin temelini atiyoruz"
      ]
    },
    {
      "cell_type": "code",
      "execution_count": 102,
      "metadata": {
        "id": "XXOdeDTXMP3W"
      },
      "outputs": [],
      "source": [
        "embedding_size = 50  #datadaki over fitting i engellemek icin bu boyutla oynamak gerek, 100 se 50 ye cekmek gerek..."
      ]
    },
    {
      "cell_type": "code",
      "execution_count": 103,
      "metadata": {
        "id": "w6xvp2kQMP3X"
      },
      "outputs": [],
      "source": [
        "# pip install -U numpy==1.19.5"
      ]
    },
    {
      "cell_type": "code",
      "execution_count": 104,
      "metadata": {
        "id": "WDFpf4fSMP3X"
      },
      "outputs": [],
      "source": [
        "model.add(Embedding(input_dim=num_words,     #tokenlere dönüsümü kac tokenle yaptin, dönüsümde kac token kullanilacak ;input onu belirliyor\n",
        "                                             #tokenizer da kac verdiysek onunla devam eder,15 bin verdiysek burada da o sayiyi alir\n",
        "                    output_dim=embedding_size,  #word embedding e cevirirken kac olsun, burda 50 secildi(50 boyutlu)  \n",
        "                    input_length=max_tokens))  #modele yorumlari kac boyutta yapacagim(243 bin yorumum vardi),bu bölümde embedding layer olusturuldu\n",
        "\n",
        "model.add(Dropout(0.2))  #burada modelin ögrenmesi engelleniyor, her best size da  nöronlarin belli oranini elemis oluyoruz.0.2 aldiysa %20 yi gecmez\n",
        "                         #50 boyutlunun max % 20 si gidiyor, boyutlar kirpilmis oluyor, over fitting e gitmesin diye\n",
        "model.add(GRU(units=48, return_sequences=True)) #units; word embedding veya nöron olarak gecer, 48 boyuta döndermis\n",
        "model.add(Dropout(0.2))\n",
        "\n",
        "#model.add(GRU(units=24, return_sequences=True))   #return_sequences=True , bunun default u False biz True dedik.\n",
        "# benim GRU modelindeki her t aninda olusan hidden state ell state esitleniyor,uzun yorumda ilk state unutulabilir, \n",
        "# bunlari bir sonrakine aktarirsak öncekilere bakmaya baslar, unutulan key wordlere yakalabildigi yere kadar geri döner\n",
        "#model.add(Dropout(0.2))\n",
        "\n",
        "model.add(GRU(units=12))\n",
        "\n",
        "model.add(Dense(1, activation='sigmoid')) #GRU modeli en son beslemeyi, tahminleri dense ile yapar, binary de sigmoid yaziyoruz\n",
        "#cok uzun cümlelerde de LSTM yetersiz kalabiliyor, unutma yasanabiliyor\n",
        "#layer sayisi ne kadar fazla ise ögrenme artiyor ama over fitting riski var\n",
        "#embedding size, layer sayisi ,unit sayilari(GRU), nöron sayilari over fittingi engellemek icin kullanilir\n",
        "#GRU dan sonra gelen layer hidden layerdir"
      ]
    },
    {
      "cell_type": "code",
      "execution_count": 105,
      "metadata": {
        "id": "pKOLaAIlMP3X"
      },
      "outputs": [],
      "source": [
        "optimizer = Adam(learning_rate=0.01)  #bazen learning_rate over fitting e gitmeyi engelleyen parametredir, bunlar adimlardi\n",
        "#min noktayi kacirmamak icin learning rate ile oynayabiliriz"
      ]
    },
    {
      "cell_type": "code",
      "execution_count": 106,
      "metadata": {
        "id": "zQqwx6KkMP3X"
      },
      "outputs": [],
      "source": [
        "model.compile(loss='binary_crossentropy',  #data binary yoksa categorik_crossentropy kullanilir\n",
        "              optimizer=optimizer,\n",
        "              metrics=['Recall'])   #burada recall ya da precision takip edilebilir, f1 skoru takip edilmez \n",
        "              #log=1 demek tüm olasiliklari % 100 tahmin etmek demek, loss= log(1)= 0\n",
        "              #olumlu yorumlarim 0, olumsuzlar 1, hedef labelim 1 yani olumsuz yorumlar\n",
        "              #datamiz inbalance ise loss degerine bakmamak gerek\n",
        "              #normalde DL de loss üzerinden bakilir ama inbalance datalarda loss a bakilmaz"
      ]
    },
    {
      "cell_type": "markdown",
      "metadata": {
        "id": "25o7tm7cMP3X"
      },
      "source": [
        "https://stats.stackexchange.com/questions/328926/how-many-parameters-are-in-a-gated-recurrent-unit-gru-recurrent-neural-network"
      ]
    },
    {
      "cell_type": "code",
      "execution_count": 107,
      "metadata": {
        "colab": {
          "base_uri": "https://localhost:8080/"
        },
        "id": "kuUR-OshMP3Y",
        "outputId": "2438b068-0af5-4f05-c378-213585da5b93"
      },
      "outputs": [
        {
          "name": "stdout",
          "output_type": "stream",
          "text": [
            "Model: \"sequential_4\"\n",
            "_________________________________________________________________\n",
            " Layer (type)                Output Shape              Param #   \n",
            "=================================================================\n",
            " embedding_2 (Embedding)     (None, 61, 50)            750000    \n",
            "                                                                 \n",
            " dropout_4 (Dropout)         (None, 61, 50)            0         \n",
            "                                                                 \n",
            " gru_4 (GRU)                 (None, 61, 48)            14400     \n",
            "                                                                 \n",
            " dropout_5 (Dropout)         (None, 61, 48)            0         \n",
            "                                                                 \n",
            " gru_5 (GRU)                 (None, 12)                2232      \n",
            "                                                                 \n",
            " dense_2 (Dense)             (None, 1)                 13        \n",
            "                                                                 \n",
            "=================================================================\n",
            "Total params: 766,645\n",
            "Trainable params: 766,645\n",
            "Non-trainable params: 0\n",
            "_________________________________________________________________\n"
          ]
        }
      ],
      "source": [
        "model.summary() \n",
        "# 3 x (n2 + nm + 2n) m= input, n= output  #LSTM de 3 degil 4 yapiyoruz\n",
        "# (48*48 + 50*48 + 2*48)*3 ==> m = 50, n = 48  #embedding layer in baslangic degeri 50,word embedding in boyutu 50, 48 ile cikmis\n",
        "# (24*24 + 48*24 + 2*24)*3 ==> m = 48, n = 24  #48 ile girmis 24 olarak cikmis\n",
        "# (12*12 + 24*12 + 2*12)*3 ==> m = 24, n = 12"
      ]
    },
    {
      "cell_type": "code",
      "execution_count": 108,
      "metadata": {
        "id": "5LxZGh5EMP3Y"
      },
      "outputs": [],
      "source": [
        "from tensorflow.keras.callbacks import EarlyStopping\n",
        "\n",
        "early_stop = EarlyStopping(monitor=\"val_recall\", mode=\"max\",  #validation i takip etmek icin val_recall verdik, score lar loss ise min yapmak gerek\n",
        "                           verbose=1, patience = 1, restore_best_weights=True) #patience 1, 2 yi gecmemeli, restore_best_weights =True kullanmak gerek\n",
        "                                                #restore_best_weight ;egitim kötü bir oranda bitse bile best i secer o nedenle bunu kullanmak gerek\n",
        "                           #loss da min olsun isteriz, recall da ise max olsun isteriz "
      ]
    },
    {
      "cell_type": "code",
      "execution_count": null,
      "metadata": {
        "id": "WPaOHrkgEUW2"
      },
      "outputs": [],
      "source": []
    },
    {
      "cell_type": "code",
      "execution_count": 109,
      "metadata": {
        "colab": {
          "base_uri": "https://localhost:8080/"
        },
        "id": "JSHMJXiRMP3Z",
        "outputId": "0ed0a81e-310b-451b-d90e-fd0350bf5229"
      },
      "outputs": [
        {
          "data": {
            "text/plain": [
              "array([0.52975426, 8.90215702])"
            ]
          },
          "execution_count": 109,
          "metadata": {},
          "output_type": "execute_result"
        }
      ],
      "source": [
        "from sklearn.utils import class_weight\n",
        "classes_weights = class_weight.compute_sample_weight(class_weight='balanced', y=y_train)\n",
        "pd.Series(classes_weights).unique()\n",
        "#olumlu yorumlara verdigi agirlik 0.52 iken olumsuzlarin agirligi 8.90\n",
        "#DL de hem sample_weight hem de class_weight kullanilir, sample_weight kötü tahminlere daha cok yogunlasir"
      ]
    },
    {
      "cell_type": "markdown",
      "metadata": {
        "id": "E2Mm-c-Yg1PU"
      },
      "source": [
        "https://keras.io/getting_started/faq/#why-is-my-training-loss-much-higher-than-my-testing-loss"
      ]
    },
    {
      "cell_type": "code",
      "execution_count": 110,
      "metadata": {
        "colab": {
          "base_uri": "https://localhost:8080/"
        },
        "id": "Aq7oVrxLMP3Z",
        "outputId": "360250af-431e-4fa7-b8b0-d5ef1686eb0d"
      },
      "outputs": [
        {
          "name": "stdout",
          "output_type": "stream",
          "text": [
            "Epoch 1/10\n",
            "761/761 [==============================] - 76s 95ms/step - loss: 0.3230 - recall: 0.8554 - val_loss: 0.2495 - val_recall: 0.8929\n",
            "Epoch 2/10\n",
            "761/761 [==============================] - ETA: 0s - loss: 0.2007 - recall: 0.9240Restoring model weights from the end of the best epoch: 1.\n",
            "761/761 [==============================] - 71s 94ms/step - loss: 0.2007 - recall: 0.9240 - val_loss: 0.1568 - val_recall: 0.7865\n",
            "Epoch 2: early stopping\n"
          ]
        },
        {
          "data": {
            "text/plain": [
              "<keras.callbacks.History at 0x2b03f2abe20>"
            ]
          },
          "execution_count": 110,
          "metadata": {},
          "output_type": "execute_result"
        }
      ],
      "source": [
        "model.fit(X_train, y_train, epochs=10, batch_size=256, sample_weight= classes_weights,  #batch_size 2 ve katlari olmali,over fitting giderilemezse bunu artir\n",
        "         validation_data=(X_test, y_test), callbacks=[early_stop])   #burasi köseli parantezde yazilmali\n",
        "         #over size giderilemezse epoch u kücült 1 yap, modelin ezberlemesini istemiyorsak batch_size i büyütebiliriz"
      ]
    },
    {
      "cell_type": "code",
      "execution_count": 111,
      "metadata": {},
      "outputs": [],
      "source": [
        "#inbalance datalarda loss a bakmiyoruz"
      ]
    },
    {
      "cell_type": "markdown",
      "metadata": {
        "id": "fUZGuKlgMP3Z"
      },
      "source": [
        "## Model evaluation"
      ]
    },
    {
      "cell_type": "code",
      "execution_count": 112,
      "metadata": {
        "colab": {
          "base_uri": "https://localhost:8080/",
          "height": 112
        },
        "id": "FY1--hF-MP3Z",
        "outputId": "5939da35-dd3f-447a-f217-952e23e52b10"
      },
      "outputs": [
        {
          "data": {
            "text/html": [
              "<div>\n",
              "<style scoped>\n",
              "    .dataframe tbody tr th:only-of-type {\n",
              "        vertical-align: middle;\n",
              "    }\n",
              "\n",
              "    .dataframe tbody tr th {\n",
              "        vertical-align: top;\n",
              "    }\n",
              "\n",
              "    .dataframe thead th {\n",
              "        text-align: right;\n",
              "    }\n",
              "</style>\n",
              "<table border=\"1\" class=\"dataframe\">\n",
              "  <thead>\n",
              "    <tr style=\"text-align: right;\">\n",
              "      <th></th>\n",
              "      <th>loss</th>\n",
              "      <th>recall</th>\n",
              "      <th>val_loss</th>\n",
              "      <th>val_recall</th>\n",
              "    </tr>\n",
              "  </thead>\n",
              "  <tbody>\n",
              "    <tr>\n",
              "      <th>0</th>\n",
              "      <td>0.323050</td>\n",
              "      <td>0.855406</td>\n",
              "      <td>0.249489</td>\n",
              "      <td>0.892870</td>\n",
              "    </tr>\n",
              "    <tr>\n",
              "      <th>1</th>\n",
              "      <td>0.200724</td>\n",
              "      <td>0.923956</td>\n",
              "      <td>0.156816</td>\n",
              "      <td>0.786472</td>\n",
              "    </tr>\n",
              "  </tbody>\n",
              "</table>\n",
              "</div>"
            ],
            "text/plain": [
              "       loss    recall  val_loss  val_recall\n",
              "0  0.323050  0.855406  0.249489    0.892870\n",
              "1  0.200724  0.923956  0.156816    0.786472"
            ]
          },
          "execution_count": 112,
          "metadata": {},
          "output_type": "execute_result"
        }
      ],
      "source": [
        "model_loss = pd.DataFrame(model.history.history)  #tüm degerleri ayri ayri döndürdü\n",
        "model_loss.head()"
      ]
    },
    {
      "cell_type": "code",
      "execution_count": 113,
      "metadata": {},
      "outputs": [],
      "source": [
        "#patience yi 4 alinca over fitting e gitti"
      ]
    },
    {
      "cell_type": "code",
      "execution_count": 114,
      "metadata": {
        "colab": {
          "base_uri": "https://localhost:8080/",
          "height": 283
        },
        "id": "BDVnpeScMP3Z",
        "outputId": "a471f720-ed0d-430e-80f0-3e3c35154c05"
      },
      "outputs": [
        {
          "data": {
            "text/plain": [
              "<AxesSubplot:>"
            ]
          },
          "execution_count": 114,
          "metadata": {},
          "output_type": "execute_result"
        },
        {
          "data": {
            "image/png": "[encoded data removed]",
            "text/plain": [
              "<Figure size 432x288 with 1 Axes>"
            ]
          },
          "metadata": {
            "needs_background": "light"
          },
          "output_type": "display_data"
        }
      ],
      "source": [
        "model_loss.plot()"
      ]
    },
    {
      "cell_type": "code",
      "execution_count": null,
      "metadata": {
        "id": "jfo1PLy9FW32"
      },
      "outputs": [],
      "source": []
    },
    {
      "cell_type": "code",
      "execution_count": 115,
      "metadata": {
        "colab": {
          "base_uri": "https://localhost:8080/"
        },
        "id": "VW9rUaYgMP3a",
        "outputId": "b4ec2844-19fe-45b0-9380-b3c1e3e57dd8"
      },
      "outputs": [
        {
          "name": "stdout",
          "output_type": "stream",
          "text": [
            "6088/6088 [==============================] - 54s 9ms/step - loss: 0.2245 - recall: 0.9495\n"
          ]
        },
        {
          "data": {
            "text/plain": [
              "[0.22445048391819, 0.9494561553001404]"
            ]
          },
          "execution_count": 115,
          "metadata": {},
          "output_type": "execute_result"
        }
      ],
      "source": [
        "model.evaluate(X_train, y_train)  #ilki loss 2 si recall degerini döndürür"
      ]
    },
    {
      "cell_type": "code",
      "execution_count": 116,
      "metadata": {
        "colab": {
          "base_uri": "https://localhost:8080/"
        },
        "id": "hVZ2aAfMMP3a",
        "outputId": "5b1f4f1b-29a9-4cc2-fb94-9559a0010f6a"
      },
      "outputs": [
        {
          "name": "stdout",
          "output_type": "stream",
          "text": [
            "1522/1522 [==============================] - 13s 8ms/step - loss: 0.2495 - recall: 0.8929\n"
          ]
        },
        {
          "data": {
            "text/plain": [
              "[0.2494889795780182, 0.8928701877593994]"
            ]
          },
          "execution_count": 116,
          "metadata": {},
          "output_type": "execute_result"
        }
      ],
      "source": [
        "model.evaluate(X_test, y_test)"
      ]
    },
    {
      "cell_type": "code",
      "execution_count": 117,
      "metadata": {
        "colab": {
          "base_uri": "https://localhost:8080/"
        },
        "id": "lh2CIUcJy9dt",
        "outputId": "5ce110aa-8903-4e8a-a417-f46f74a9627a"
      },
      "outputs": [
        {
          "name": "stdout",
          "output_type": "stream",
          "text": [
            "6088/6088 [==============================] - 52s 8ms/step\n",
            "[[167825  16031]\n",
            " [   553  10388]]\n",
            "-------------------------------------------------------\n",
            "              precision    recall  f1-score   support\n",
            "\n",
            "           0       1.00      0.91      0.95    183856\n",
            "           1       0.39      0.95      0.56     10941\n",
            "\n",
            "    accuracy                           0.91    194797\n",
            "   macro avg       0.69      0.93      0.75    194797\n",
            "weighted avg       0.96      0.91      0.93    194797\n",
            "\n"
          ]
        }
      ],
      "source": [
        "from sklearn.metrics import confusion_matrix, classification_report, accuracy_score, f1_score, roc_auc_score\n",
        "\n",
        "\n",
        "y_train_pred = model.predict(X_train) >= 0.5  #0.5 den büyükleri true  ya döndürüyorum, kücükleri false a döndürüyorum\n",
        "\n",
        "print(confusion_matrix(y_train, y_train_pred))\n",
        "print(\"-------------------------------------------------------\")\n",
        "print(classification_report(y_train, y_train_pred))"
      ]
    },
    {
      "cell_type": "code",
      "execution_count": 118,
      "metadata": {
        "colab": {
          "base_uri": "https://localhost:8080/"
        },
        "id": "PfAxi22ry8t9",
        "outputId": "55618b50-f2ae-4483-bc1d-25efd13579cd"
      },
      "outputs": [
        {
          "name": "stdout",
          "output_type": "stream",
          "text": [
            "1522/1522 [==============================] - 17s 11ms/step\n",
            "[[41508  4457]\n",
            " [  293  2442]]\n",
            "-------------------------------------------------------\n",
            "              precision    recall  f1-score   support\n",
            "\n",
            "           0       0.99      0.90      0.95     45965\n",
            "           1       0.35      0.89      0.51      2735\n",
            "\n",
            "    accuracy                           0.90     48700\n",
            "   macro avg       0.67      0.90      0.73     48700\n",
            "weighted avg       0.96      0.90      0.92     48700\n",
            "\n"
          ]
        }
      ],
      "source": [
        "y_pred = model.predict(X_test) >= 0.5\n",
        "\n",
        "print(confusion_matrix(y_test, y_pred))\n",
        "print(\"-------------------------------------------------------\")\n",
        "print(classification_report(y_test, y_pred))"
      ]
    },
    {
      "cell_type": "code",
      "execution_count": 119,
      "metadata": {
        "colab": {
          "base_uri": "https://localhost:8080/",
          "height": 295
        },
        "id": "kF0ks_UphsVL",
        "outputId": "9b0425c9-21db-4ee5-912f-3e5633eb51e7"
      },
      "outputs": [
        {
          "name": "stdout",
          "output_type": "stream",
          "text": [
            "1522/1522 [==============================] - 17s 11ms/step\n"
          ]
        },
        {
          "data": {
            "image/png": "[encoded data removed]",
            "text/plain": [
              "<Figure size 432x288 with 1 Axes>"
            ]
          },
          "metadata": {
            "needs_background": "light"
          },
          "output_type": "display_data"
        }
      ],
      "source": [
        "from sklearn.metrics import precision_recall_curve, average_precision_score\n",
        "import matplotlib.pyplot as plt\n",
        "\n",
        "y_pred_proba = model.predict(X_test)\n",
        "precision, recall, thresholds = precision_recall_curve(y_test, y_pred_proba,)  #ihtiyacimiz sadece prec. ve recall\n",
        "plt.plot([1,0],[0,1],'k--') # önce x 1 y 0, sonra x 0 y 1 i secip kesik kesik ciz diyorum\n",
        "plt.plot(recall, precision)\n",
        "plt.xlabel('recall')\n",
        "plt.ylabel('precision')\n",
        "plt.title('precision recall curve')\n",
        "plt.show()"
      ]
    },
    {
      "cell_type": "code",
      "execution_count": 120,
      "metadata": {
        "colab": {
          "base_uri": "https://localhost:8080/"
        },
        "id": "PngCc_Ofk3ek",
        "outputId": "4b2d11ad-7949-463c-fbcf-a95ed60c8461"
      },
      "outputs": [
        {
          "data": {
            "text/plain": [
              "0.7301096627360957"
            ]
          },
          "execution_count": 120,
          "metadata": {},
          "output_type": "execute_result"
        }
      ],
      "source": [
        "average_precision_score(y_test, y_pred_proba)"
      ]
    },
    {
      "cell_type": "code",
      "execution_count": null,
      "metadata": {
        "id": "6MUOHCCa62xP"
      },
      "outputs": [],
      "source": []
    },
    {
      "cell_type": "markdown",
      "metadata": {
        "id": "MemCfXzR63sT"
      },
      "source": [
        "## Scores without sample_weight"
      ]
    },
    {
      "cell_type": "markdown",
      "metadata": {
        "colab": {
          "base_uri": "https://localhost:8080/",
          "height": 134
        },
        "id": "P7pmIllZ661o",
        "outputId": "684ce8c4-676f-4eac-cb47-bb2b0c68d79b"
      },
      "source": [
        "Test set\n",
        "\n",
        "                precision    recall  f1-score   support\n",
        "\n",
        "           0       0.98      0.99      0.98     45965\n",
        "           1       0.72      0.63      0.67      2735\n",
        "\n",
        "    accuracy                           0.97     48700\n",
        "   macro avg       0.85      0.81      0.83     48700\n",
        "weighted avg       0.96      0.97      0.96     48700\n",
        " \n",
        " \n",
        " \n",
        " \n",
        " Train set             \n",
        "              precision    recall  f1-score   support\n",
        "\n",
        "           0       0.99      0.99      0.99    183856\n",
        "           1       0.87      0.80      0.84     10941\n",
        "\n",
        "    accuracy                           0.98    194797\n",
        "   macro avg       0.93      0.90      0.91    194797\n",
        "weighted avg       0.98      0.98      0.98    194797"
      ]
    },
    {
      "cell_type": "code",
      "execution_count": null,
      "metadata": {
        "id": "qbZ3cnXP67Vf"
      },
      "outputs": [],
      "source": [
        "#hic bir islem yapmadan da over fitting e gittigini gördük\n",
        "#kücük datalarda ML büyük datalarda DL tavsiye edilir"
      ]
    },
    {
      "cell_type": "markdown",
      "metadata": {
        "id": "b0fcHGnY0aH9"
      },
      "source": [
        "## Model Saving"
      ]
    },
    {
      "cell_type": "code",
      "execution_count": null,
      "metadata": {},
      "outputs": [],
      "source": [
        "#yukarida egittigimiz modeli kaydediyoruz DP de h5 ile kaydediyoruz"
      ]
    },
    {
      "cell_type": "code",
      "execution_count": 121,
      "metadata": {
        "id": "Io2S2n_30UAx"
      },
      "outputs": [],
      "source": [
        "model.save('review_hepsiburada.h5')"
      ]
    },
    {
      "cell_type": "markdown",
      "metadata": {
        "id": "RvHJTK3N1M8I"
      },
      "source": [
        "##Loading Model"
      ]
    },
    {
      "cell_type": "code",
      "execution_count": 122,
      "metadata": {
        "id": "6fF_Moci1Rl3"
      },
      "outputs": [],
      "source": [
        "from tensorflow.keras.models import load_model\n",
        "model_review = load_model('review_hepsiburada.h5')"
      ]
    },
    {
      "cell_type": "markdown",
      "metadata": {
        "id": "U3Z5WQt0MP3e"
      },
      "source": [
        "## Predicton"
      ]
    },
    {
      "cell_type": "code",
      "execution_count": 123,
      "metadata": {
        "id": "XXl_3XopMP3e"
      },
      "outputs": [],
      "source": [
        "review1 = \"çok beğendim herkese tavsiye ederim\"\n",
        "review2 = \"süper ürün\"\n",
        "review3 = \"büyük bir hayal kırıklığı yaşadım bu ürünü bu markaya yakıştıramadım\"\n",
        "review4 = \"kelimelerle tarif edilemez\"\n",
        "review5 = \"tasarımı harika ancak kargo çok geç geldi ve ürün açılmıştı hayal kırıklığı gerçekten\"\n",
        "review6 = \"hiç resimde gösterildiği gibi değil\"\n",
        "review7 = \"kötü yorumlar gözümü korkutmuştu ancak hiçbir sorun yaşamadım.\"\n",
        "review8 = \"hiç bu kadar kötü bir satıcıya denk gelmemiştim ürün siparişimi iptal ediyorum\"\n",
        "review9 = \"tam bir fiyat performans ürünü\"\n",
        "review10 = \"beklediğim gibi çıkmadı\"\n",
        "review11 = \"on numara beş yıldız\"\n",
        "review12 = \"üründe sıkıntı var\"\n",
        "review13 = \"televizyonun görüntü kalitesi çok kötü, dün akşam evde arkadaşlarla toplandık. yedik, içtik, sohbet ettik. Sonra televizyonda Türkiye - İngiltere maçını seyrettik. \"\n",
        "review14 = '1 gün gibi kısa bir sürede elime geçti. Ve bu fıyata süper bir ürün tavsiye ederim. Lakin eli büyük olan kişiler daha büyük modelini tercih edebilirler ortaboy ürün. Teşekkürler '\n",
        "reviews = [review1, review2, review3, review4, review5, review6, review7, review8, review9, review10, review11, review12, review13, review14]"
      ]
    },
    {
      "cell_type": "code",
      "execution_count": 124,
      "metadata": {
        "id": "XhxQQSEqMP3e"
      },
      "outputs": [],
      "source": [
        "tokens = tokenizer.texts_to_sequences(reviews)  # toknizer; datamda en cok kullanilan ilk 15 bin token\n",
        "#bunlari numericlere dönüstürdük"
      ]
    },
    {
      "cell_type": "code",
      "execution_count": 125,
      "metadata": {
        "colab": {
          "base_uri": "https://localhost:8080/"
        },
        "id": "GDePbQkGzpah",
        "outputId": "a32a3253-9202-4697-f992-dee81ad503d2"
      },
      "outputs": [
        {
          "data": {
            "text/plain": [
              "[[1, 146, 70, 9, 10],\n",
              " [73, 4],\n",
              " [104, 2, 1032, 2333, 1466, 5, 19, 5, 1779, 11413],\n",
              " [4212, 11835],\n",
              " [553, 61, 82, 27, 1, 458, 33, 3, 4, 1032, 2333, 37],\n",
              " [46, 1096, 6419, 20, 50],\n",
              " [177, 735, 7728, 82, 263, 105, 326],\n",
              " [46, 5, 30, 177, 2, 1717, 1244, 4, 1723, 4600, 83],\n",
              " [74, 2, 28, 111, 19],\n",
              " [637, 20, 857],\n",
              " [395, 179, 1001, 511],\n",
              " [447, 147, 34],\n",
              " [7070, 318, 62, 1, 177, 375, 473, 286, 6559, 1412, 41, 9636, 774],\n",
              " [38,\n",
              "  40,\n",
              "  20,\n",
              "  108,\n",
              "  2,\n",
              "  161,\n",
              "  29,\n",
              "  150,\n",
              "  3,\n",
              "  5,\n",
              "  2855,\n",
              "  73,\n",
              "  2,\n",
              "  4,\n",
              "  9,\n",
              "  10,\n",
              "  1159,\n",
              "  2430,\n",
              "  104,\n",
              "  113,\n",
              "  2068,\n",
              "  11,\n",
              "  104,\n",
              "  1150,\n",
              "  175,\n",
              "  12730,\n",
              "  4,\n",
              "  16]]"
            ]
          },
          "execution_count": 125,
          "metadata": {},
          "output_type": "execute_result"
        }
      ],
      "source": [
        "tokens"
      ]
    },
    {
      "cell_type": "code",
      "execution_count": 126,
      "metadata": {
        "colab": {
          "base_uri": "https://localhost:8080/"
        },
        "id": "NNbh_gkTMP3e",
        "outputId": "2a2da1ca-d861-4a24-8002-b20d4f889de1"
      },
      "outputs": [
        {
          "data": {
            "text/plain": [
              "(14, 61)"
            ]
          },
          "execution_count": 126,
          "metadata": {},
          "output_type": "execute_result"
        }
      ],
      "source": [
        "tokens_pad = pad_sequences(tokens, maxlen=max_tokens)\n",
        "tokens_pad.shape"
      ]
    },
    {
      "cell_type": "code",
      "execution_count": 127,
      "metadata": {
        "colab": {
          "base_uri": "https://localhost:8080/"
        },
        "id": "r01hpC1j8zrx",
        "outputId": "6dbd0dca-e0dc-4aec-d714-a92d7ed5e269"
      },
      "outputs": [
        {
          "name": "stdout",
          "output_type": "stream",
          "text": [
            "1/1 [==============================] - 1s 673ms/step\n"
          ]
        },
        {
          "data": {
            "text/plain": [
              "array([[0.01290083],\n",
              "       [0.03212859],\n",
              "       [0.988829  ],\n",
              "       [0.1558206 ],\n",
              "       [0.88790196],\n",
              "       [0.98100656],\n",
              "       [0.89972705],\n",
              "       [0.9774963 ],\n",
              "       [0.16580062],\n",
              "       [0.9769131 ],\n",
              "       [0.02722433],\n",
              "       [0.42129093],\n",
              "       [0.966978  ],\n",
              "       [0.03389958]], dtype=float32)"
            ]
          },
          "execution_count": 127,
          "metadata": {},
          "output_type": "execute_result"
        }
      ],
      "source": [
        "prob = model_review.predict(tokens_pad)  #bunu tek boyuta düsürmek gerek, asagida yaptik\n",
        "prob"
      ]
    },
    {
      "cell_type": "code",
      "execution_count": 128,
      "metadata": {
        "colab": {
          "base_uri": "https://localhost:8080/"
        },
        "id": "RTGxn4qwMP3f",
        "outputId": "764727eb-beb2-4300-d59f-1f6a9047d09f"
      },
      "outputs": [
        {
          "name": "stdout",
          "output_type": "stream",
          "text": [
            "1/1 [==============================] - 0s 32ms/step\n"
          ]
        },
        {
          "data": {
            "text/plain": [
              "array([[0],\n",
              "       [0],\n",
              "       [1],\n",
              "       [0],\n",
              "       [1],\n",
              "       [1],\n",
              "       [1],\n",
              "       [1],\n",
              "       [0],\n",
              "       [1],\n",
              "       [0],\n",
              "       [0],\n",
              "       [1],\n",
              "       [0]])"
            ]
          },
          "execution_count": 128,
          "metadata": {},
          "output_type": "execute_result"
        }
      ],
      "source": [
        "pred = (model_review.predict(tokens_pad) >0.5).astype(\"int\")\n",
        "pred\n",
        "#hangi class a ait onu gösteriyor, 0.5 ten büyükleri 1 e True ya dönüstürür, Truelar olumsuz yorum"
      ]
    },
    {
      "cell_type": "code",
      "execution_count": 129,
      "metadata": {
        "colab": {
          "base_uri": "https://localhost:8080/",
          "height": 488
        },
        "id": "MSL1R81HMP3f",
        "outputId": "0f42965a-47d3-4c72-e72c-44a8c46aea88"
      },
      "outputs": [
        {
          "data": {
            "text/html": [
              "<div>\n",
              "<style scoped>\n",
              "    .dataframe tbody tr th:only-of-type {\n",
              "        vertical-align: middle;\n",
              "    }\n",
              "\n",
              "    .dataframe tbody tr th {\n",
              "        vertical-align: top;\n",
              "    }\n",
              "\n",
              "    .dataframe thead th {\n",
              "        text-align: right;\n",
              "    }\n",
              "</style>\n",
              "<table border=\"1\" class=\"dataframe\">\n",
              "  <thead>\n",
              "    <tr style=\"text-align: right;\">\n",
              "      <th></th>\n",
              "      <th>Review</th>\n",
              "      <th>prob</th>\n",
              "      <th>classes</th>\n",
              "    </tr>\n",
              "  </thead>\n",
              "  <tbody>\n",
              "    <tr>\n",
              "      <th>0</th>\n",
              "      <td>çok beğendim herkese tavsiye ederim</td>\n",
              "      <td>0.012901</td>\n",
              "      <td>0</td>\n",
              "    </tr>\n",
              "    <tr>\n",
              "      <th>1</th>\n",
              "      <td>süper ürün</td>\n",
              "      <td>0.032129</td>\n",
              "      <td>0</td>\n",
              "    </tr>\n",
              "    <tr>\n",
              "      <th>2</th>\n",
              "      <td>büyük bir hayal kırıklığı yaşadım bu ürünü bu markaya yakıştıramadım</td>\n",
              "      <td>0.988829</td>\n",
              "      <td>1</td>\n",
              "    </tr>\n",
              "    <tr>\n",
              "      <th>3</th>\n",
              "      <td>kelimelerle tarif edilemez</td>\n",
              "      <td>0.155821</td>\n",
              "      <td>0</td>\n",
              "    </tr>\n",
              "    <tr>\n",
              "      <th>4</th>\n",
              "      <td>tasarımı harika ancak kargo çok geç geldi ve ürün açılmıştı hayal kırıklığı gerçekten</td>\n",
              "      <td>0.887902</td>\n",
              "      <td>1</td>\n",
              "    </tr>\n",
              "    <tr>\n",
              "      <th>5</th>\n",
              "      <td>hiç resimde gösterildiği gibi değil</td>\n",
              "      <td>0.981007</td>\n",
              "      <td>1</td>\n",
              "    </tr>\n",
              "    <tr>\n",
              "      <th>6</th>\n",
              "      <td>kötü yorumlar gözümü korkutmuştu ancak hiçbir sorun yaşamadım.</td>\n",
              "      <td>0.899727</td>\n",
              "      <td>1</td>\n",
              "    </tr>\n",
              "    <tr>\n",
              "      <th>7</th>\n",
              "      <td>hiç bu kadar kötü bir satıcıya denk gelmemiştim ürün siparişimi iptal ediyorum</td>\n",
              "      <td>0.977496</td>\n",
              "      <td>1</td>\n",
              "    </tr>\n",
              "    <tr>\n",
              "      <th>8</th>\n",
              "      <td>tam bir fiyat performans ürünü</td>\n",
              "      <td>0.165801</td>\n",
              "      <td>0</td>\n",
              "    </tr>\n",
              "    <tr>\n",
              "      <th>9</th>\n",
              "      <td>beklediğim gibi çıkmadı</td>\n",
              "      <td>0.976913</td>\n",
              "      <td>1</td>\n",
              "    </tr>\n",
              "    <tr>\n",
              "      <th>10</th>\n",
              "      <td>on numara beş yıldız</td>\n",
              "      <td>0.027224</td>\n",
              "      <td>0</td>\n",
              "    </tr>\n",
              "    <tr>\n",
              "      <th>11</th>\n",
              "      <td>üründe sıkıntı var</td>\n",
              "      <td>0.421291</td>\n",
              "      <td>0</td>\n",
              "    </tr>\n",
              "    <tr>\n",
              "      <th>12</th>\n",
              "      <td>televizyonun görüntü kalitesi çok kötü, dün akşam evde arkadaşlarla toplandık. yedik, içtik, sohbet ettik. Sonra televizyonda Türkiye - İngiltere maçını seyrettik.</td>\n",
              "      <td>0.966978</td>\n",
              "      <td>1</td>\n",
              "    </tr>\n",
              "    <tr>\n",
              "      <th>13</th>\n",
              "      <td>1 gün gibi kısa bir sürede elime geçti. Ve bu fıyata süper bir ürün tavsiye ederim. Lakin eli büyük olan kişiler daha büyük modelini tercih edebilirler ortaboy ürün. Teşekkürler</td>\n",
              "      <td>0.033900</td>\n",
              "      <td>0</td>\n",
              "    </tr>\n",
              "  </tbody>\n",
              "</table>\n",
              "</div>"
            ],
            "text/plain": [
              "                                                                                                                                                                                Review  \\\n",
              "0                                                                                                                                                  çok beğendim herkese tavsiye ederim   \n",
              "1                                                                                                                                                                           süper ürün   \n",
              "2                                                                                                                 büyük bir hayal kırıklığı yaşadım bu ürünü bu markaya yakıştıramadım   \n",
              "3                                                                                                                                                           kelimelerle tarif edilemez   \n",
              "4                                                                                                tasarımı harika ancak kargo çok geç geldi ve ürün açılmıştı hayal kırıklığı gerçekten   \n",
              "5                                                                                                                                                  hiç resimde gösterildiği gibi değil   \n",
              "6                                                                                                                       kötü yorumlar gözümü korkutmuştu ancak hiçbir sorun yaşamadım.   \n",
              "7                                                                                                       hiç bu kadar kötü bir satıcıya denk gelmemiştim ürün siparişimi iptal ediyorum   \n",
              "8                                                                                                                                                       tam bir fiyat performans ürünü   \n",
              "9                                                                                                                                                              beklediğim gibi çıkmadı   \n",
              "10                                                                                                                                                                on numara beş yıldız   \n",
              "11                                                                                                                                                                  üründe sıkıntı var   \n",
              "12                televizyonun görüntü kalitesi çok kötü, dün akşam evde arkadaşlarla toplandık. yedik, içtik, sohbet ettik. Sonra televizyonda Türkiye - İngiltere maçını seyrettik.    \n",
              "13  1 gün gibi kısa bir sürede elime geçti. Ve bu fıyata süper bir ürün tavsiye ederim. Lakin eli büyük olan kişiler daha büyük modelini tercih edebilirler ortaboy ürün. Teşekkürler    \n",
              "\n",
              "        prob  classes  \n",
              "0   0.012901        0  \n",
              "1   0.032129        0  \n",
              "2   0.988829        1  \n",
              "3   0.155821        0  \n",
              "4   0.887902        1  \n",
              "5   0.981007        1  \n",
              "6   0.899727        1  \n",
              "7   0.977496        1  \n",
              "8   0.165801        0  \n",
              "9   0.976913        1  \n",
              "10  0.027224        0  \n",
              "11  0.421291        0  \n",
              "12  0.966978        1  \n",
              "13  0.033900        0  "
            ]
          },
          "execution_count": 129,
          "metadata": {},
          "output_type": "execute_result"
        }
      ],
      "source": [
        "pd.set_option('display.max_colwidth', None)  #max,hücrenin genisligini en uzun text e göre ayarlar,default none da ayni islemi yapar\n",
        "my_dict = {\"Review\":reviews, \"prob\":[i[0] for i in prob], \"classes\":[i[0] for i in pred]} #tek boyuta burada düsürdük\n",
        "pd.DataFrame(my_dict)"
      ]
    },
    {
      "cell_type": "code",
      "execution_count": null,
      "metadata": {
        "id": "r6d1Qg9QIHnn"
      },
      "outputs": [],
      "source": []
    }
  ],
  "metadata": {
    "accelerator": "GPU",
    "colab": {
      "provenance": []
    },
    "gpuClass": "standard",
    "kernelspec": {
      "display_name": "Python 3.10.2 64-bit (system)",
      "language": "python",
      "name": "python3"
    },
    "language_info": {
      "codemirror_mode": {
        "name": "ipython",
        "version": 3
      },
      "file_extension": ".py",
      "mimetype": "text/x-python",
      "name": "python",
      "nbconvert_exporter": "python",
      "pygments_lexer": "ipython3",
      "version": "3.10.2"
    },
    "vscode": {
      "interpreter": {
        "hash": "6572bf9942b77bb3ec5a538efc62ddcece7cc03514ee18e10ea37ae91d0af093"
      }
    }
  },
  "nbformat": 4,
  "nbformat_minor": 0
}
